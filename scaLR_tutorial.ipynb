{
 "cells": [
  {
   "cell_type": "markdown",
   "id": "understood-farmer",
   "metadata": {
    "id": "understood-farmer",
    "tags": []
   },
   "source": [
    "# Use scaLR for cell type classification\n",
    "\n",
    "This notebook demonstrates cell type classification for scRNA-seq query data by identifying the most probable cell type labels using either built-in models or user-trained custom models."
   ]
  },
  {
   "cell_type": "markdown",
   "id": "assisted-clear",
   "metadata": {
    "id": "assisted-clear"
   },
   "source": [
    "## Install scaLR"
   ]
  },
  {
   "cell_type": "markdown",
   "id": "0e17ebfc-9ffd-43e6-9975-b06c23defcfe",
   "metadata": {
    "id": "automotive-traveler",
    "outputId": "46e8894d-a75e-43ca-92a7-b44867bd5fc0",
    "tags": []
   },
   "source": [
    "### For smooth run of scaLAR user can create a conda environment for Python=3.9"
   ]
  },
  {
   "cell_type": "code",
   "execution_count": null,
   "id": "c25745ee-77e8-4ff4-924a-d5ccee005e7d",
   "metadata": {},
   "outputs": [],
   "source": [
    "!conda create -n scaLR_env python=3.9\n",
    "!conda activate scaLR_env"
   ]
  },
  {
   "cell_type": "markdown",
   "id": "b84aa322-e600-41c4-8d12-05fe531e0faa",
   "metadata": {},
   "source": [
    "### Then install pytorch using below commandhttps://doi.org/10.1101/2023.01.02.522155"
   ]
  },
  {
   "cell_type": "code",
   "execution_count": null,
   "id": "d1ee734d-7007-4886-96f6-7e213d9db388",
   "metadata": {},
   "outputs": [],
   "source": [
    "!pip install torch==2.2.0 torchvision==0.17.0 torchaudio==2.2.0 --index-url https://download.pytorch.org/whl/cu118"
   ]
  },
  {
   "cell_type": "markdown",
   "id": "17e2fd72-df1a-4899-a293-34f41c0dc85d",
   "metadata": {
    "id": "organized-wedding"
   },
   "source": [
    "### Last step clone the git repository and install required packages"
   ]
  },
  {
   "cell_type": "code",
   "execution_count": null,
   "id": "071ceeb2-91e6-4058-a61a-aa2be9032581",
   "metadata": {},
   "outputs": [],
   "source": [
    "!pip install -r requirements.txt"
   ]
  },
  {
   "cell_type": "code",
   "execution_count": null,
   "id": "0b059974-3481-420f-bb87-40b5cbd46510",
   "metadata": {},
   "outputs": [],
   "source": [
    "!conda activate scaLR_env"
   ]
  },
  {
   "cell_type": "markdown",
   "id": "julian-banana",
   "metadata": {
    "id": "julian-banana"
   },
   "source": [
    "## Download a scRNA-seq dataset form cellxgene and explore the dataset\n",
    "This data belong to \"early infection response of the first trimester human placenta at single-cell scale\"[https://doi.org/10.1101/2023.01.02.522155]"
   ]
  },
  {
   "cell_type": "code",
   "execution_count": null,
   "id": "naval-seminar",
   "metadata": {
    "colab": {
     "referenced_widgets": [
      "c469cfcd41b541659147f8bf0f362444"
     ]
    },
    "id": "naval-seminar",
    "outputId": "d5da1d97-db8c-4973-92e9-f9dfd61b72c2",
    "tags": []
   },
   "outputs": [],
   "source": [
    "!wget = https://datasets.cellxgene.cziscience.com/6882dc72-5194-4117-9763-e1f2ade4d062.h5ad"
   ]
  },
  {
   "cell_type": "markdown",
   "id": "passive-classics",
   "metadata": {
    "id": "passive-classics"
   },
   "source": [
    "This dataset includes 158,978 cells and 18,950 genes collected from different studies, thereby showing the practical applicability of CellTypist."
   ]
  },
  {
   "cell_type": "code",
   "execution_count": 16,
   "id": "58b6e8c4-033f-43e5-bf1f-2d6a77ee9c21",
   "metadata": {},
   "outputs": [
    {
     "data": {
      "text/html": [
       "<div>\n",
       "<style scoped>\n",
       "    .dataframe tbody tr th:only-of-type {\n",
       "        vertical-align: middle;\n",
       "    }\n",
       "\n",
       "    .dataframe tbody tr th {\n",
       "        vertical-align: top;\n",
       "    }\n",
       "\n",
       "    .dataframe thead th {\n",
       "        text-align: right;\n",
       "    }\n",
       "</style>\n",
       "<table border=\"1\" class=\"dataframe\">\n",
       "  <thead>\n",
       "    <tr style=\"text-align: right;\">\n",
       "      <th></th>\n",
       "      <th>n_counts</th>\n",
       "      <th>n_genes</th>\n",
       "      <th>percent_mito</th>\n",
       "      <th>hpi</th>\n",
       "      <th>stage</th>\n",
       "      <th>phase</th>\n",
       "      <th>donor_id</th>\n",
       "      <th>MFgenotype</th>\n",
       "      <th>infection</th>\n",
       "      <th>stage_perInfection</th>\n",
       "      <th>...</th>\n",
       "      <th>celltype_annotation</th>\n",
       "      <th>cell_type</th>\n",
       "      <th>assay</th>\n",
       "      <th>disease</th>\n",
       "      <th>organism</th>\n",
       "      <th>sex</th>\n",
       "      <th>tissue</th>\n",
       "      <th>self_reported_ethnicity</th>\n",
       "      <th>development_stage</th>\n",
       "      <th>observation_joinid</th>\n",
       "    </tr>\n",
       "  </thead>\n",
       "  <tbody>\n",
       "    <tr>\n",
       "      <th>Pla_HDBR13007974_AAACCCAAGCGTTGTT</th>\n",
       "      <td>6432.0</td>\n",
       "      <td>1904</td>\n",
       "      <td>0.019590</td>\n",
       "      <td>24h</td>\n",
       "      <td>UI_24h</td>\n",
       "      <td>G1</td>\n",
       "      <td>scDonor_Tg2_mother</td>\n",
       "      <td>Maternal</td>\n",
       "      <td>UI</td>\n",
       "      <td>UI_Tg_24h</td>\n",
       "      <td>...</td>\n",
       "      <td>F</td>\n",
       "      <td>fibroblast</td>\n",
       "      <td>10x 3' v3</td>\n",
       "      <td>normal</td>\n",
       "      <td>Homo sapiens</td>\n",
       "      <td>female</td>\n",
       "      <td>placenta</td>\n",
       "      <td>unknown</td>\n",
       "      <td>unknown</td>\n",
       "      <td>&lt;Lg-hOinxE</td>\n",
       "    </tr>\n",
       "    <tr>\n",
       "      <th>Pla_HDBR13007974_AAACCCAAGTAGTCAA</th>\n",
       "      <td>49221.0</td>\n",
       "      <td>5525</td>\n",
       "      <td>0.045489</td>\n",
       "      <td>24h</td>\n",
       "      <td>UI_24h</td>\n",
       "      <td>G1</td>\n",
       "      <td>scDonor_Tg1_fetus</td>\n",
       "      <td>Fetal</td>\n",
       "      <td>UI</td>\n",
       "      <td>UI_Tg_24h</td>\n",
       "      <td>...</td>\n",
       "      <td>VCT_fusing</td>\n",
       "      <td>placental villous trophoblast</td>\n",
       "      <td>10x 3' v3</td>\n",
       "      <td>normal</td>\n",
       "      <td>Homo sapiens</td>\n",
       "      <td>unknown</td>\n",
       "      <td>placenta</td>\n",
       "      <td>unknown</td>\n",
       "      <td>Carnegie stage 22</td>\n",
       "      <td>T=ikU*Fig%</td>\n",
       "    </tr>\n",
       "    <tr>\n",
       "      <th>Pla_HDBR13007974_AAACCCACAATGAACA</th>\n",
       "      <td>9243.0</td>\n",
       "      <td>3032</td>\n",
       "      <td>0.045332</td>\n",
       "      <td>24h</td>\n",
       "      <td>UI_24h</td>\n",
       "      <td>G1</td>\n",
       "      <td>scDonor_Tg2_mother</td>\n",
       "      <td>Maternal</td>\n",
       "      <td>UI</td>\n",
       "      <td>UI_Tg_24h</td>\n",
       "      <td>...</td>\n",
       "      <td>HBC</td>\n",
       "      <td>Hofbauer cell</td>\n",
       "      <td>10x 3' v3</td>\n",
       "      <td>normal</td>\n",
       "      <td>Homo sapiens</td>\n",
       "      <td>female</td>\n",
       "      <td>placenta</td>\n",
       "      <td>unknown</td>\n",
       "      <td>unknown</td>\n",
       "      <td>dTRvLePpDn</td>\n",
       "    </tr>\n",
       "    <tr>\n",
       "      <th>Pla_HDBR13007974_AAACCCACAGAGAGGG</th>\n",
       "      <td>7753.0</td>\n",
       "      <td>2803</td>\n",
       "      <td>0.031214</td>\n",
       "      <td>24h</td>\n",
       "      <td>UI_24h</td>\n",
       "      <td>G2M</td>\n",
       "      <td>scDonor_Tg2_mother</td>\n",
       "      <td>Maternal</td>\n",
       "      <td>UI</td>\n",
       "      <td>UI_Tg_24h</td>\n",
       "      <td>...</td>\n",
       "      <td>HBC</td>\n",
       "      <td>Hofbauer cell</td>\n",
       "      <td>10x 3' v3</td>\n",
       "      <td>normal</td>\n",
       "      <td>Homo sapiens</td>\n",
       "      <td>female</td>\n",
       "      <td>placenta</td>\n",
       "      <td>unknown</td>\n",
       "      <td>unknown</td>\n",
       "      <td>&gt;!cTlf84nF</td>\n",
       "    </tr>\n",
       "    <tr>\n",
       "      <th>Pla_HDBR13007974_AAACCCACAGTAGAAT</th>\n",
       "      <td>14361.0</td>\n",
       "      <td>3982</td>\n",
       "      <td>0.043799</td>\n",
       "      <td>24h</td>\n",
       "      <td>UI_24h</td>\n",
       "      <td>G1</td>\n",
       "      <td>scDonor_Tg1_fetus</td>\n",
       "      <td>Fetal</td>\n",
       "      <td>UI</td>\n",
       "      <td>UI_Tg_24h</td>\n",
       "      <td>...</td>\n",
       "      <td>HBC</td>\n",
       "      <td>Hofbauer cell</td>\n",
       "      <td>10x 3' v3</td>\n",
       "      <td>normal</td>\n",
       "      <td>Homo sapiens</td>\n",
       "      <td>unknown</td>\n",
       "      <td>placenta</td>\n",
       "      <td>unknown</td>\n",
       "      <td>Carnegie stage 22</td>\n",
       "      <td>;L-Xm-1k-(</td>\n",
       "    </tr>\n",
       "    <tr>\n",
       "      <th>...</th>\n",
       "      <td>...</td>\n",
       "      <td>...</td>\n",
       "      <td>...</td>\n",
       "      <td>...</td>\n",
       "      <td>...</td>\n",
       "      <td>...</td>\n",
       "      <td>...</td>\n",
       "      <td>...</td>\n",
       "      <td>...</td>\n",
       "      <td>...</td>\n",
       "      <td>...</td>\n",
       "      <td>...</td>\n",
       "      <td>...</td>\n",
       "      <td>...</td>\n",
       "      <td>...</td>\n",
       "      <td>...</td>\n",
       "      <td>...</td>\n",
       "      <td>...</td>\n",
       "      <td>...</td>\n",
       "      <td>...</td>\n",
       "      <td>...</td>\n",
       "    </tr>\n",
       "    <tr>\n",
       "      <th>Pla_HDBR13661576_TTTGTTGAGAGTACCG</th>\n",
       "      <td>50722.0</td>\n",
       "      <td>7538</td>\n",
       "      <td>0.071074</td>\n",
       "      <td>48h</td>\n",
       "      <td>Lm_48h</td>\n",
       "      <td>G1</td>\n",
       "      <td>Hrv236_fetus</td>\n",
       "      <td>Fetal</td>\n",
       "      <td>Lm</td>\n",
       "      <td>Lm_48h</td>\n",
       "      <td>...</td>\n",
       "      <td>VCT</td>\n",
       "      <td>placental villous trophoblast</td>\n",
       "      <td>10x 3' v3</td>\n",
       "      <td>listeriosis</td>\n",
       "      <td>Homo sapiens</td>\n",
       "      <td>unknown</td>\n",
       "      <td>placenta</td>\n",
       "      <td>unknown</td>\n",
       "      <td>Carnegie stage 14</td>\n",
       "      <td>E2iYWNWS?7</td>\n",
       "    </tr>\n",
       "    <tr>\n",
       "      <th>Pla_HDBR13661576_TTTGTTGAGCATATGA</th>\n",
       "      <td>16358.0</td>\n",
       "      <td>4066</td>\n",
       "      <td>0.086808</td>\n",
       "      <td>48h</td>\n",
       "      <td>Lm_48h</td>\n",
       "      <td>S</td>\n",
       "      <td>Hrv236_fetus</td>\n",
       "      <td>Fetal</td>\n",
       "      <td>Lm</td>\n",
       "      <td>Lm_48h</td>\n",
       "      <td>...</td>\n",
       "      <td>HBC</td>\n",
       "      <td>Hofbauer cell</td>\n",
       "      <td>10x 3' v3</td>\n",
       "      <td>listeriosis</td>\n",
       "      <td>Homo sapiens</td>\n",
       "      <td>unknown</td>\n",
       "      <td>placenta</td>\n",
       "      <td>unknown</td>\n",
       "      <td>Carnegie stage 14</td>\n",
       "      <td>5_j%&gt;-!e?=</td>\n",
       "    </tr>\n",
       "    <tr>\n",
       "      <th>Pla_HDBR13661576_TTTGTTGCATCCCGTT</th>\n",
       "      <td>12800.0</td>\n",
       "      <td>4219</td>\n",
       "      <td>0.018906</td>\n",
       "      <td>48h</td>\n",
       "      <td>Lm_48h</td>\n",
       "      <td>S</td>\n",
       "      <td>Hrv236_fetus</td>\n",
       "      <td>Fetal</td>\n",
       "      <td>Lm</td>\n",
       "      <td>Lm_48h</td>\n",
       "      <td>...</td>\n",
       "      <td>PV</td>\n",
       "      <td>perivascular cell</td>\n",
       "      <td>10x 3' v3</td>\n",
       "      <td>listeriosis</td>\n",
       "      <td>Homo sapiens</td>\n",
       "      <td>unknown</td>\n",
       "      <td>placenta</td>\n",
       "      <td>unknown</td>\n",
       "      <td>Carnegie stage 14</td>\n",
       "      <td>31EIW&gt;nS6G</td>\n",
       "    </tr>\n",
       "    <tr>\n",
       "      <th>Pla_HDBR13661576_TTTGTTGTCAGCTGAT</th>\n",
       "      <td>21082.0</td>\n",
       "      <td>5860</td>\n",
       "      <td>0.049094</td>\n",
       "      <td>48h</td>\n",
       "      <td>Lm_48h</td>\n",
       "      <td>S</td>\n",
       "      <td>Hrv236_fetus</td>\n",
       "      <td>Fetal</td>\n",
       "      <td>Lm</td>\n",
       "      <td>Lm_48h</td>\n",
       "      <td>...</td>\n",
       "      <td>Endo_f</td>\n",
       "      <td>endothelial cell of placenta</td>\n",
       "      <td>10x 3' v3</td>\n",
       "      <td>listeriosis</td>\n",
       "      <td>Homo sapiens</td>\n",
       "      <td>unknown</td>\n",
       "      <td>placenta</td>\n",
       "      <td>unknown</td>\n",
       "      <td>Carnegie stage 14</td>\n",
       "      <td>cfs=?TLXb#</td>\n",
       "    </tr>\n",
       "    <tr>\n",
       "      <th>Pla_HDBR13661576_TTTGTTGTCTGGTTGA</th>\n",
       "      <td>13322.0</td>\n",
       "      <td>4066</td>\n",
       "      <td>0.135040</td>\n",
       "      <td>48h</td>\n",
       "      <td>Lm_48h</td>\n",
       "      <td>G1</td>\n",
       "      <td>Hrv236_fetus</td>\n",
       "      <td>Fetal</td>\n",
       "      <td>Lm</td>\n",
       "      <td>Lm_48h</td>\n",
       "      <td>...</td>\n",
       "      <td>HBC</td>\n",
       "      <td>Hofbauer cell</td>\n",
       "      <td>10x 3' v3</td>\n",
       "      <td>listeriosis</td>\n",
       "      <td>Homo sapiens</td>\n",
       "      <td>unknown</td>\n",
       "      <td>placenta</td>\n",
       "      <td>unknown</td>\n",
       "      <td>Carnegie stage 14</td>\n",
       "      <td>mcXF{v&lt;O~s</td>\n",
       "    </tr>\n",
       "  </tbody>\n",
       "</table>\n",
       "<p>158978 rows × 32 columns</p>\n",
       "</div>"
      ],
      "text/plain": [
       "                                   n_counts  n_genes  percent_mito  hpi  \\\n",
       "Pla_HDBR13007974_AAACCCAAGCGTTGTT    6432.0     1904      0.019590  24h   \n",
       "Pla_HDBR13007974_AAACCCAAGTAGTCAA   49221.0     5525      0.045489  24h   \n",
       "Pla_HDBR13007974_AAACCCACAATGAACA    9243.0     3032      0.045332  24h   \n",
       "Pla_HDBR13007974_AAACCCACAGAGAGGG    7753.0     2803      0.031214  24h   \n",
       "Pla_HDBR13007974_AAACCCACAGTAGAAT   14361.0     3982      0.043799  24h   \n",
       "...                                     ...      ...           ...  ...   \n",
       "Pla_HDBR13661576_TTTGTTGAGAGTACCG   50722.0     7538      0.071074  48h   \n",
       "Pla_HDBR13661576_TTTGTTGAGCATATGA   16358.0     4066      0.086808  48h   \n",
       "Pla_HDBR13661576_TTTGTTGCATCCCGTT   12800.0     4219      0.018906  48h   \n",
       "Pla_HDBR13661576_TTTGTTGTCAGCTGAT   21082.0     5860      0.049094  48h   \n",
       "Pla_HDBR13661576_TTTGTTGTCTGGTTGA   13322.0     4066      0.135040  48h   \n",
       "\n",
       "                                    stage phase            donor_id  \\\n",
       "Pla_HDBR13007974_AAACCCAAGCGTTGTT  UI_24h    G1  scDonor_Tg2_mother   \n",
       "Pla_HDBR13007974_AAACCCAAGTAGTCAA  UI_24h    G1   scDonor_Tg1_fetus   \n",
       "Pla_HDBR13007974_AAACCCACAATGAACA  UI_24h    G1  scDonor_Tg2_mother   \n",
       "Pla_HDBR13007974_AAACCCACAGAGAGGG  UI_24h   G2M  scDonor_Tg2_mother   \n",
       "Pla_HDBR13007974_AAACCCACAGTAGAAT  UI_24h    G1   scDonor_Tg1_fetus   \n",
       "...                                   ...   ...                 ...   \n",
       "Pla_HDBR13661576_TTTGTTGAGAGTACCG  Lm_48h    G1        Hrv236_fetus   \n",
       "Pla_HDBR13661576_TTTGTTGAGCATATGA  Lm_48h     S        Hrv236_fetus   \n",
       "Pla_HDBR13661576_TTTGTTGCATCCCGTT  Lm_48h     S        Hrv236_fetus   \n",
       "Pla_HDBR13661576_TTTGTTGTCAGCTGAT  Lm_48h     S        Hrv236_fetus   \n",
       "Pla_HDBR13661576_TTTGTTGTCTGGTTGA  Lm_48h    G1        Hrv236_fetus   \n",
       "\n",
       "                                  MFgenotype infection stage_perInfection  \\\n",
       "Pla_HDBR13007974_AAACCCAAGCGTTGTT   Maternal        UI          UI_Tg_24h   \n",
       "Pla_HDBR13007974_AAACCCAAGTAGTCAA      Fetal        UI          UI_Tg_24h   \n",
       "Pla_HDBR13007974_AAACCCACAATGAACA   Maternal        UI          UI_Tg_24h   \n",
       "Pla_HDBR13007974_AAACCCACAGAGAGGG   Maternal        UI          UI_Tg_24h   \n",
       "Pla_HDBR13007974_AAACCCACAGTAGAAT      Fetal        UI          UI_Tg_24h   \n",
       "...                                      ...       ...                ...   \n",
       "Pla_HDBR13661576_TTTGTTGAGAGTACCG      Fetal        Lm             Lm_48h   \n",
       "Pla_HDBR13661576_TTTGTTGAGCATATGA      Fetal        Lm             Lm_48h   \n",
       "Pla_HDBR13661576_TTTGTTGCATCCCGTT      Fetal        Lm             Lm_48h   \n",
       "Pla_HDBR13661576_TTTGTTGTCAGCTGAT      Fetal        Lm             Lm_48h   \n",
       "Pla_HDBR13661576_TTTGTTGTCTGGTTGA      Fetal        Lm             Lm_48h   \n",
       "\n",
       "                                   ... celltype_annotation  \\\n",
       "Pla_HDBR13007974_AAACCCAAGCGTTGTT  ...                   F   \n",
       "Pla_HDBR13007974_AAACCCAAGTAGTCAA  ...          VCT_fusing   \n",
       "Pla_HDBR13007974_AAACCCACAATGAACA  ...                 HBC   \n",
       "Pla_HDBR13007974_AAACCCACAGAGAGGG  ...                 HBC   \n",
       "Pla_HDBR13007974_AAACCCACAGTAGAAT  ...                 HBC   \n",
       "...                                ...                 ...   \n",
       "Pla_HDBR13661576_TTTGTTGAGAGTACCG  ...                 VCT   \n",
       "Pla_HDBR13661576_TTTGTTGAGCATATGA  ...                 HBC   \n",
       "Pla_HDBR13661576_TTTGTTGCATCCCGTT  ...                  PV   \n",
       "Pla_HDBR13661576_TTTGTTGTCAGCTGAT  ...              Endo_f   \n",
       "Pla_HDBR13661576_TTTGTTGTCTGGTTGA  ...                 HBC   \n",
       "\n",
       "                                                       cell_type      assay  \\\n",
       "Pla_HDBR13007974_AAACCCAAGCGTTGTT                     fibroblast  10x 3' v3   \n",
       "Pla_HDBR13007974_AAACCCAAGTAGTCAA  placental villous trophoblast  10x 3' v3   \n",
       "Pla_HDBR13007974_AAACCCACAATGAACA                  Hofbauer cell  10x 3' v3   \n",
       "Pla_HDBR13007974_AAACCCACAGAGAGGG                  Hofbauer cell  10x 3' v3   \n",
       "Pla_HDBR13007974_AAACCCACAGTAGAAT                  Hofbauer cell  10x 3' v3   \n",
       "...                                                          ...        ...   \n",
       "Pla_HDBR13661576_TTTGTTGAGAGTACCG  placental villous trophoblast  10x 3' v3   \n",
       "Pla_HDBR13661576_TTTGTTGAGCATATGA                  Hofbauer cell  10x 3' v3   \n",
       "Pla_HDBR13661576_TTTGTTGCATCCCGTT              perivascular cell  10x 3' v3   \n",
       "Pla_HDBR13661576_TTTGTTGTCAGCTGAT   endothelial cell of placenta  10x 3' v3   \n",
       "Pla_HDBR13661576_TTTGTTGTCTGGTTGA                  Hofbauer cell  10x 3' v3   \n",
       "\n",
       "                                       disease      organism      sex  \\\n",
       "Pla_HDBR13007974_AAACCCAAGCGTTGTT       normal  Homo sapiens   female   \n",
       "Pla_HDBR13007974_AAACCCAAGTAGTCAA       normal  Homo sapiens  unknown   \n",
       "Pla_HDBR13007974_AAACCCACAATGAACA       normal  Homo sapiens   female   \n",
       "Pla_HDBR13007974_AAACCCACAGAGAGGG       normal  Homo sapiens   female   \n",
       "Pla_HDBR13007974_AAACCCACAGTAGAAT       normal  Homo sapiens  unknown   \n",
       "...                                        ...           ...      ...   \n",
       "Pla_HDBR13661576_TTTGTTGAGAGTACCG  listeriosis  Homo sapiens  unknown   \n",
       "Pla_HDBR13661576_TTTGTTGAGCATATGA  listeriosis  Homo sapiens  unknown   \n",
       "Pla_HDBR13661576_TTTGTTGCATCCCGTT  listeriosis  Homo sapiens  unknown   \n",
       "Pla_HDBR13661576_TTTGTTGTCAGCTGAT  listeriosis  Homo sapiens  unknown   \n",
       "Pla_HDBR13661576_TTTGTTGTCTGGTTGA  listeriosis  Homo sapiens  unknown   \n",
       "\n",
       "                                     tissue self_reported_ethnicity  \\\n",
       "Pla_HDBR13007974_AAACCCAAGCGTTGTT  placenta                 unknown   \n",
       "Pla_HDBR13007974_AAACCCAAGTAGTCAA  placenta                 unknown   \n",
       "Pla_HDBR13007974_AAACCCACAATGAACA  placenta                 unknown   \n",
       "Pla_HDBR13007974_AAACCCACAGAGAGGG  placenta                 unknown   \n",
       "Pla_HDBR13007974_AAACCCACAGTAGAAT  placenta                 unknown   \n",
       "...                                     ...                     ...   \n",
       "Pla_HDBR13661576_TTTGTTGAGAGTACCG  placenta                 unknown   \n",
       "Pla_HDBR13661576_TTTGTTGAGCATATGA  placenta                 unknown   \n",
       "Pla_HDBR13661576_TTTGTTGCATCCCGTT  placenta                 unknown   \n",
       "Pla_HDBR13661576_TTTGTTGTCAGCTGAT  placenta                 unknown   \n",
       "Pla_HDBR13661576_TTTGTTGTCTGGTTGA  placenta                 unknown   \n",
       "\n",
       "                                   development_stage observation_joinid  \n",
       "Pla_HDBR13007974_AAACCCAAGCGTTGTT            unknown         <Lg-hOinxE  \n",
       "Pla_HDBR13007974_AAACCCAAGTAGTCAA  Carnegie stage 22         T=ikU*Fig%  \n",
       "Pla_HDBR13007974_AAACCCACAATGAACA            unknown         dTRvLePpDn  \n",
       "Pla_HDBR13007974_AAACCCACAGAGAGGG            unknown         >!cTlf84nF  \n",
       "Pla_HDBR13007974_AAACCCACAGTAGAAT  Carnegie stage 22         ;L-Xm-1k-(  \n",
       "...                                              ...                ...  \n",
       "Pla_HDBR13661576_TTTGTTGAGAGTACCG  Carnegie stage 14         E2iYWNWS?7  \n",
       "Pla_HDBR13661576_TTTGTTGAGCATATGA  Carnegie stage 14         5_j%>-!e?=  \n",
       "Pla_HDBR13661576_TTTGTTGCATCCCGTT  Carnegie stage 14         31EIW>nS6G  \n",
       "Pla_HDBR13661576_TTTGTTGTCAGCTGAT  Carnegie stage 14         cfs=?TLXb#  \n",
       "Pla_HDBR13661576_TTTGTTGTCTGGTTGA  Carnegie stage 14         mcXF{v<O~s  \n",
       "\n",
       "[158978 rows x 32 columns]"
      ]
     },
     "execution_count": 16,
     "metadata": {},
     "output_type": "execute_result"
    }
   ],
   "source": [
    "import scanpy as sc\n",
    "# read adata\n",
    "adata = sc.read_h5ad(\"6882dc72-5194-4117-9763-e1f2ade4d062.h5ad\")\n",
    "#to get the obs i.e. the metadata\n",
    "adata.obs"
   ]
  },
  {
   "cell_type": "code",
   "execution_count": 19,
   "id": "7bb6d4ad-60c1-4fb1-af82-34b3a238374a",
   "metadata": {},
   "outputs": [
    {
     "data": {
      "text/plain": [
       "Pla_HDBR13007974_AAACCCAAGCGTTGTT    UI_Tg_24h\n",
       "Pla_HDBR13007974_AAACCCAAGTAGTCAA    UI_Tg_24h\n",
       "Pla_HDBR13007974_AAACCCACAATGAACA    UI_Tg_24h\n",
       "Pla_HDBR13007974_AAACCCACAGAGAGGG    UI_Tg_24h\n",
       "Pla_HDBR13007974_AAACCCACAGTAGAAT    UI_Tg_24h\n",
       "                                       ...    \n",
       "Pla_HDBR13661576_TTTGTTGAGAGTACCG       Lm_48h\n",
       "Pla_HDBR13661576_TTTGTTGAGCATATGA       Lm_48h\n",
       "Pla_HDBR13661576_TTTGTTGCATCCCGTT       Lm_48h\n",
       "Pla_HDBR13661576_TTTGTTGTCAGCTGAT       Lm_48h\n",
       "Pla_HDBR13661576_TTTGTTGTCTGGTTGA       Lm_48h\n",
       "Name: stage_perInfection, Length: 158978, dtype: category\n",
       "Categories (12, object): ['Lm_24h', 'Lm_48h', 'Pf_24h', 'Pf_48h', ..., 'UI_Pf_24h', 'UI_Pf_48h', 'UI_Tg_24h', 'UI_Tg_48h']"
      ]
     },
     "execution_count": 19,
     "metadata": {},
     "output_type": "execute_result"
    }
   ],
   "source": [
    "#for top 5 rows\n",
    "adata.obs['stage_perInfection']"
   ]
  },
  {
   "cell_type": "code",
   "execution_count": 3,
   "id": "6d660322-ed3c-43d0-a74c-cf1f09330357",
   "metadata": {},
   "outputs": [
    {
     "ename": "NameError",
     "evalue": "name 'adata' is not defined",
     "output_type": "error",
     "traceback": [
      "\u001b[0;31m---------------------------------------------------------------------------\u001b[0m",
      "\u001b[0;31mNameError\u001b[0m                                 Traceback (most recent call last)",
      "Cell \u001b[0;32mIn[3], line 1\u001b[0m\n\u001b[0;32m----> 1\u001b[0m \u001b[43madata\u001b[49m\u001b[38;5;241m.\u001b[39mobs[\u001b[38;5;124m'\u001b[39m\u001b[38;5;124mdonor_id\u001b[39m\u001b[38;5;124m'\u001b[39m]\n",
      "\u001b[0;31mNameError\u001b[0m: name 'adata' is not defined"
     ]
    }
   ],
   "source": [
    "adata.obs['donor_id']"
   ]
  },
  {
   "cell_type": "code",
   "execution_count": null,
   "id": "6ae2ea5d-f10d-43eb-b8ec-edf754022591",
   "metadata": {},
   "outputs": [],
   "source": [
    "#to get the var i.e. the gene details\n",
    "adata.var"
   ]
  },
  {
   "cell_type": "markdown",
   "id": "f59a57cb-7dc6-4c7f-b90e-b21881494083",
   "metadata": {},
   "source": [
    "### It seems this data consist of 1,58,978 sampels with 7 cell types and 15 possible cell type annotation with total of 36398 genes  "
   ]
  },
  {
   "cell_type": "code",
   "execution_count": null,
   "id": "6c0f46ff-ca3f-42a4-9211-8f9d58810345",
   "metadata": {},
   "outputs": [],
   "source": [
    "# to get the list of obs columns\n",
    "adata.obs.columns.tolist()"
   ]
  },
  {
   "cell_type": "code",
   "execution_count": null,
   "id": "7075ad16-04f3-4f70-97e9-9a9cd3788f9f",
   "metadata": {},
   "outputs": [],
   "source": [
    "# to get the list of gene_id or names if available in the index\n",
    "adata.var.index.tolist()"
   ]
  },
  {
   "cell_type": "code",
   "execution_count": 21,
   "id": "38cfae15-fa2b-4a70-9268-a9c57fe9e9ff",
   "metadata": {},
   "outputs": [],
   "source": [
    "# run the scaLR using user defined configs"
   ]
  },
  {
   "cell_type": "code",
   "execution_count": 1,
   "id": "ac7c6660-94a4-4379-b2bd-f886a2fc9b73",
   "metadata": {},
   "outputs": [
    {
     "name": "stdout",
     "output_type": "stream",
     "text": [
      "/bin/bash: line 1: conda: command not found\n"
     ]
    }
   ],
   "source": [
    "!conda activate scaLR_env"
   ]
  },
  {
   "cell_type": "code",
   "execution_count": 2,
   "id": "092ce20b-49b7-41f1-bc38-9fbf9a4c84a4",
   "metadata": {},
   "outputs": [
    {
     "name": "stdout",
     "output_type": "stream",
     "text": [
      "Traceback (most recent call last):\n",
      "  File \"/home/saurabh/gitlabclone/single_cell_classification/pipeline.py\", line 4, in <module>\n",
      "    from config.utils import load_config\n",
      "  File \"/home/saurabh/gitlabclone/single_cell_classification/config/__init__.py\", line 1, in <module>\n",
      "    from .utils import load_config\n",
      "  File \"/home/saurabh/gitlabclone/single_cell_classification/config/utils.py\", line 3, in <module>\n",
      "    from scalr.utils.file import read_yaml\n",
      "  File \"/home/saurabh/gitlabclone/single_cell_classification/scalr/__init__.py\", line 1, in <module>\n",
      "    from . import data\n",
      "  File \"/home/saurabh/gitlabclone/single_cell_classification/scalr/data/__init__.py\", line 1, in <module>\n",
      "    from .data_split import split_data, generate_train_val_test_split\n",
      "  File \"/home/saurabh/gitlabclone/single_cell_classification/scalr/data/data_split.py\", line 6, in <module>\n",
      "    import anndata as ad\n",
      "ModuleNotFoundError: No module named 'anndata'\n"
     ]
    }
   ],
   "source": [
    "!python pipeline.py --config config.yml --log"
   ]
  },
  {
   "cell_type": "code",
   "execution_count": null,
   "id": "postal-chicken",
   "metadata": {
    "id": "postal-chicken",
    "outputId": "491a5af8-f5f8-4833-fa51-4f25e438de71",
    "tags": []
   },
   "outputs": [],
   "source": [
    "# Not run; predict cell identities using this loaded model.\n",
    "#predictions = celltypist.annotate(adata_2000, model = model, majority_voting = True)\n",
    "# Alternatively, just specify the model name (recommended as this ensures the model is intact every time it is loaded).\n",
    "predictions = celltypist.annotate(adata_2000, model = 'Immune_All_Low.pkl', majority_voting = True)"
   ]
  },
  {
   "cell_type": "markdown",
   "id": "personal-marijuana",
   "metadata": {
    "id": "personal-marijuana"
   },
   "source": [
    "By default (`majority_voting = False`), CellTypist will infer the identity of each query cell independently. This leads to raw predicted cell type labels, and usually finishes within seconds or minutes depending on the size of the query data. You can also turn on the majority-voting classifier (`majority_voting = True`), which refines cell identities within local subclusters after an over-clustering approach at the cost of increased runtime."
   ]
  },
  {
   "cell_type": "markdown",
   "id": "future-finder",
   "metadata": {
    "id": "future-finder",
    "tags": []
   },
   "source": [
    "The results include both predicted cell type labels (`predicted_labels`), over-clustering result (`over_clustering`), and predicted labels after majority voting in local subclusters (`majority_voting`). Note in the `predicted_labels`, each query cell gets its inferred label by choosing the most probable cell type among all possible cell types in the given model."
   ]
  },
  {
   "cell_type": "code",
   "execution_count": null,
   "id": "expired-authorization",
   "metadata": {
    "id": "expired-authorization",
    "outputId": "6a92666f-a325-4754-c0b8-78eebb58782d",
    "tags": []
   },
   "outputs": [],
   "source": [
    "predictions.predicted_labels"
   ]
  },
  {
   "cell_type": "markdown",
   "id": "separated-first",
   "metadata": {
    "id": "separated-first"
   },
   "source": [
    "Transform the prediction result into an `AnnData`."
   ]
  },
  {
   "cell_type": "code",
   "execution_count": null,
   "id": "sharing-router",
   "metadata": {
    "id": "sharing-router"
   },
   "outputs": [],
   "source": [
    "# Get an `AnnData` with predicted labels embedded into the cell metadata columns.\n",
    "adata = predictions.to_adata()"
   ]
  },
  {
   "cell_type": "markdown",
   "id": "varying-characteristic",
   "metadata": {
    "id": "varying-characteristic"
   },
   "source": [
    "Compared to `adata_2000`, the new `adata` has additional prediction information in `adata.obs` (`predicted_labels`, `over_clustering`, `majority_voting` and `conf_score`). Of note, all these columns can be prefixed with a specific string by setting `prefix` in [to_adata](https://celltypist.readthedocs.io/en/latest/celltypist.classifier.AnnotationResult.html#celltypist.classifier.AnnotationResult.to_adata)."
   ]
  },
  {
   "cell_type": "code",
   "execution_count": null,
   "id": "virgin-export",
   "metadata": {
    "id": "virgin-export",
    "outputId": "5ccce391-9d87-4e81-f824-99156a5b6551",
    "tags": []
   },
   "outputs": [],
   "source": [
    "adata.obs"
   ]
  },
  {
   "cell_type": "markdown",
   "id": "knowing-steps",
   "metadata": {
    "id": "knowing-steps"
   },
   "source": [
    "In addition to this meta information added, the neighborhood graph constructed during over-clustering is also stored in the `adata`\n",
    "(If a pre-calculated neighborhood graph is already present in the `AnnData`, this graph construction step will be skipped).  \n",
    "This graph can be used to derive the cell embeddings, such as the UMAP coordinates."
   ]
  },
  {
   "cell_type": "code",
   "execution_count": null,
   "id": "decimal-sweden",
   "metadata": {
    "id": "decimal-sweden"
   },
   "outputs": [],
   "source": [
    "# If the UMAP or any cell embeddings are already available in the `AnnData`, skip this command.\n",
    "sc.tl.umap(adata)"
   ]
  },
  {
   "cell_type": "markdown",
   "id": "effective-terrain",
   "metadata": {
    "id": "effective-terrain"
   },
   "source": [
    "Visualise the prediction results."
   ]
  },
  {
   "cell_type": "code",
   "execution_count": null,
   "id": "tough-insider",
   "metadata": {
    "id": "tough-insider",
    "outputId": "f694960d-7af1-4513-d22d-666f1f99981a",
    "tags": []
   },
   "outputs": [],
   "source": [
    "sc.pl.umap(adata, color = ['cell_type', 'predicted_labels', 'majority_voting'], legend_loc = 'on data')"
   ]
  },
  {
   "cell_type": "markdown",
   "id": "julian-mobile",
   "metadata": {
    "id": "julian-mobile"
   },
   "source": [
    "Actually, you may not need to explicitly convert `predictions` output by `celltypist.annotate` into an `AnnData` as above. A more useful way is to use the visualisation function [celltypist.dotplot](https://celltypist.readthedocs.io/en/latest/celltypist.dotplot.html), which quantitatively compares the CellTypist prediction result (e.g. `majority_voting` here) with the cell types pre-defined in the `AnnData` (here `cell_type`). You can also change the value of `use_as_prediction` to `predicted_labels` to compare the raw prediction result with the pre-defined cell types."
   ]
  },
  {
   "cell_type": "code",
   "execution_count": null,
   "id": "solved-weekly",
   "metadata": {
    "id": "solved-weekly",
    "outputId": "ad1b20ac-df5a-4905-e345-cbe0865b3332"
   },
   "outputs": [],
   "source": [
    "celltypist.dotplot(predictions, use_as_reference = 'cell_type', use_as_prediction = 'majority_voting')"
   ]
  },
  {
   "cell_type": "markdown",
   "id": "metallic-saskatchewan",
   "metadata": {
    "id": "metallic-saskatchewan"
   },
   "source": [
    "For each pre-defined cell type (each column from the dot plot), this plot shows how it can be 'decomposed' into different cell types predicted by CellTypist (rows)."
   ]
  },
  {
   "cell_type": "markdown",
   "id": "tender-maple",
   "metadata": {
    "id": "tender-maple"
   },
   "source": [
    "## Assign cell type labels using a custom model\n",
    "In this section, we show the procedure of generating a custom model and transferring labels from the model to the query data."
   ]
  },
  {
   "cell_type": "markdown",
   "id": "protected-counter",
   "metadata": {
    "id": "protected-counter",
    "tags": []
   },
   "source": [
    "Use previously downloaded dataset of 2,000 immune cells as the training set."
   ]
  },
  {
   "cell_type": "code",
   "execution_count": null,
   "id": "rotary-record",
   "metadata": {
    "id": "rotary-record"
   },
   "outputs": [],
   "source": [
    "adata_2000 = sc.read('celltypist_demo_folder/demo_2000_cells.h5ad', backup_url = 'https://celltypist.cog.sanger.ac.uk/Notebook_demo_data/demo_2000_cells.h5ad')"
   ]
  },
  {
   "cell_type": "markdown",
   "id": "headed-sierra",
   "metadata": {
    "id": "headed-sierra"
   },
   "source": [
    "Download another scRNA-seq dataset of 400 immune cells as a query."
   ]
  },
  {
   "cell_type": "code",
   "execution_count": null,
   "id": "closing-brain",
   "metadata": {
    "colab": {
     "referenced_widgets": [
      "60bb1bc2c899444ea88095e6713a8686"
     ]
    },
    "id": "closing-brain",
    "outputId": "03416d76-a998-46d3-86ec-8d36a79f7528"
   },
   "outputs": [],
   "source": [
    "adata_400 = sc.read('celltypist_demo_folder/demo_400_cells.h5ad', backup_url = 'https://celltypist.cog.sanger.ac.uk/Notebook_demo_data/demo_400_cells.h5ad')"
   ]
  },
  {
   "cell_type": "markdown",
   "id": "precise-bronze",
   "metadata": {
    "id": "precise-bronze",
    "tags": []
   },
   "source": [
    "Derive a custom model by training the data using the [celltypist.train](https://celltypist.readthedocs.io/en/latest/celltypist.train.html) function."
   ]
  },
  {
   "cell_type": "code",
   "execution_count": null,
   "id": "consistent-detective",
   "metadata": {
    "id": "consistent-detective",
    "outputId": "04825c2e-e798-40ce-e3b7-04031d486d7b",
    "tags": []
   },
   "outputs": [],
   "source": [
    "# The `cell_type` in `adata_2000.obs` will be used as cell type labels for training.\n",
    "new_model = celltypist.train(adata_2000, labels = 'cell_type', n_jobs = 10, feature_selection = True)"
   ]
  },
  {
   "cell_type": "markdown",
   "id": "remarkable-eating",
   "metadata": {
    "id": "remarkable-eating"
   },
   "source": [
    "Refer to the function [celltypist.train](https://celltypist.readthedocs.io/en/latest/celltypist.train.html) for what each parameter means, and to the [usage](https://github.com/Teichlab/celltypist#usage) for details of model training."
   ]
  },
  {
   "cell_type": "markdown",
   "id": "emerging-telephone",
   "metadata": {
    "id": "emerging-telephone"
   },
   "source": [
    "This custom model can be manipulated as with other CellTypist built-in models. First, save this model locally."
   ]
  },
  {
   "cell_type": "code",
   "execution_count": null,
   "id": "informal-ladder",
   "metadata": {
    "id": "informal-ladder"
   },
   "outputs": [],
   "source": [
    "# Save the model.\n",
    "new_model.write('celltypist_demo_folder/model_from_immune2000.pkl')"
   ]
  },
  {
   "cell_type": "markdown",
   "id": "sublime-oxygen",
   "metadata": {
    "id": "sublime-oxygen",
    "tags": []
   },
   "source": [
    "You can load this model by `models.Model.load`."
   ]
  },
  {
   "cell_type": "code",
   "execution_count": null,
   "id": "little-textbook",
   "metadata": {
    "id": "little-textbook"
   },
   "outputs": [],
   "source": [
    "new_model = models.Model.load('celltypist_demo_folder/model_from_immune2000.pkl')"
   ]
  },
  {
   "cell_type": "markdown",
   "id": "weighted-system",
   "metadata": {
    "id": "weighted-system"
   },
   "source": [
    "Next, we use this model to predict the query dataset of 400 immune cells."
   ]
  },
  {
   "cell_type": "code",
   "execution_count": null,
   "id": "forty-turning",
   "metadata": {
    "id": "forty-turning",
    "outputId": "fda85c61-21f3-48b2-9fd3-1b6d40d05663",
    "tags": []
   },
   "outputs": [],
   "source": [
    "# Not run; predict the identity of each input cell with the new model.\n",
    "#predictions = celltypist.annotate(adata_400, model = new_model, majority_voting = True)\n",
    "# Alternatively, just specify the model path (recommended as this ensures the model is intact every time it is loaded).\n",
    "predictions = celltypist.annotate(adata_400, model = 'celltypist_demo_folder/model_from_immune2000.pkl', majority_voting = True)"
   ]
  },
  {
   "cell_type": "code",
   "execution_count": null,
   "id": "liquid-happiness",
   "metadata": {
    "id": "liquid-happiness"
   },
   "outputs": [],
   "source": [
    "adata = predictions.to_adata()"
   ]
  },
  {
   "cell_type": "code",
   "execution_count": null,
   "id": "utility-sussex",
   "metadata": {
    "id": "utility-sussex"
   },
   "outputs": [],
   "source": [
    "sc.tl.umap(adata)"
   ]
  },
  {
   "cell_type": "code",
   "execution_count": null,
   "id": "sought-adult",
   "metadata": {
    "id": "sought-adult",
    "outputId": "13e756f3-b05f-4d84-ab15-e6da4f992e17",
    "tags": []
   },
   "outputs": [],
   "source": [
    "sc.pl.umap(adata, color = ['cell_type', 'predicted_labels', 'majority_voting'], legend_loc = 'on data')"
   ]
  },
  {
   "cell_type": "code",
   "execution_count": null,
   "id": "liberal-strengthening",
   "metadata": {
    "id": "liberal-strengthening",
    "outputId": "3365ae98-0546-44f2-dcad-aff1257c34f3"
   },
   "outputs": [],
   "source": [
    "celltypist.dotplot(predictions, use_as_reference = 'cell_type', use_as_prediction = 'majority_voting')"
   ]
  },
  {
   "cell_type": "markdown",
   "id": "australian-cherry",
   "metadata": {
    "id": "australian-cherry"
   },
   "source": [
    "## Examine expression of cell type-driving genes"
   ]
  },
  {
   "cell_type": "markdown",
   "id": "southern-female",
   "metadata": {
    "id": "southern-female"
   },
   "source": [
    "Each model can be examined in terms of the driving genes for each cell type. Note these genes are only dependent on the model, say, the training dataset."
   ]
  },
  {
   "cell_type": "code",
   "execution_count": null,
   "id": "liable-liechtenstein",
   "metadata": {
    "id": "liable-liechtenstein",
    "tags": []
   },
   "outputs": [],
   "source": [
    "# Any model can be inspected.\n",
    "# Here we load the previously saved model trained from 2,000 immune cells.\n",
    "model = models.Model.load(model = 'celltypist_demo_folder/model_from_immune2000.pkl')"
   ]
  },
  {
   "cell_type": "code",
   "execution_count": null,
   "id": "available-victor",
   "metadata": {
    "id": "available-victor",
    "outputId": "1fba965c-e18d-4e63-f7db-e3f2f8d2c98d"
   },
   "outputs": [],
   "source": [
    "model.cell_types"
   ]
  },
  {
   "cell_type": "markdown",
   "id": "pharmaceutical-remains",
   "metadata": {
    "id": "pharmaceutical-remains",
    "tags": []
   },
   "source": [
    "Extract the top three driving genes of `Mast cells` using the [extract_top_markers](https://celltypist.readthedocs.io/en/latest/celltypist.models.Model.html#celltypist.models.Model.extract_top_markers) method."
   ]
  },
  {
   "cell_type": "code",
   "execution_count": null,
   "id": "interracial-clone",
   "metadata": {
    "id": "interracial-clone",
    "outputId": "6f29827d-1cb5-4253-f0e6-ee2656e212f9",
    "tags": []
   },
   "outputs": [],
   "source": [
    "top_3_genes = model.extract_top_markers(\"Mast cells\", 3)\n",
    "top_3_genes"
   ]
  },
  {
   "cell_type": "code",
   "execution_count": null,
   "id": "sealed-percentage",
   "metadata": {
    "id": "sealed-percentage",
    "outputId": "f3299735-a823-4144-bdd8-ce923efaf949",
    "tags": []
   },
   "outputs": [],
   "source": [
    "# Check expression of the three genes in the training set.\n",
    "sc.pl.violin(adata_2000, top_3_genes, groupby = 'cell_type', rotation = 90)"
   ]
  },
  {
   "cell_type": "code",
   "execution_count": null,
   "id": "yellow-prompt",
   "metadata": {
    "id": "yellow-prompt",
    "outputId": "806e8bee-5161-491b-c686-f2014f7fbaf9"
   },
   "outputs": [],
   "source": [
    "# Check expression of the three genes in the query set.\n",
    "# Here we use `majority_voting` from CellTypist as the cell type labels for this dataset.\n",
    "sc.pl.violin(adata_400, top_3_genes, groupby = 'majority_voting', rotation = 90)"
   ]
  }
 ],
 "metadata": {
  "colab": {
   "provenance": []
  },
  "kernelspec": {
   "display_name": "scaLR_env",
   "language": "python",
   "name": "scalr_env"
  },
  "language_info": {
   "codemirror_mode": {
    "name": "ipython",
    "version": 3
   },
   "file_extension": ".py",
   "mimetype": "text/x-python",
   "name": "python",
   "nbconvert_exporter": "python",
   "pygments_lexer": "ipython3",
   "version": "3.9.19"
  }
 },
 "nbformat": 4,
 "nbformat_minor": 5
}
