{
 "cells": [
  {
   "cell_type": "markdown",
   "metadata": {
    "id": "dfGECxsGN9bo"
   },
   "source": [
    "<left><img src=\"https://github.com/infocusp/scaLR/raw/sj/fullntest_samples_analysis/img/scaLR_logo.png\" width=\"150\" height=\"180\"></left>\n",
    "\n",
    "# Single-cell analysis using Low Resource (scaLR)"
   ]
  },
  {
   "cell_type": "code",
   "execution_count": null,
   "metadata": {
    "colab": {
     "base_uri": "https://localhost:8080/"
    },
    "executionInfo": {
     "elapsed": 18201,
     "status": "ok",
     "timestamp": 1729672422659,
     "user": {
      "displayName": "Amit Samal",
      "userId": "04401365306056000967"
     },
     "user_tz": -330
    },
    "id": "CdutIWiy8xJb",
    "outputId": "7d7b8c04-14fc-4581-9c77-b72bf696f67b"
   },
   "outputs": [],
   "source": [
    "!git clone https://github.com/infocusp/scaLR.git"
   ]
  },
  {
   "cell_type": "code",
   "execution_count": null,
   "metadata": {
    "colab": {
     "base_uri": "https://localhost:8080/"
    },
    "executionInfo": {
     "elapsed": 9736,
     "status": "ok",
     "timestamp": 1729672455096,
     "user": {
      "displayName": "Amit Samal",
      "userId": "04401365306056000967"
     },
     "user_tz": -330
    },
    "id": "9dQLPmLwPL0C",
    "outputId": "1b3af3ef-17e7-4d37-fef7-70d451e6e2e1"
   },
   "outputs": [],
   "source": [
    "# Install all requirements after cloning the repository, excluding the torch package since it is pre-installed in Colab.\n",
    "!pip install $(grep -ivE \"torch\" scaLR/requirements.txt)"
   ]
  },
  {
   "cell_type": "markdown",
   "metadata": {
    "id": "0DvyBaoIPdnX"
   },
   "source": [
    "## <span style=\"color: steelblue;\">Downloading input anndata from `cellxgene`</span>\n",
    "- Currently the pipeline expects all datasets in [anndata](https://anndata.readthedocs.io/en/latest/tutorials/notebooks/getting-started.html) formats (`.h5ad` files only).\n",
    "- The anndata object should contain cell samples as `obs` and genes as `var`.\n",
    "- `adata.X`: contains normalized gene counts/expression values (Typically `log1p` normalized, data ranging from 0-10).\n",
    "- `adata.obs`: contains any metadata regarding cells, including a column for `target` which will be used for classification. The index of `adata.obs` is cell_barcodes.\n",
    "- `adata.var`: contains all gene_names as Index.\n",
    "\n",
    "The dataset we are about to download contains two clinical conditions (COVID-19 and normal) and links variations in immune response to disease severity and outcomes over time[(Liu et al. (2021))](https://doi.org/10.1016/j.cell.2021.02.018)"
   ]
  },
  {
   "cell_type": "code",
   "execution_count": null,
   "metadata": {
    "colab": {
     "base_uri": "https://localhost:8080/"
    },
    "executionInfo": {
     "elapsed": 53663,
     "status": "ok",
     "timestamp": 1729672684635,
     "user": {
      "displayName": "Amit Samal",
      "userId": "04401365306056000967"
     },
     "user_tz": -330
    },
    "id": "loCfvnwt9ei1",
    "outputId": "c071b0a7-83fe-4d8e-89f8-e53a3cbb9281"
   },
   "outputs": [],
   "source": [
    "# This shell will take approximately 00:00:53 (hh:mm:ss) to run.\n",
    "!wget -P data https://datasets.cellxgene.cziscience.com/21ef2ea2-cbed-4b6c-a572-0ddd1d9020bc.h5ad"
   ]
  },
  {
   "cell_type": "markdown",
   "metadata": {
    "id": "tSiYIOo8P_3b"
   },
   "source": [
    "## <span style=\"color: steelblue;\">Data exploration</span>"
   ]
  },
  {
   "cell_type": "code",
   "execution_count": null,
   "metadata": {
    "executionInfo": {
     "elapsed": 6669,
     "status": "ok",
     "timestamp": 1729672749451,
     "user": {
      "displayName": "Amit Samal",
      "userId": "04401365306056000967"
     },
     "user_tz": -330
    },
    "id": "23C87j3PR9ox"
   },
   "outputs": [],
   "source": [
    "from IPython.display import SVG, display\n",
    "import warnings\n",
    "import anndata as ad\n",
    "from anndata import AnnData\n",
    "import numpy as np\n",
    "import pandas as pd"
   ]
  },
  {
   "cell_type": "code",
   "execution_count": null,
   "metadata": {
    "executionInfo": {
     "elapsed": 1040,
     "status": "ok",
     "timestamp": 1729672758968,
     "user": {
      "displayName": "Amit Samal",
      "userId": "04401365306056000967"
     },
     "user_tz": -330
    },
    "id": "eDH3GxXr-er6"
   },
   "outputs": [],
   "source": [
    "adata = ad.read_h5ad(\"data/21ef2ea2-cbed-4b6c-a572-0ddd1d9020bc.h5ad\",backed='r')"
   ]
  },
  {
   "cell_type": "code",
   "execution_count": null,
   "metadata": {
    "colab": {
     "base_uri": "https://localhost:8080/"
    },
    "executionInfo": {
     "elapsed": 510,
     "status": "ok",
     "timestamp": 1729672803188,
     "user": {
      "displayName": "Amit Samal",
      "userId": "04401365306056000967"
     },
     "user_tz": -330
    },
    "id": "SS4oTWW6Xn8c",
    "outputId": "4270e341-324e-4e2e-838e-c7d3079c2899"
   },
   "outputs": [],
   "source": [
    "print(f\"\\nThe anndata has '{adata.n_obs}' cells and '{adata.n_vars}' genes\")"
   ]
  },
  {
   "cell_type": "code",
   "execution_count": null,
   "metadata": {
    "colab": {
     "base_uri": "https://localhost:8080/",
     "height": 411
    },
    "executionInfo": {
     "elapsed": 441,
     "status": "ok",
     "timestamp": 1729672806187,
     "user": {
      "displayName": "Amit Samal",
      "userId": "04401365306056000967"
     },
     "user_tz": -330
    },
    "id": "z1u-kctbSStJ",
    "outputId": "3e17fede-cb1d-437a-8448-e8f61c6a385f"
   },
   "outputs": [],
   "source": [
    "# Cell metadata\n",
    "adata.obs.head()"
   ]
  },
  {
   "cell_type": "code",
   "execution_count": null,
   "metadata": {
    "colab": {
     "base_uri": "https://localhost:8080/",
     "height": 429
    },
    "executionInfo": {
     "elapsed": 6,
     "status": "ok",
     "timestamp": 1729672806752,
     "user": {
      "displayName": "Amit Samal",
      "userId": "04401365306056000967"
     },
     "user_tz": -330
    },
    "id": "_tyf2F8CfjEh",
    "outputId": "132e9b50-5ca4-40bd-bf34-5e99872bca19"
   },
   "outputs": [],
   "source": [
    "adata.obs.cell_type.value_counts()"
   ]
  },
  {
   "cell_type": "code",
   "execution_count": null,
   "metadata": {
    "colab": {
     "base_uri": "https://localhost:8080/"
    },
    "executionInfo": {
     "elapsed": 3,
     "status": "ok",
     "timestamp": 1729672807956,
     "user": {
      "displayName": "Amit Samal",
      "userId": "04401365306056000967"
     },
     "user_tz": -330
    },
    "id": "5_3LHFBzfINy",
    "outputId": "71f4202f-d413-45a9-cbcd-ce2621653ae0"
   },
   "outputs": [],
   "source": [
    "# Number of cell types\n",
    "adata.obs.cell_type.unique()"
   ]
  },
  {
   "cell_type": "code",
   "execution_count": null,
   "metadata": {
    "colab": {
     "base_uri": "https://localhost:8080/"
    },
    "executionInfo": {
     "elapsed": 2,
     "status": "ok",
     "timestamp": 1729672808592,
     "user": {
      "displayName": "Amit Samal",
      "userId": "04401365306056000967"
     },
     "user_tz": -330
    },
    "id": "9XkI2eftfdyd",
    "outputId": "a41a286c-16b6-423d-f9e3-c15b2b3b72f1"
   },
   "outputs": [],
   "source": [
    "# Number of donors\n",
    "adata.obs.donor_id.unique()"
   ]
  },
  {
   "cell_type": "code",
   "execution_count": null,
   "metadata": {
    "colab": {
     "base_uri": "https://localhost:8080/",
     "height": 178
    },
    "executionInfo": {
     "elapsed": 7,
     "status": "ok",
     "timestamp": 1729672809221,
     "user": {
      "displayName": "Amit Samal",
      "userId": "04401365306056000967"
     },
     "user_tz": -330
    },
    "id": "9Vdh27XgfVB6",
    "outputId": "87695e0c-cb0c-4037-a2a7-a533ed5d7fef"
   },
   "outputs": [],
   "source": [
    "# Number of clinical conditions\n",
    "adata.obs.disease.value_counts()"
   ]
  },
  {
   "cell_type": "code",
   "execution_count": null,
   "metadata": {
    "colab": {
     "base_uri": "https://localhost:8080/"
    },
    "executionInfo": {
     "elapsed": 2,
     "status": "ok",
     "timestamp": 1729672809879,
     "user": {
      "displayName": "Amit Samal",
      "userId": "04401365306056000967"
     },
     "user_tz": -330
    },
    "id": "22QwSULlUjcO",
    "outputId": "6960308d-e725-4693-98b0-eba2fb4620a5"
   },
   "outputs": [],
   "source": [
    "#Gene expression values of first 5 cells and 10 genes.\n",
    "adata.X[:5,:10].A"
   ]
  },
  {
   "cell_type": "code",
   "execution_count": null,
   "metadata": {
    "colab": {
     "base_uri": "https://localhost:8080/"
    },
    "executionInfo": {
     "elapsed": 5,
     "status": "ok",
     "timestamp": 1729672810578,
     "user": {
      "displayName": "Amit Samal",
      "userId": "04401365306056000967"
     },
     "user_tz": -330
    },
    "id": "tHyKtjllgTYf",
    "outputId": "e49976ae-0f99-440d-9d6a-6ea73f8f220a"
   },
   "outputs": [],
   "source": [
    "# Verifying normalized values in X\n",
    "# Getting the sum of gene expression values for the first 10 cells (should be floating-point values).\n",
    "adata.X[:10,:].A.sum(axis=1)"
   ]
  },
  {
   "cell_type": "code",
   "execution_count": null,
   "metadata": {
    "colab": {
     "base_uri": "https://localhost:8080/"
    },
    "executionInfo": {
     "elapsed": 435,
     "status": "ok",
     "timestamp": 1729672811445,
     "user": {
      "displayName": "Amit Samal",
      "userId": "04401365306056000967"
     },
     "user_tz": -330
    },
    "id": "pTRA4cFsgYTa",
    "outputId": "213aa5f3-3d9e-4ea9-9c3f-8ffc331a6887"
   },
   "outputs": [],
   "source": [
    "# Getting the maximum and minimum gene expression values for the first 1000 cells.\n",
    "max_val = np.max(adata.X[:1000, :].A)\n",
    "min_val = np.min(adata.X[:1000, :].A)\n",
    "print(f'Max value : {max_val} | Min value : {min_val}')\n",
    "# Raising a warning if the values are outside the 0-10 range\n",
    "if max_val > 10 or min_val < 0:\n",
    "    warnings.warn(f\"Warning: Expression Value out of range! Max: {max_val}, Min: {min_val}. Expected range is 0-10.\", UserWarning)\n"
   ]
  },
  {
   "cell_type": "code",
   "execution_count": null,
   "metadata": {
    "colab": {
     "base_uri": "https://localhost:8080/",
     "height": 226
    },
    "executionInfo": {
     "elapsed": 508,
     "status": "ok",
     "timestamp": 1729672829503,
     "user": {
      "displayName": "Amit Samal",
      "userId": "04401365306056000967"
     },
     "user_tz": -330
    },
    "id": "bd2fTv0gdluU",
    "outputId": "6aebe096-b6af-4663-c522-dd838d90debd"
   },
   "outputs": [],
   "source": [
    "#Gene metadata\n",
    "adata.var.head()"
   ]
  },
  {
   "cell_type": "markdown",
   "metadata": {
    "id": "sfgBeaLumPuV"
   },
   "source": []
  },
  {
   "cell_type": "markdown",
   "metadata": {
    "id": "QLTg-WK-hTS7"
   },
   "source": [
    "### <span style=\"color: steelblue;\">Modifying `var` index (Optional)</span>\n",
    "- The `index` values in this AnnData object are the `gene_ids`. To retrieve the literature genes associated with a particular cell type, we need the gene symbols, which are present in `feature_name` column. Therefore, we'll replace the index values with gene symbols.\n",
    "- This will be helpful when analyzing the `GeneRecallCurve` later.\n",
    "- This step can be skipped if the `reference_genes.csv` already contains gene IDs corresponding to each cell type, or if the user does not want to perform the `GeneRecallCurve` analysis.\n"
   ]
  },
  {
   "cell_type": "code",
   "execution_count": null,
   "metadata": {
    "executionInfo": {
     "elapsed": 514,
     "status": "ok",
     "timestamp": 1729672840364,
     "user": {
      "displayName": "Amit Samal",
      "userId": "04401365306056000967"
     },
     "user_tz": -330
    },
    "id": "qoSHdJtwgPaA"
   },
   "outputs": [],
   "source": [
    "adata.var.set_index('feature_name',inplace=True)"
   ]
  },
  {
   "cell_type": "code",
   "execution_count": null,
   "metadata": {
    "colab": {
     "base_uri": "https://localhost:8080/",
     "height": 257
    },
    "executionInfo": {
     "elapsed": 7,
     "status": "ok",
     "timestamp": 1729672842176,
     "user": {
      "displayName": "Amit Samal",
      "userId": "04401365306056000967"
     },
     "user_tz": -330
    },
    "id": "p3LvDmZmhJ_c",
    "outputId": "2b0daa0e-99a6-4f12-cb61-e3f3c478dbdf"
   },
   "outputs": [],
   "source": [
    "# Now the index values are the gene symbols.\n",
    "adata.var.head()"
   ]
  },
  {
   "cell_type": "code",
   "execution_count": null,
   "metadata": {
    "executionInfo": {
     "elapsed": 61464,
     "status": "ok",
     "timestamp": 1729672914218,
     "user": {
      "displayName": "Amit Samal",
      "userId": "04401365306056000967"
     },
     "user_tz": -330
    },
    "id": "6yCi6UQ-kh0Q"
   },
   "outputs": [],
   "source": [
    "# Saving file for further analysis\n",
    "# This shell will take approximately 00:00:47 (hh:mm:ss) to run.\n",
    "adata.obs.index = adata.obs.index.astype(str)\n",
    "adata.var.index = adata.var.index.astype(str)\n",
    "AnnData(X=adata.X,obs=adata.obs,var=adata.var).write('data/modified_adata.h5ad',compression='gzip')"
   ]
  },
  {
   "cell_type": "markdown",
   "metadata": {
    "id": "e1WBarmdY0h5"
   },
   "source": [
    "## <span style=\"color: steelblue;\">scaLR pipeline </span>\n",
    "\n",
    "1. The **scaLR** pipeline consists of four stages:\n",
    "   - Data ingestion\n",
    "   - Feature selection\n",
    "   - Final model training\n",
    "   - Analysis\n",
    "\n",
    "2. The user needs to modify the configuration file (`config.yml`) available at `scaLR/config` for each stage of the pipeline according to the requirements. Simply omit or comment out the stages of the pipeline that you do not wish to run.\n",
    "\n",
    "3. Refer to `config.yml` and its detailed configuration [README](https://github.com/infocusp/scaLR/blob/main/config/README.md) file for instructions on how to use different parameters and files.\n",
    "\n",
    "### <span style=\"color: steelblue;\">Config edits (For Cell Type Classification and Biomarker Identification)</span>\n",
    "\n",
    "NOTE: Below are just suggestions for the model parameters. Feel free to play around with them for tuning the model & improving the results.\n",
    "\n",
    "*An example configuration file for the current dataset, incorporating the edits below, can be found at `scaLR/tutorials/pipeline/config_celltype.yaml`. Please update the device as `cuda` or `cpu` as per runtype.*\n",
    "\n",
    "- **Device setup**.\n",
    "  -Update `device: 'cuda'` for `GPU` enabled runtype, else `device: 'cpu'` for `CPU` enabled  runtype.\n",
    "- **Experiment Config**\n",
    "  - The default `exp_run` number is `0`.If not changed, the celltype classification experiment would be `exp_run_0` with all the pipeline results.\n",
    "- **Data Config**\n",
    "  - Update the `full_datapath` to `data/modified_adata.h5ad` (as we will include `GeneRecallCurve` in the downstream).\n",
    "  - Set `target` to `cell_type`.\n",
    "- **Feature Selection**\n",
    "  - Update the model layers to `[5000, 10]`, as there are only 10 cell types in the dataset.\n",
    "  - Change `epoch` to `10`.\n",
    "- **Final Model Training**\n",
    "  - Update the model layers to the same as for feature selection: `[5000, 10]`.\n",
    "  - Change `epoch` to `100`.\n",
    "- **Analysis**\n",
    "  - **Downstream Analysis**\n",
    "    - Uncomment the `test_samples_downstream_analysis` section.\n",
    "    - Update the `reference_genes_path` to `scaLR/tutorials/pipeline/grc_reference_gene.csv`.\n",
    "    - Please refer to the section below:\n",
    "\n",
    "    ```\n",
    "    analysis:\n",
    "\n",
    "        model_checkpoint: ''\n",
    "\n",
    "        dataloader:\n",
    "            name: SimpleDataLoader\n",
    "            params:\n",
    "                batch_size: 15000\n",
    "\n",
    "        gene_analysis:\n",
    "            scoring_config:\n",
    "                name: LinearScorer\n",
    "\n",
    "            features_selector:\n",
    "                name: ClasswisePromoters\n",
    "                params:\n",
    "                    k: 100\n",
    "        test_samples_downstream_analysis:\n",
    "            - name: GeneRecallCurve\n",
    "              params:\n",
    "                reference_genes_path: 'scaLR/tutorials/pipeline/grc_reference_gene.csv'\n",
    "                top_K: 300\n",
    "                plots_per_row: 3\n",
    "                features_selector:\n",
    "                    name: ClasswiseAbs\n",
    "                    params: {}\n",
    "            - name: Heatmap\n",
    "              params: {}\n",
    "            - name: RocAucCurve\n",
    "              params: {}\n",
    "\n",
    "\n",
    "\n",
    "### <span style=\"color: steelblue;\">Config edits (For clinical condition specific biomarker identification and DGE analysis) </span>\n",
    "\n",
    "*An example configuration file for the current dataset, incorporating the edits below, can be found at : `scaLR/tutorials/pipeline/config_clinical.yaml`.Please update the device as `cuda` or `cpu` as per runtype*\n",
    "\n",
    "- **Experiment Config**\n",
    "  - Make sure to change the `exp_run` number if you have an experiment with the same number earlier related to cell classification.As we have done one experiment earlier, we'll change the number now to '1'.\n",
    "- **Data Config**\n",
    "  - The `full_datapath` remains the same as above.\n",
    "  - Change the `target` to `disease` (this column contains data for clinical conditions, `COVID-19/normal`).\n",
    "- **Feature Selection**\n",
    "  - Update the model layers to `[5000, 2]`, as there are only two types of clinical conditions.\n",
    "  -`epoch` as 10.\n",
    "- **Final Model Training**\n",
    "  - Update the model layers to the same as for feature selection: `[5000, 2]`.\n",
    "  - `epoch` as 100.\n",
    "- **Analysis**\n",
    "  - **Downstream Analysis**\n",
    "    - Uncomment the `full_samples_downstream_analysis` section.\n",
    "    - We are not performing the 'gene_recall_curve' analysis in this case. It can be performed if the `COVID-19/normal` specific genes are available, but there are many possibilities of genes in the case of normal conditions.\n",
    "    - There are two options to perform differential gene expression (DGE) analysis: `DgePseudoBulk` and `DgeLMEM`. The parameters are updated as follows. Note that `DgeLMEM` may take a bit more time, as the multiprocessing is not very efficient with only 2 CPUs in the current Colab runtime.\n",
    "    - Please refer to the section below:\n",
    "    ```\n",
    "    analysis:\n",
    "\n",
    "        model_checkpoint: ''\n",
    "\n",
    "        dataloader:\n",
    "            name: SimpleDataLoader\n",
    "            params:\n",
    "                batch_size: 15000\n",
    "\n",
    "        gene_analysis:\n",
    "            scoring_config:\n",
    "                name: LinearScorer\n",
    "\n",
    "            features_selector:\n",
    "                name: ClasswisePromoters\n",
    "                params:\n",
    "                    k: 100\n",
    "        full_samples_downstream_analysis:\n",
    "            - name: Heatmap\n",
    "              params:\n",
    "                top_n_genes: 100\n",
    "            - name: RocAucCurve\n",
    "              params: {}\n",
    "            - name: DgePseudoBulk\n",
    "              params:\n",
    "                  celltype_column: 'cell_type'\n",
    "                  design_factor: 'disease'\n",
    "                  factor_categories: ['COVID-19', 'normal']\n",
    "                  sum_column: 'donor_id'\n",
    "                  cell_subsets: ['conventional dendritic cell', 'natural killer cell']\n",
    "            - name: DgeLMEM\n",
    "              params:\n",
    "                fixed_effect_column: 'disease'\n",
    "                fixed_effect_factors: ['COVID-19', 'normal']\n",
    "                group: 'donor_id'\n",
    "                celltype_column: 'cell_type'\n",
    "                cell_subsets: ['conventional dendritic cell']\n",
    "                gene_batch_size: 1000\n",
    "                coef_threshold: 0.1\n",
    "                "
   ]
  },
  {
   "cell_type": "markdown",
   "metadata": {
    "id": "Wny28AQQm6xB"
   },
   "source": [
    "### <span style=\"color: steelblue;\">Run Pipeline </span>"
   ]
  },
  {
   "cell_type": "code",
   "execution_count": null,
   "metadata": {
    "colab": {
     "base_uri": "https://localhost:8080/"
    },
    "executionInfo": {
     "elapsed": 23057,
     "status": "ok",
     "timestamp": 1729673102712,
     "user": {
      "displayName": "Amit Samal",
      "userId": "04401365306056000967"
     },
     "user_tz": -330
    },
    "id": "uLgN7MDv7hV-",
    "outputId": "80dee261-79f7-423b-f84e-8c2bcac90b93"
   },
   "outputs": [],
   "source": [
    "# Possible flags using 'scaLR/pipeline.py'\n",
    "!python scaLR/pipeline.py --help"
   ]
  },
  {
   "cell_type": "markdown",
   "metadata": {},
   "source": [
    "#### Cell type classification"
   ]
  },
  {
   "cell_type": "code",
   "execution_count": null,
   "metadata": {
    "colab": {
     "base_uri": "https://localhost:8080/"
    },
    "executionInfo": {
     "elapsed": 4636467,
     "status": "ok",
     "timestamp": 1729678493759,
     "user": {
      "displayName": "Amit Samal",
      "userId": "04401365306056000967"
     },
     "user_tz": -330
    },
    "id": "xqvT9AiQFVGq",
    "outputId": "1e450766-278f-4420-b191-c7ffb55118f2"
   },
   "outputs": [],
   "source": [
    "# Command to run end to end pipeline.\n",
    "# This shell will take approximately 00:21:15 (hh:mm:ss) on GPU to run.()\n",
    "\n",
    "!python scaLR/pipeline.py --config scaLR/tutorials/pipeline/config_celltype.yaml -l -m"
   ]
  },
  {
   "cell_type": "markdown",
   "metadata": {},
   "source": [
    "#### Clinical condition specific biomarker identification and differential gene expression analysis"
   ]
  },
  {
   "cell_type": "code",
   "execution_count": null,
   "metadata": {},
   "outputs": [],
   "source": [
    "## It takes 01:16:58 (hh:mm:ss) to run on the CPU for clinical condition-specific biomarker identification.\n",
    "## To reduce the runtime, please comment out the 'DgeLMEM' section under the 'full_samples_downstream_analysis.\n",
    "\n",
    "!python scaLR/pipeline.py --config scaLR/tutorials/pipeline/config_clinical.yaml -l -m"
   ]
  },
  {
   "cell_type": "markdown",
   "metadata": {},
   "source": [
    "Pipeline logs can be found at `scalr_experiments/exp_name_0/logs.txt` (cell type classification)\n",
    "\n",
    "For clinical condition specific biomarker identification, the logs can be found at `scalr_experiments/exp_name_1/logs.txt`"
   ]
  },
  {
   "cell_type": "markdown",
   "metadata": {
    "id": "oe4d74mjIcgW"
   },
   "source": [
    "### <span style=\"color: steelblue;\">Results </span>\n",
    "We have done the celltype classification and biomarker discovery with name `exp_name_0`.\n",
    "\n",
    "- The  classification report can be found at `scalr_experiments/exp_name_0/analysis/classification_report.csv`\n",
    "\n",
    "- Top-5k Biomarkers can be found at `scalr_experiments/exp_name_0/analysis/gene_analysis/top_features.json`.\n",
    "\n",
    "- `Heatmaps` for each class(cell types) can be found at `scalr_experiments/exp_name_0/analysis/test_samples/heatmaps`\n",
    "\n",
    "- `Gene_recall_curve`, and `roc_auc` data can be found at `scalr_experiments/exp_name_0/analysis/test_samples/`.\n",
    "\n",
    "- `score_matrix.csv` with gene scores for all classes can be found at `scalr_experiments/exp_name_0/analysis/gene_analysis/score_matrix.csv`"
   ]
  },
  {
   "cell_type": "code",
   "execution_count": null,
   "metadata": {
    "colab": {
     "base_uri": "https://localhost:8080/",
     "height": 457
    },
    "executionInfo": {
     "elapsed": 445,
     "status": "ok",
     "timestamp": 1729248934011,
     "user": {
      "displayName": "Amit Samal",
      "userId": "04401365306056000967"
     },
     "user_tz": -330
    },
    "id": "MM5v5OTcQocC",
    "outputId": "8d3a4375-6e83-4278-c079-9841f0aff8f5"
   },
   "outputs": [],
   "source": [
    "#Classification report\n",
    "pd.read_csv('/content/scalr_experiments/exp_name_0/analysis/classification_report.csv',index_col=0)"
   ]
  },
  {
   "cell_type": "code",
   "execution_count": null,
   "metadata": {},
   "outputs": [],
   "source": [
    "#ROC_AUC\n",
    "display(SVG('/content/scalr_experiments/exp_name_0/analysis/test_samples/roc_auc.svg'))"
   ]
  },
  {
   "cell_type": "code",
   "execution_count": null,
   "metadata": {},
   "outputs": [],
   "source": [
    "# Heatmap for cell type 'classical monocyte'\n",
    "display(SVG('/content/scalr_experiments/exp_name_0/analysis/test_samples/heatmaps/classical monocyte.svg'))"
   ]
  },
  {
   "cell_type": "code",
   "execution_count": null,
   "metadata": {
    "colab": {
     "base_uri": "https://localhost:8080/",
     "height": 1000
    },
    "executionInfo": {
     "elapsed": 680,
     "status": "ok",
     "timestamp": 1729248762995,
     "user": {
      "displayName": "Amit Samal",
      "userId": "04401365306056000967"
     },
     "user_tz": -330
    },
    "id": "zbui27nxIh_J",
    "outputId": "bbdfa565-895d-4754-fc59-4f6b02d12833"
   },
   "outputs": [],
   "source": [
    "# Gene recall curve\n",
    "display(SVG('scalr_experiments/exp_name_0/analysis/test_samples/gene_recall_curve.svg'))"
   ]
  },
  {
   "cell_type": "markdown",
   "metadata": {
    "id": "52n0PSr87FjJ"
   },
   "source": [
    "\n",
    "For clinical condition-specific biomarker identification and DGE analysis with the experiment name `exp_name_1`. All analysis results can be viewed in the `exp_name_1` directory, as explained above for cell type classification. The difference is that we have results for only two classes in `exp_name_1`, namely `COVID-19` and `normal`, along with the results for DGE analysis."
   ]
  },
  {
   "cell_type": "code",
   "execution_count": null,
   "metadata": {},
   "outputs": [],
   "source": [
    "# DgePseudoBulk results for 'conventional dendritic cell' in 'COVID-19' w.r.t. 'normal' samples\n",
    "pd.read_csv('/content/scalr_experiments/exp_name_1/analysis/full_samples/pseudobulk_dge_result/pbkDGE_conventionaldendriticcell_COVID-19_vs_normal.csv')"
   ]
  },
  {
   "cell_type": "code",
   "execution_count": null,
   "metadata": {},
   "outputs": [],
   "source": [
    "# Volcano plot of `log2FoldChange` vs `-log10(pvalue)` in gene expression for \n",
    "# 'conventional dendritic cell' in 'COVID-19' w.r.t. 'normal' samples.\n",
    "display(SVG('/content/scalr_experiments/exp_name_1/analysis/full_samples/pseudobulk_dge_result/pbkDGE_conventionaldendriticcell_COVID-19_vs_normal.svg'))"
   ]
  },
  {
   "cell_type": "markdown",
   "metadata": {},
   "source": [
    "*Note*: A `Fold Change (FC)` of 1.5 units in the figure above is equivalent to a `log2 Fold Change` of 0.584."
   ]
  },
  {
   "cell_type": "markdown",
   "metadata": {
    "id": "RL5n6rqzR4Sc"
   },
   "source": [
    "## <span style=\"color: steelblue;\">Running scaLR in modules</span>"
   ]
  },
  {
   "cell_type": "markdown",
   "metadata": {
    "id": "6jypX2axToza"
   },
   "source": [
    "### Imports"
   ]
  },
  {
   "cell_type": "code",
   "execution_count": null,
   "metadata": {
    "executionInfo": {
     "elapsed": 7948,
     "status": "ok",
     "timestamp": 1729680656110,
     "user": {
      "displayName": "Amit Samal",
      "userId": "04401365306056000967"
     },
     "user_tz": -330
    },
    "id": "yqnxGZnHIiJr"
   },
   "outputs": [],
   "source": [
    "import sys\n",
    "sys.path.append('scaLR/')\n",
    "import os\n",
    "from os import path\n",
    "\n",
    "from scalr.data_ingestion_pipeline import DataIngestionPipeline\n",
    "from scalr.eval_and_analysis_pipeline import EvalAndAnalysisPipeline\n",
    "from scalr.feature_extraction_pipeline import FeatureExtractionPipeline\n",
    "from scalr.model_training_pipeline import ModelTrainingPipeline\n",
    "from scalr.utils import read_data\n",
    "from scalr.utils import write_data"
   ]
  },
  {
   "cell_type": "markdown",
   "metadata": {
    "id": "tObhEJKkT0Ew"
   },
   "source": [
    "### Load Config\n",
    "\n",
    "Running with example config files with required edits. Make sure to change the experiment name if required."
   ]
  },
  {
   "cell_type": "code",
   "execution_count": null,
   "metadata": {
    "colab": {
     "base_uri": "https://localhost:8080/"
    },
    "executionInfo": {
     "elapsed": 439,
     "status": "ok",
     "timestamp": 1729680663302,
     "user": {
      "displayName": "Amit Samal",
      "userId": "04401365306056000967"
     },
     "user_tz": -330
    },
    "id": "dbrUCh-LTxbl",
    "outputId": "441eaf29-9225-4231-9456-3273371890de"
   },
   "outputs": [],
   "source": [
    "config = read_data('scaLR/tutorials/pipeline/config_celltype.yaml')\n",
    "# config = read_data('scaLR/tutorials/pipeline/config_clinical.yaml')\n",
    "config"
   ]
  },
  {
   "cell_type": "code",
   "execution_count": null,
   "metadata": {
    "executionInfo": {
     "elapsed": 459,
     "status": "ok",
     "timestamp": 1729680769316,
     "user": {
      "displayName": "Amit Samal",
      "userId": "04401365306056000967"
     },
     "user_tz": -330
    },
    "id": "XU-FLwPlULd1"
   },
   "outputs": [],
   "source": [
    "dirpath = config['experiment']['dirpath']\n",
    "exp_name = config['experiment']['exp_name']\n",
    "exp_run = config['experiment']['exp_run']\n",
    "dirpath = os.path.join(dirpath, f'{exp_name}_{exp_run}')\n",
    "os.makedirs(dirpath, exist_ok=True)\n",
    "device = config['device']"
   ]
  },
  {
   "cell_type": "markdown",
   "metadata": {
    "id": "C44uQoNiUe4M"
   },
   "source": [
    "### Data Ingestion"
   ]
  },
  {
   "cell_type": "code",
   "execution_count": null,
   "metadata": {
    "id": "JX5nB5gzUh7L"
   },
   "outputs": [],
   "source": [
    "# This shell will take approximately 00:01:23 (hh:mm:ss) to run.\n",
    "\n",
    "data_dirpath = path.join(dirpath, 'data')\n",
    "os.makedirs(data_dirpath, exist_ok=True)\n",
    "\n",
    "# Initialize Data Ingestion object\n",
    "ingest_data = DataIngestionPipeline(config['data'], data_dirpath)\n",
    "\n",
    "# Generate Train, Validation and Test Splits for pipeline\n",
    "ingest_data.generate_train_val_test_split()\n",
    "\n",
    "# Apply pre-processing on data\n",
    "# Fit on Train data, and then apply on the entire data\n",
    "ingest_data.preprocess_data()\n",
    "\n",
    "# We generate label mapings from the metadata, which is used for\n",
    "# labels, etc.\n",
    "ingest_data.generate_mappings()\n",
    "\n",
    "# All the additional data generated (label mappings, data splits, etc.)\n",
    "# are passed onto the config for future use in pipeline\n",
    "config['data'] = ingest_data.get_updated_config()\n",
    "write_data(config, path.join(dirpath, 'config.yaml'))\n",
    "del ingest_data"
   ]
  },
  {
   "cell_type": "markdown",
   "metadata": {
    "id": "qc76-jFSVmfY"
   },
   "source": [
    "### Feature Selection"
   ]
  },
  {
   "cell_type": "code",
   "execution_count": null,
   "metadata": {
    "id": "w4CfG8YQVoTJ"
   },
   "outputs": [],
   "source": [
    "# This shell will take approximately 00:19:02 (hh:mm:ss) to run.\n",
    "\n",
    "feature_extraction_dirpath = path.join(dirpath, 'feature_extraction')\n",
    "os.makedirs(feature_extraction_dirpath, exist_ok=True)\n",
    "\n",
    "# Initialize Feature Extraction object\n",
    "extract_features = FeatureExtractionPipeline(\n",
    "    config['feature_selection'], feature_extraction_dirpath, device)\n",
    "extract_features.load_data_and_targets_from_config(config['data'])\n",
    "\n",
    "# Train feature subset models and get scores for each feature/genes\n",
    "extract_features.feature_subsetted_model_training()\n",
    "extract_features.feature_scoring()\n",
    "\n",
    "# Extract top features by some algorithm, and write a feature-subsetted\n",
    "# dataset\n",
    "extract_features.top_feature_extraction()\n",
    "config['data'] = extract_features.write_top_features_subset_data(\n",
    "    config['data'])\n",
    "\n",
    "# All the additional data generated (subset data splits, etc.)\n",
    "# are passed onto the config for future use in pipeline\n",
    "config['feature_selection'] = extract_features.get_updated_config()\n",
    "write_data(config, path.join(dirpath, 'config.yaml'))\n",
    "del extract_features"
   ]
  },
  {
   "cell_type": "markdown",
   "metadata": {
    "id": "z-Scub2RVtqi"
   },
   "source": [
    "### Final Model Training"
   ]
  },
  {
   "cell_type": "code",
   "execution_count": null,
   "metadata": {
    "id": "Roc1gACAVoY6"
   },
   "outputs": [],
   "source": [
    "# This shell will take approximately 00:06:20 (hh:mm:ss) to run.\n",
    "\n",
    "model_training_dirpath = path.join(dirpath, 'model')\n",
    "os.makedirs(model_training_dirpath, exist_ok=True)\n",
    "\n",
    "# Initialize Final Model Training object\n",
    "model_trainer = ModelTrainingPipeline(\n",
    "    config['final_training']['model'],\n",
    "    config['final_training']['model_train_config'],\n",
    "    model_training_dirpath, device)\n",
    "model_trainer.load_data_and_targets_from_config(config['data'])\n",
    "\n",
    "# Build the training artifacts from config, and train the model\n",
    "model_trainer.build_model_training_artifacts()\n",
    "model_trainer.train()\n",
    "\n",
    "# All the additional data generated (model defaults filled, etc.)\n",
    "# are passed onto the config for future use in pipeline\n",
    "model_config, model_train_config = model_trainer.get_updated_config()\n",
    "config['final_training']['model'] = model_config\n",
    "config['final_training']['model_train_config'] = model_train_config\n",
    "write_data(config, path.join(dirpath, 'config.yaml'))\n",
    "del model_trainer"
   ]
  },
  {
   "cell_type": "markdown",
   "metadata": {
    "id": "GZFd8R8QWpmS"
   },
   "source": [
    "### Evaluation and Analysis"
   ]
  },
  {
   "cell_type": "code",
   "execution_count": null,
   "metadata": {
    "id": "w71AS8mXVob9"
   },
   "outputs": [],
   "source": [
    "# This shell will take approximately 00:00:26 (hh:mm:ss) to run.\n",
    "\n",
    "analysis_dirpath = path.join(dirpath, 'analysis')\n",
    "os.makedirs(analysis_dirpath, exist_ok=True)\n",
    "\n",
    "# Get path of the best trained model\n",
    "config['analysis']['model_checkpoint'] = path.join(\n",
    "    model_training_dirpath, 'best_model')\n",
    "\n",
    "# Initialize Evaluation and Analysis Pipeline object\n",
    "analyser = EvalAndAnalysisPipeline(config['analysis'], analysis_dirpath,\n",
    "                                    device)\n",
    "analyser.load_data_and_targets_from_config(config['data'])\n",
    "\n",
    "# Perform evaluation of trained model on test data and generate\n",
    "# classification report\n",
    "analyser.evaluation_and_classification_report()\n",
    "\n",
    "# Perform gene analysis based on the trained model to get\n",
    "# top genes / biomarker analysis\n",
    "analyser.gene_analysis()\n",
    "\n",
    "# Perform downstream analysis on all samples / test samples\n",
    "analyser.full_samples_downstream_anlaysis()\n",
    "analyser.test_samples_downstream_anlaysis()\n",
    "\n",
    "# All the additional data generated\n",
    "# are passed onto the config for future use in pipeline\n",
    "config['analysis'] = analyser.get_updated_config()\n",
    "write_data(config, path.join(dirpath, 'config.yaml'))\n",
    "del analyser"
   ]
  },
  {
   "cell_type": "markdown",
   "metadata": {},
   "source": [
    "Analysis results can be viewed inside `scalr_experiments` under the `exp_name` specified in the `config.yaml`, as mentioned above."
   ]
  },
  {
   "cell_type": "markdown",
   "metadata": {
    "id": "0V2-AKThIaks"
   },
   "source": []
  }
 ],
 "metadata": {
  "accelerator": "GPU",
  "colab": {
   "authorship_tag": "ABX9TyOQSl0bwUs65fu4I9m7wnVN",
   "gpuType": "T4",
   "provenance": []
  },
  "kernelspec": {
   "display_name": "Python 3 (ipykernel)",
   "language": "python",
   "name": "python3"
  },
  "language_info": {
   "codemirror_mode": {
    "name": "ipython",
    "version": 3
   },
   "file_extension": ".py",
   "mimetype": "text/x-python",
   "name": "python",
   "nbconvert_exporter": "python",
   "pygments_lexer": "ipython3",
   "version": "3.10.12"
  }
 },
 "nbformat": 4,
 "nbformat_minor": 4
}
