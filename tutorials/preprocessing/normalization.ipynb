{
 "cells": [
  {
   "cell_type": "markdown",
   "id": "0b3cbafc-1741-4535-91c1-75185c5afc08",
   "metadata": {},
   "source": [
    "Keypoints\n",
    "\n",
    "1. This notebook has been designed as a tutorial for using normalization from a scalr library.\n",
    "2. Also, we have compared results using standard library like sklearn, scanpy etc.\n",
    "3. These packages are built so to handle very large data say lakhs of samples with low resource constraints, which standard libraries can't handle at once."
   ]
  },
  {
   "cell_type": "markdown",
   "id": "e6012f9b-e45a-4401-9349-0c1fa2a3c81a",
   "metadata": {},
   "source": [
    "# Imports"
   ]
  },
  {
   "cell_type": "code",
   "execution_count": 1,
   "id": "21be67bc-29d0-44e4-a8a4-cfc7e3ca5645",
   "metadata": {},
   "outputs": [],
   "source": [
    "import sys\n",
    "sys.path.append('/home/anand/bioc_repo/single_cell_classification/')"
   ]
  },
  {
   "cell_type": "code",
   "execution_count": 2,
   "id": "de5a0712-dff6-4b01-a5cb-f248d944355e",
   "metadata": {},
   "outputs": [],
   "source": [
    "import pandas as pd\n",
    "import numpy as np\n",
    "import anndata\n",
    "\n",
    "# scalr library normalization modules.\n",
    "from _scalr.data.preprocess import standard_scale, sample_norm\n",
    "from _scalr.utils.file_utils import read_data, write_data, write_chunkwise_data\n",
    "\n",
    "# Scanpy library for sample-norm\n",
    "import scanpy as sc\n",
    "# Sklearn library for standard scaler object\n",
    "from sklearn.preprocessing import StandardScaler\n",
    "from os import path\n",
    "\n",
    "%reload_ext autoreload\n",
    "%autoreload 2"
   ]
  },
  {
   "cell_type": "markdown",
   "id": "35ef2c7b-e7ae-44f4-b5e2-429f515d8108",
   "metadata": {},
   "source": [
    "# Data generation"
   ]
  },
  {
   "cell_type": "code",
   "execution_count": 3,
   "id": "f10ace70-07fe-4c45-a32a-dd796cffd96c",
   "metadata": {},
   "outputs": [],
   "source": [
    "# Setting seed for reproducibility.\n",
    "np.random.seed(0)"
   ]
  },
  {
   "cell_type": "code",
   "execution_count": 4,
   "id": "f6523010-d479-4d2f-a3e8-9ec7bc3bd6e9",
   "metadata": {},
   "outputs": [
    {
     "data": {
      "text/plain": [
       "AnnData object with n_obs × n_vars = 100 × 50\n",
       "    obs: 'dummy'"
      ]
     },
     "execution_count": 4,
     "metadata": {},
     "output_type": "execute_result"
    }
   ],
   "source": [
    "# Anndata object is required for using pipeline normalization functions.\n",
    "train_adata = anndata.AnnData(X=np.random.rand(100, 50))\n",
    "train_adata.obs = pd.DataFrame(np.random.rand(train_adata.shape[0]), columns=['dummy'])\n",
    "train_adata"
   ]
  },
  {
   "cell_type": "code",
   "execution_count": 5,
   "id": "5b660df2",
   "metadata": {},
   "outputs": [
    {
     "name": "stderr",
     "output_type": "stream",
     "text": [
      "/home/anand/conda/envs/scalr_minerva/lib/python3.9/site-packages/anndata/_core/aligned_df.py:67: ImplicitModificationWarning: Transforming to str index.\n",
      "  warnings.warn(\"Transforming to str index.\", ImplicitModificationWarning)\n",
      "/home/anand/conda/envs/scalr_minerva/lib/python3.9/site-packages/anndata/_core/aligned_df.py:67: ImplicitModificationWarning: Transforming to str index.\n",
      "  warnings.warn(\"Transforming to str index.\", ImplicitModificationWarning)\n",
      "/home/anand/conda/envs/scalr_minerva/lib/python3.9/site-packages/anndata/_core/aligned_df.py:67: ImplicitModificationWarning: Transforming to str index.\n",
      "  warnings.warn(\"Transforming to str index.\", ImplicitModificationWarning)\n",
      "/home/anand/conda/envs/scalr_minerva/lib/python3.9/site-packages/anndata/_core/aligned_df.py:67: ImplicitModificationWarning: Transforming to str index.\n",
      "  warnings.warn(\"Transforming to str index.\", ImplicitModificationWarning)\n",
      "/home/anand/conda/envs/scalr_minerva/lib/python3.9/site-packages/anndata/_core/aligned_df.py:67: ImplicitModificationWarning: Transforming to str index.\n",
      "  warnings.warn(\"Transforming to str index.\", ImplicitModificationWarning)\n",
      "/home/anand/conda/envs/scalr_minerva/lib/python3.9/site-packages/anndata/_core/aligned_df.py:67: ImplicitModificationWarning: Transforming to str index.\n",
      "  warnings.warn(\"Transforming to str index.\", ImplicitModificationWarning)\n",
      "/home/anand/conda/envs/scalr_minerva/lib/python3.9/site-packages/anndata/_core/aligned_df.py:67: ImplicitModificationWarning: Transforming to str index.\n",
      "  warnings.warn(\"Transforming to str index.\", ImplicitModificationWarning)\n",
      "/home/anand/conda/envs/scalr_minerva/lib/python3.9/site-packages/anndata/_core/aligned_df.py:67: ImplicitModificationWarning: Transforming to str index.\n",
      "  warnings.warn(\"Transforming to str index.\", ImplicitModificationWarning)\n",
      "/home/anand/conda/envs/scalr_minerva/lib/python3.9/site-packages/anndata/_core/aligned_df.py:67: ImplicitModificationWarning: Transforming to str index.\n",
      "  warnings.warn(\"Transforming to str index.\", ImplicitModificationWarning)\n",
      "/home/anand/conda/envs/scalr_minerva/lib/python3.9/site-packages/anndata/_core/aligned_df.py:67: ImplicitModificationWarning: Transforming to str index.\n",
      "  warnings.warn(\"Transforming to str index.\", ImplicitModificationWarning)\n",
      "/home/anand/conda/envs/scalr_minerva/lib/python3.9/site-packages/anndata/_core/aligned_df.py:67: ImplicitModificationWarning: Transforming to str index.\n",
      "  warnings.warn(\"Transforming to str index.\", ImplicitModificationWarning)\n"
     ]
    }
   ],
   "source": [
    "write_data(train_adata, '/home/anand/bioc_repo/single_cell_classification/tutorials/preprocessing/train.h5ad')\n",
    "write_chunkwise_data(datapath='/home/anand/bioc_repo/single_cell_classification/tutorials/preprocessing/train.h5ad',\n",
    "                     sample_chunksize=10,\n",
    "                     dirpath='/home/anand/bioc_repo/single_cell_classification/tutorials/preprocessing/data/train')"
   ]
  },
  {
   "cell_type": "code",
   "execution_count": 6,
   "id": "6832cdca",
   "metadata": {},
   "outputs": [
    {
     "data": {
      "text/plain": [
       "AnnData object with n_obs × n_vars = 20 × 50\n",
       "    obs: 'dummy'"
      ]
     },
     "execution_count": 6,
     "metadata": {},
     "output_type": "execute_result"
    }
   ],
   "source": [
    "# Anndata object is required for using pipeline normalization functions.\n",
    "val_adata = anndata.AnnData(X=np.random.rand(20, 50))\n",
    "val_adata.obs = pd.DataFrame(np.random.rand(val_adata.shape[0]), columns=['dummy'])\n",
    "val_adata"
   ]
  },
  {
   "cell_type": "code",
   "execution_count": 7,
   "id": "d88b5158",
   "metadata": {},
   "outputs": [
    {
     "name": "stderr",
     "output_type": "stream",
     "text": [
      "/home/anand/conda/envs/scalr_minerva/lib/python3.9/site-packages/anndata/_core/aligned_df.py:67: ImplicitModificationWarning: Transforming to str index.\n",
      "  warnings.warn(\"Transforming to str index.\", ImplicitModificationWarning)\n",
      "/home/anand/conda/envs/scalr_minerva/lib/python3.9/site-packages/anndata/_core/aligned_df.py:67: ImplicitModificationWarning: Transforming to str index.\n",
      "  warnings.warn(\"Transforming to str index.\", ImplicitModificationWarning)\n",
      "/home/anand/conda/envs/scalr_minerva/lib/python3.9/site-packages/anndata/_core/aligned_df.py:67: ImplicitModificationWarning: Transforming to str index.\n",
      "  warnings.warn(\"Transforming to str index.\", ImplicitModificationWarning)\n"
     ]
    }
   ],
   "source": [
    "write_data(val_adata, '/home/anand/bioc_repo/single_cell_classification/tutorials/preprocessing/val.h5ad')\n",
    "write_chunkwise_data(datapath='/home/anand/bioc_repo/single_cell_classification/tutorials/preprocessing/val.h5ad',\n",
    "                     sample_chunksize=10,\n",
    "                     dirpath='/home/anand/bioc_repo/single_cell_classification/tutorials/preprocessing/data/val')"
   ]
  },
  {
   "cell_type": "code",
   "execution_count": 8,
   "id": "4aaff8c7",
   "metadata": {},
   "outputs": [
    {
     "data": {
      "text/plain": [
       "AnnData object with n_obs × n_vars = 20 × 50\n",
       "    obs: 'dummy'"
      ]
     },
     "execution_count": 8,
     "metadata": {},
     "output_type": "execute_result"
    }
   ],
   "source": [
    "# Anndata object is required for using pipeline normalization functions.\n",
    "test_adata = anndata.AnnData(X=np.random.rand(20, 50))\n",
    "test_adata.obs = pd.DataFrame(np.random.rand(test_adata.shape[0]), columns=['dummy'])\n",
    "test_adata"
   ]
  },
  {
   "cell_type": "code",
   "execution_count": 9,
   "id": "a822b0ac",
   "metadata": {},
   "outputs": [
    {
     "name": "stderr",
     "output_type": "stream",
     "text": [
      "/home/anand/conda/envs/scalr_minerva/lib/python3.9/site-packages/anndata/_core/aligned_df.py:67: ImplicitModificationWarning: Transforming to str index.\n",
      "  warnings.warn(\"Transforming to str index.\", ImplicitModificationWarning)\n",
      "/home/anand/conda/envs/scalr_minerva/lib/python3.9/site-packages/anndata/_core/aligned_df.py:67: ImplicitModificationWarning: Transforming to str index.\n",
      "  warnings.warn(\"Transforming to str index.\", ImplicitModificationWarning)\n",
      "/home/anand/conda/envs/scalr_minerva/lib/python3.9/site-packages/anndata/_core/aligned_df.py:67: ImplicitModificationWarning: Transforming to str index.\n",
      "  warnings.warn(\"Transforming to str index.\", ImplicitModificationWarning)\n"
     ]
    }
   ],
   "source": [
    "write_data(test_adata, '/home/anand/bioc_repo/single_cell_classification/tutorials/preprocessing/test.h5ad')\n",
    "write_chunkwise_data(datapath='/home/anand/bioc_repo/single_cell_classification/tutorials/preprocessing/test.h5ad',\n",
    "                     sample_chunksize=10,\n",
    "                     dirpath='/home/anand/bioc_repo/single_cell_classification/tutorials/preprocessing/data/test')"
   ]
  },
  {
   "cell_type": "code",
   "execution_count": 10,
   "id": "f57ff381-ed01-4a18-9c41-dded55f308bf",
   "metadata": {},
   "outputs": [
    {
     "data": {
      "text/plain": [
       "array([[0.5488135 , 0.71518937, 0.60276338, 0.54488318, 0.4236548 ,\n",
       "        0.64589411, 0.43758721, 0.891773  , 0.96366276, 0.38344152],\n",
       "       [0.57019677, 0.43860151, 0.98837384, 0.10204481, 0.20887676,\n",
       "        0.16130952, 0.65310833, 0.2532916 , 0.46631077, 0.24442559],\n",
       "       [0.67781654, 0.27000797, 0.73519402, 0.96218855, 0.24875314,\n",
       "        0.57615733, 0.59204193, 0.57225191, 0.22308163, 0.95274901],\n",
       "       [0.1494483 , 0.86812606, 0.16249293, 0.61555956, 0.12381998,\n",
       "        0.84800823, 0.80731896, 0.56910074, 0.4071833 , 0.069167  ],\n",
       "       [0.31179588, 0.69634349, 0.37775184, 0.17960368, 0.02467873,\n",
       "        0.06724963, 0.67939277, 0.45369684, 0.53657921, 0.89667129],\n",
       "       [0.35561274, 0.94043195, 0.76532525, 0.74866362, 0.90371974,\n",
       "        0.08342244, 0.55219247, 0.58447607, 0.96193638, 0.29214753],\n",
       "       [0.9065555 , 0.77404733, 0.33314515, 0.08110139, 0.40724117,\n",
       "        0.23223414, 0.13248763, 0.05342718, 0.72559436, 0.01142746],\n",
       "       [0.64557024, 0.03536244, 0.43040244, 0.51001685, 0.53617749,\n",
       "        0.68139251, 0.2775961 , 0.12886057, 0.39267568, 0.95640572],\n",
       "       [0.4012595 , 0.92929142, 0.09961493, 0.94530153, 0.86948853,\n",
       "        0.4541624 , 0.32670088, 0.23274413, 0.61446471, 0.03307459],\n",
       "       [0.29655627, 0.99201124, 0.24942004, 0.10590615, 0.95095261,\n",
       "        0.23342026, 0.68976827, 0.05835636, 0.7307091 , 0.88172021]])"
      ]
     },
     "execution_count": 10,
     "metadata": {},
     "output_type": "execute_result"
    }
   ],
   "source": [
    "train_adata.X[:10, :10]"
   ]
  },
  {
   "cell_type": "code",
   "execution_count": 11,
   "id": "843863af-ee4d-4662-a428-a61f5b40f175",
   "metadata": {},
   "outputs": [
    {
     "data": {
      "text/plain": [
       "array([[0.77037589, 0.38012993, 0.62219227, 0.89340603, 0.15839147,\n",
       "        0.00890616, 0.25675661, 0.79747194, 0.56682564, 0.94616086],\n",
       "       [0.56175023, 0.21120622, 0.62191259, 0.33469926, 0.13247703,\n",
       "        0.98440186, 0.24994142, 0.06197715, 0.27883662, 0.25170006],\n",
       "       [0.62892557, 0.23211187, 0.26718466, 0.18380395, 0.57241143,\n",
       "        0.44671866, 0.19356411, 0.93264093, 0.23922315, 0.7787389 ],\n",
       "       [0.01133226, 0.49481513, 0.26726704, 0.16443269, 0.66570567,\n",
       "        0.83554564, 0.54440575, 0.19379416, 0.75128533, 0.52133267],\n",
       "       [0.75611165, 0.2240344 , 0.21169364, 0.68427305, 0.78063916,\n",
       "        0.88636479, 0.44831369, 0.71629609, 0.17094955, 0.31475925],\n",
       "       [0.92530067, 0.47039993, 0.05079764, 0.61044325, 0.45600704,\n",
       "        0.08858767, 0.34796249, 0.61442608, 0.62770854, 0.88690303],\n",
       "       [0.74273847, 0.99055173, 0.46307262, 0.29491718, 0.34666684,\n",
       "        0.09193108, 0.45011323, 0.62712862, 0.62357741, 0.01276903],\n",
       "       [0.90169098, 0.82538828, 0.47676529, 0.82514779, 0.07562909,\n",
       "        0.25422661, 0.8668669 , 0.04138781, 0.39805402, 0.86046989],\n",
       "       [0.31148372, 0.68694574, 0.89343391, 0.10834973, 0.6096532 ,\n",
       "        0.67812893, 0.27617701, 0.7566406 , 0.10332831, 0.23967689],\n",
       "       [0.57797128, 0.72309305, 0.80813283, 0.93128198, 0.28999035,\n",
       "        0.39246662, 0.89996731, 0.83447614, 0.39913624, 0.46733827]])"
      ]
     },
     "execution_count": 11,
     "metadata": {},
     "output_type": "execute_result"
    }
   ],
   "source": [
    "val_adata.X[:10, :10]"
   ]
  },
  {
   "cell_type": "code",
   "execution_count": 12,
   "id": "3b5f8caa-84be-40a9-8a5e-dbdf3d4affe0",
   "metadata": {},
   "outputs": [
    {
     "data": {
      "text/plain": [
       "array([[0.39300922, 0.14791115, 0.16613857, 0.62739702, 0.85816427,\n",
       "        0.77896724, 0.33649381, 0.87521597, 0.84134592, 0.5242117 ],\n",
       "       [0.02924269, 0.76688868, 0.53768803, 0.79992882, 0.40886803,\n",
       "        0.66550279, 0.19880421, 0.19184457, 0.34026241, 0.51944051],\n",
       "       [0.1279081 , 0.38554568, 0.48996963, 0.18237171, 0.70428385,\n",
       "        0.84137876, 0.0044646 , 0.13322339, 0.28346284, 0.98411023],\n",
       "       [0.7905697 , 0.88564525, 0.05074183, 0.98221686, 0.42646149,\n",
       "        0.19298211, 0.97002278, 0.82518232, 0.92972355, 0.52315373],\n",
       "       [0.52305469, 0.84693774, 0.10625275, 0.82951664, 0.6509179 ,\n",
       "        0.21492954, 0.73690562, 0.74133329, 0.10800158, 0.26644681],\n",
       "       [0.53085633, 0.57597739, 0.52906692, 0.01068652, 0.34873891,\n",
       "        0.79046226, 0.34689564, 0.5093795 , 0.34663208, 0.19923791],\n",
       "       [0.08791557, 0.90621296, 0.91842522, 0.99770599, 0.77788857,\n",
       "        0.26263784, 0.26455887, 0.68821688, 0.67973266, 0.6603292 ],\n",
       "       [0.96742008, 0.09691402, 0.92833309, 0.79799602, 0.71233744,\n",
       "        0.36278598, 0.67955724, 0.81066643, 0.83042475, 0.80577562],\n",
       "       [0.30946286, 0.48914295, 0.69297402, 0.75867347, 0.40178098,\n",
       "        0.75560642, 0.72760401, 0.63247417, 0.14162976, 0.28724399],\n",
       "       [0.98504888, 0.58910049, 0.65234515, 0.28848917, 0.32585141,\n",
       "        0.19635559, 0.51460167, 0.14797458, 0.61848128, 0.46531022]])"
      ]
     },
     "execution_count": 12,
     "metadata": {},
     "output_type": "execute_result"
    }
   ],
   "source": [
    "test_adata.X[:10, :10]"
   ]
  },
  {
   "cell_type": "markdown",
   "id": "11b34e08-7022-4202-b993-31d33e25e47d",
   "metadata": {},
   "source": [
    "# 1. StandardScaler"
   ]
  },
  {
   "cell_type": "markdown",
   "id": "c6053926-c6be-4fac-a32a-5fc0fa2a6f9e",
   "metadata": {},
   "source": [
    "## scalr package - how to to use it?"
   ]
  },
  {
   "cell_type": "code",
   "execution_count": 13,
   "id": "00377fe1-fb3e-4558-a492-d5561187a29f",
   "metadata": {},
   "outputs": [
    {
     "name": "stderr",
     "output_type": "stream",
     "text": [
      "INFO:absl:Applying Standard Scaler normalization on data.\n"
     ]
    },
    {
     "name": "stdout",
     "output_type": "stream",
     "text": [
      "\n",
      "1. `fit()` function parameters : {'data': typing.Union[anndata._core.anndata.AnnData, anndata.experimental.multi_files._anncollection.AnnCollection], 'sample_chunksize': <class 'int'>, 'return': None}\n",
      "\n",
      "2. `transform()` function parameters : {'data': <class 'numpy.ndarray'>, 'return': <class 'numpy.ndarray'>}\n"
     ]
    }
   ],
   "source": [
    "# Creating object for standard scaling normalization.\n",
    "scalr_std_scaler = standard_scale.StandardScaler(with_mean=False)\n",
    "\n",
    "print('\\n1. `fit()` function parameters :', scalr_std_scaler.fit.__annotations__)\n",
    "print('\\n2. `transform()` function parameters :', scalr_std_scaler.transform.__annotations__)"
   ]
  },
  {
   "cell_type": "code",
   "execution_count": 14,
   "id": "57e7ba69",
   "metadata": {},
   "outputs": [],
   "source": [
    "# Datapath of original splitted data\n",
    "datapath = '/home/anand/bioc_repo/single_cell_classification/tutorials/preprocessing/data'\n",
    "\n",
    "# Datapath to store processed_data\n",
    "processed_datapath = '/home/anand/bioc_repo/single_cell_classification/tutorials/preprocessing/processed_data_ss'"
   ]
  },
  {
   "cell_type": "code",
   "execution_count": 15,
   "id": "92cf9094-9a2c-4f96-a6cf-66f211c4d1f4",
   "metadata": {
    "scrolled": true
   },
   "outputs": [
    {
     "name": "stderr",
     "output_type": "stream",
     "text": [
      "INFO:absl:Calculating mean of data...\n",
      "INFO:absl:`train_mean` will be set to zero during `transform()`, as `with_mean` is set to False!\n",
      "INFO:absl:Calculating standard deviation of data...\n"
     ]
    }
   ],
   "source": [
    "# Fitting object on train data.\n",
    "## chunk size to process data in chunks - to extract required parameters from data. Enter value that can fit in your memory.\n",
    "## It can be 2k, 3k , 5k, 10k etc...\n",
    "sample_chunksize = 10\n",
    "scalr_std_scaler.fit(read_data(path.join(datapath, 'train')), sample_chunksize)\n",
    "\n",
    "# Transforming the test data using above created object & storing it at `preprocessed_datapath`.\n",
    "scalr_std_scaler.process_data(path.join(datapath, 'test'),\n",
    "                                          sample_chunksize,\n",
    "                                          path.join(processed_datapath, 'test'))"
   ]
  },
  {
   "cell_type": "code",
   "execution_count": 16,
   "id": "5d421f92",
   "metadata": {},
   "outputs": [],
   "source": [
    "# Reading transformed test data\n",
    "test_adata_pipeline = read_data(path.join(processed_datapath, 'test'))"
   ]
  },
  {
   "cell_type": "markdown",
   "id": "36566aec-54ce-4c54-80c9-86a557418f29",
   "metadata": {},
   "source": [
    "## sklearn package for standardscaling\n",
    "- Developers can ignore this section"
   ]
  },
  {
   "cell_type": "code",
   "execution_count": 17,
   "id": "a54c31bd-9de2-4772-ba68-405605d65cf4",
   "metadata": {},
   "outputs": [
    {
     "data": {
      "text/plain": [
       "array([[1.41158441e+00, 5.05259385e-01, 6.00928887e-01, 2.16354557e+00,\n",
       "        2.71034692e+00, 2.64936446e+00, 1.16691805e+00, 3.11487500e+00,\n",
       "        2.89359187e+00, 1.78371140e+00, 1.68876233e+00, 2.17117486e-01,\n",
       "        5.31501800e-01, 2.83467754e-01, 1.79832689e+00, 2.42814788e+00,\n",
       "        2.24645582e+00, 3.05534450e+00, 2.26390656e+00, 2.97262030e+00,\n",
       "        4.80383130e-01, 5.64986279e-01, 3.08674476e+00, 1.20756048e+00,\n",
       "        6.92900894e-01, 3.19969601e+00, 3.34413723e+00, 2.34214862e+00,\n",
       "        1.30912749e+00, 2.49992423e+00, 5.33703891e-02, 5.04840204e-01,\n",
       "        1.28747038e+00, 2.77672984e+00, 1.03075073e+00, 2.35046654e-01,\n",
       "        1.32045375e+00, 8.38129186e-01, 1.88717009e-01, 1.44761814e+00,\n",
       "        1.18779429e+00, 2.52889227e+00, 2.11705459e-01, 1.25629711e+00,\n",
       "        1.19896931e+00, 2.37440367e+00, 3.42723773e+00, 5.11247478e-01,\n",
       "        2.66015880e+00, 2.19147346e+00],\n",
       "       [1.05031966e-01, 2.61966535e+00, 1.94483601e+00, 2.75851238e+00,\n",
       "        1.29133111e+00, 2.26345776e+00, 6.89427887e-01, 6.82770758e-01,\n",
       "        1.17024462e+00, 1.76747668e+00, 2.54277015e+00, 2.47637696e+00,\n",
       "        2.90015553e+00, 1.41511824e+00, 3.11524594e+00, 3.91753321e-01,\n",
       "        6.79631850e-01, 2.39320432e+00, 8.72196049e-01, 5.89683818e-01,\n",
       "        3.03262297e+00, 2.25144033e-01, 3.33229239e+00, 2.93660843e+00,\n",
       "        2.77244234e+00, 2.20563374e+00, 7.75120857e-01, 2.93091564e+00,\n",
       "        1.81366979e-01, 2.11399531e+00, 1.50651151e+00, 2.61785330e+00,\n",
       "        8.29931308e-02, 1.29051578e+00, 1.61597009e+00, 6.18806904e-01,\n",
       "        1.44591450e+00, 3.16304575e+00, 1.57758378e+00, 9.13646525e-01,\n",
       "        1.79927734e+00, 2.09669637e-01, 9.85656721e-01, 2.59720097e+00,\n",
       "        2.24754714e+00, 8.80454925e-02, 2.19963378e+00, 7.77080433e-01,\n",
       "        3.17995410e+00, 2.81673500e+00],\n",
       "       [4.59411816e-01, 1.31701077e+00, 1.77223692e+00, 6.28899241e-01,\n",
       "        2.22434520e+00, 2.86163380e+00, 1.54826532e-02, 4.74139203e-01,\n",
       "        9.74897183e-01, 3.34858730e+00, 1.43556588e+00, 6.32281028e-01,\n",
       "        4.26991869e-01, 2.99140424e+00, 2.76605882e+00, 2.22238827e+00,\n",
       "        1.95933694e+00, 2.72025732e+00, 1.09345751e+00, 2.29242776e+00,\n",
       "        2.52068830e+00, 1.89477006e+00, 5.67100947e-01, 3.35642501e+00,\n",
       "        2.59023652e+00, 1.72120384e+00, 2.13715666e+00, 2.79130709e+00,\n",
       "        1.54593560e+00, 2.68415565e+00, 2.65148406e+00, 1.60128341e+00,\n",
       "        6.55645327e-01, 1.99445904e+00, 1.87743596e+00, 2.03275481e+00,\n",
       "        2.04245175e-01, 2.70129405e+00, 1.81347703e+00, 1.56274993e+00,\n",
       "        2.75431249e+00, 6.78486026e-01, 9.10000620e-01, 2.12024222e+00,\n",
       "        1.36571797e+00, 1.11253075e+00, 9.82778383e-01, 1.73668791e+00,\n",
       "        2.52746310e+00, 2.89450996e+00],\n",
       "       [2.83951575e+00, 3.02533371e+00, 1.83534937e-01, 3.38712306e+00,\n",
       "        1.34689667e+00, 6.56356149e-01, 3.36391656e+00, 2.93680632e+00,\n",
       "        3.19754390e+00, 1.78011149e+00, 2.65354441e+00, 1.92918337e+00,\n",
       "        1.90479039e+00, 3.15782389e+00, 2.52064642e+00, 2.03390782e+00,\n",
       "        1.42580490e+00, 5.75193075e-01, 3.97755879e-01, 1.07362349e+00,\n",
       "        2.37002729e+00, 6.30502856e-01, 4.41838672e-01, 2.64718060e-01,\n",
       "        2.70216721e+00, 8.46135447e-01, 6.92370252e-01, 1.43537381e+00,\n",
       "        2.12205968e+00, 2.12904605e+00, 3.16855422e+00, 2.37911346e+00,\n",
       "        1.96228202e+00, 2.37425822e+00, 2.24810289e+00, 3.11711274e+00,\n",
       "        1.99575409e+00, 2.80456925e+00, 3.02990207e+00, 2.52737825e+00,\n",
       "        1.20874493e+00, 9.64835404e-01, 2.13426256e+00, 2.09274053e+00,\n",
       "        8.37185332e-02, 2.74254831e+00, 8.56401424e-01, 1.94824805e-01,\n",
       "        4.99273932e-01, 2.36060790e+00],\n",
       "       [1.87867309e+00, 2.89311019e+00, 3.84319832e-01, 2.86054441e+00,\n",
       "        2.05579910e+00, 7.31002108e-01, 2.55549565e+00, 2.63838939e+00,\n",
       "        3.71443540e-01, 9.06626495e-01, 2.26716800e+00, 1.41337659e+00,\n",
       "        2.70206861e+00, 1.77900779e+00, 2.92566693e+00, 3.98421883e-01,\n",
       "        2.66382939e+00, 1.62637092e+00, 1.78510445e+00, 1.01765913e+00,\n",
       "        9.20443154e-01, 6.24746602e-01, 1.25479902e+00, 8.13612818e-01,\n",
       "        6.05822585e-01, 3.37414576e+00, 1.54232325e+00, 2.49034004e+00,\n",
       "        1.26129012e+00, 2.06924849e+00, 1.71248371e+00, 2.13741083e+00,\n",
       "        2.52361109e+00, 2.21514327e+00, 2.58132620e+00, 5.94215266e-01,\n",
       "        3.27837887e-01, 1.17735385e+00, 1.62199809e+00, 8.14313114e-01,\n",
       "        2.61347688e+00, 2.47966792e+00, 3.06004574e+00, 2.41598694e+00,\n",
       "        3.75150034e-01, 2.44111566e+00, 1.59048572e+00, 9.28229911e-01,\n",
       "        1.96175071e+00, 1.08613468e+00],\n",
       "       [1.90669450e+00, 1.96751893e+00, 1.91365313e+00, 3.68519018e-02,\n",
       "        1.10142484e+00, 2.68846046e+00, 1.20299030e+00, 1.81287080e+00,\n",
       "        1.19215146e+00, 6.77937803e-01, 7.08873932e-01, 2.78111159e+00,\n",
       "        2.21729157e+00, 3.09329375e+00, 1.43725042e+00, 2.28435043e+00,\n",
       "        1.70100850e+00, 1.65891620e+00, 2.93542880e+00, 1.62764498e+00,\n",
       "        3.17518310e+00, 2.04242365e+00, 2.87107430e-01, 2.31441779e-01,\n",
       "        3.13663716e+00, 1.40102153e+00, 2.02508379e+00, 1.58495896e+00,\n",
       "        5.35655469e-01, 4.55950377e-01, 7.29641744e-01, 2.11176860e+00,\n",
       "        1.90837602e+00, 1.09634035e+00, 1.49622904e-01, 1.31603973e+00,\n",
       "        1.38867740e+00, 2.62785466e+00, 2.48262444e+00, 8.03446696e-01,\n",
       "        7.69531471e-01, 2.16375241e+00, 2.18313426e+00, 1.85965843e+00,\n",
       "        3.92047623e-01, 1.04884415e+00, 1.22369524e-01, 2.72301321e+00,\n",
       "        2.62838264e+00, 3.30839983e+00],\n",
       "       [3.15769294e-01, 3.09559228e+00, 3.32197545e+00, 3.44053652e+00,\n",
       "        2.45681155e+00, 8.93263941e-01, 9.17456763e-01, 2.44934922e+00,\n",
       "        2.33776483e+00, 2.24687226e+00, 1.25313556e+00, 1.93042096e+00,\n",
       "        1.06458315e+00, 1.98061804e+00, 2.63687190e+00, 2.50730323e+00,\n",
       "        1.57018804e+00, 1.83669737e+00, 2.65473951e+00, 8.34249570e-01,\n",
       "        7.57044500e-01, 1.59635286e+00, 1.66077177e+00, 7.99108783e-02,\n",
       "        1.85821857e+00, 1.46550891e+00, 1.98689191e+00, 3.35960330e+00,\n",
       "        1.12297371e+00, 3.91613914e-01, 7.08450314e-01, 1.06937866e+00,\n",
       "        3.01504914e+00, 1.83199481e+00, 3.37045006e+00, 1.15765736e+00,\n",
       "        2.39614814e-01, 1.04634289e+00, 3.34141551e+00, 2.69656159e+00,\n",
       "        3.09288129e+00, 2.04989955e+00, 9.22333841e-01, 3.16326427e+00,\n",
       "        8.02350048e-01, 1.45775764e+00, 1.13243185e+00, 2.30063151e+00,\n",
       "        1.36228746e+00, 3.44004712e+00],\n",
       "       [3.47471519e+00, 3.31054952e-01, 3.35781256e+00, 2.75184719e+00,\n",
       "        2.24978090e+00, 1.23388024e+00, 2.35661872e+00, 2.88514458e+00,\n",
       "        2.85603132e+00, 2.74177620e+00, 1.13568180e+00, 6.87100476e-01,\n",
       "        1.92006274e+00, 8.43720639e-01, 2.67982850e+00, 1.60300269e-01,\n",
       "        1.54442355e+00, 2.72527766e+00, 2.76875085e-01, 2.46126217e+00,\n",
       "        7.90448598e-01, 4.19321927e-01, 1.03479467e+00, 6.58285329e-02,\n",
       "        2.01173103e+00, 1.16790171e+00, 3.42551399e+00, 3.59305735e-01,\n",
       "        3.01674261e+00, 1.80837072e+00, 4.03765451e-01, 2.98663274e+00,\n",
       "        3.87746875e-01, 2.15491941e+00, 8.30578277e-01, 1.82409064e+00,\n",
       "        1.99782370e+00, 3.19499928e+00, 9.57771051e-01, 1.40686880e+00,\n",
       "        6.74628019e-01, 1.18415747e+00, 4.21408529e-01, 1.81650841e+00,\n",
       "        1.95804878e+00, 2.28832747e+00, 8.89124787e-01, 1.54584979e+00,\n",
       "        1.35016778e-01, 1.44690956e-01],\n",
       "       [1.11150814e+00, 1.67089549e+00, 2.50651073e+00, 2.61624545e+00,\n",
       "        1.26894801e+00, 2.56991141e+00, 2.52323886e+00, 2.25096211e+00,\n",
       "        4.87098964e-01, 9.77392109e-01, 1.89459192e+00, 3.02277701e+00,\n",
       "        1.42409514e+00, 3.20948166e+00, 2.27158353e+00, 1.12341433e+00,\n",
       "        2.03825715e+00, 1.31286365e+00, 3.13440498e+00, 1.73215039e-01,\n",
       "        7.83101418e-01, 3.17852473e-01, 2.70765366e+00, 6.50512795e-01,\n",
       "        2.37199327e+00, 1.97017725e+00, 2.86191448e+00, 3.65385521e+00,\n",
       "        5.19947326e-01, 5.46251762e-01, 2.18250027e+00, 1.26650663e-01,\n",
       "        2.85424510e+00, 1.25666278e+00, 1.35123484e+00, 2.32336373e+00,\n",
       "        1.19270945e+00, 1.04303248e+00, 6.89996800e-01, 2.60846258e+00,\n",
       "        2.59788856e+00, 2.09558782e+00, 7.90598616e-01, 2.30263400e+00,\n",
       "        5.52714531e-01, 3.22406881e+00, 1.72275000e+00, 1.70140033e+00,\n",
       "        6.65315908e-01, 2.21227573e+00],\n",
       "       [3.53803317e+00, 2.01234699e+00, 2.35955474e+00, 9.94839681e-01,\n",
       "        1.02913905e+00, 6.67829781e-01, 1.78457364e+00, 5.26638369e-01,\n",
       "        2.12710652e+00, 1.58329002e+00, 2.21552309e+00, 2.62642795e-01,\n",
       "        3.12159248e+00, 1.25642891e+00, 7.06434421e-01, 1.79708503e+00,\n",
       "        3.37566627e+00, 2.43019730e+00, 1.16885038e+00, 1.08859000e+00,\n",
       "        2.26220750e+00, 2.92303963e-01, 1.22812814e+00, 1.62961585e+00,\n",
       "        2.42841583e+00, 1.14197082e+00, 2.73070000e+00, 2.87434568e+00,\n",
       "        6.56123901e-02, 6.91499467e-01, 2.24143096e+00, 1.73048177e+00,\n",
       "        9.65000039e-02, 1.19997402e+00, 2.11956253e+00, 4.02773348e+00,\n",
       "        7.21264223e-01, 5.30553590e-01, 1.22658941e+00, 1.99915422e+00,\n",
       "        2.24598876e+00, 1.24340684e+00, 7.65168556e-01, 1.73152878e-02,\n",
       "        6.42306630e-01, 3.67321256e-01, 9.34506876e-01, 1.15333679e+00,\n",
       "        2.56607276e-01, 1.45869527e+00],\n",
       "       [6.02068221e-01, 1.98593156e+00, 1.36679554e+00, 2.20580643e+00,\n",
       "        2.45133447e+00, 2.88085419e-01, 1.32638777e+00, 3.47988105e+00,\n",
       "        7.94325879e-03, 1.56151570e+00, 1.66403998e+00, 3.05913367e+00,\n",
       "        1.02478692e+00, 2.57547624e+00, 7.51124896e-03, 1.76107866e+00,\n",
       "        1.15927638e+00, 2.82877225e+00, 1.38489701e+00, 2.50355650e-01,\n",
       "        2.42333416e+00, 4.35239751e-02, 1.12395982e+00, 1.69652006e+00,\n",
       "        2.36846498e+00, 1.09828214e+00, 3.58843985e-01, 3.03067647e+00,\n",
       "        3.31131570e-02, 3.17084085e+00, 3.65333595e-01, 4.38517675e-01,\n",
       "        5.80434919e-01, 4.94948730e-01, 2.69200219e+00, 3.29380033e+00,\n",
       "        5.90847100e-01, 3.90891932e-01, 1.92716645e+00, 2.53909975e+00,\n",
       "        1.88953879e+00, 9.54222869e-02, 2.56602363e+00, 2.36703491e+00,\n",
       "        2.51135523e+00, 7.60654730e-01, 2.71280451e-01, 3.56570316e+00,\n",
       "        1.55713405e+00, 2.61026834e+00],\n",
       "       [3.46305536e-01, 1.72483124e+00, 1.82333486e+00, 4.23669383e-01,\n",
       "        1.11048517e+00, 3.03197768e+00, 2.39357823e+00, 2.60400080e+00,\n",
       "        3.02064733e+00, 1.05579475e+00, 2.80331153e+00, 3.58525104e-01,\n",
       "        2.03931605e+00, 1.77272080e+00, 1.47202925e+00, 7.50612984e-01,\n",
       "        1.55211271e+00, 2.95522907e+00, 2.51136803e+00, 1.57856330e+00,\n",
       "        3.31004214e+00, 2.58481872e+00, 1.48758061e-01, 2.55581558e+00,\n",
       "        2.29437004e+00, 1.72674538e-01, 3.19402144e+00, 1.71515599e+00,\n",
       "        8.06122235e-01, 1.62776540e+00, 2.86023525e+00, 8.73909271e-01,\n",
       "        3.19181256e+00, 2.16005367e-01, 3.02662061e-01, 2.43415431e+00,\n",
       "        1.77739795e+00, 2.33284277e+00, 1.46253919e-01, 9.44368678e-01,\n",
       "        2.37660899e+00, 1.18684520e+00, 1.02044521e+00, 2.71698022e+00,\n",
       "        2.78727145e+00, 2.73477173e+00, 2.42253766e+00, 3.41239205e+00,\n",
       "        6.86244352e-02, 5.48631231e-01],\n",
       "       [1.65179618e+00, 9.58826849e-01, 1.06109078e+00, 3.38050000e+00,\n",
       "        1.39661903e-01, 8.80818852e-02, 3.24296431e+00, 5.69757048e-01,\n",
       "        1.47809256e-01, 1.56027125e+00, 3.12960388e+00, 1.13666194e+00,\n",
       "        3.29176611e+00, 2.87166257e+00, 9.57307031e-01, 1.56259326e+00,\n",
       "        3.35358288e+00, 4.31538493e-01, 2.12722361e-01, 6.76131756e-01,\n",
       "        7.71832017e-01, 5.90465877e-01, 1.06582914e-01, 2.44320585e+00,\n",
       "        5.17130351e-01, 1.59758292e+00, 4.15001869e-01, 1.34233064e+00,\n",
       "        1.33990232e+00, 3.31557669e+00, 2.41954798e+00, 3.16114830e+00,\n",
       "        1.70781766e+00, 5.65011015e-01, 1.38747188e+00, 2.41122483e+00,\n",
       "        1.88704157e+00, 3.11381083e+00, 1.99414715e+00, 9.31263078e-01,\n",
       "        3.21971465e+00, 5.99368463e-01, 1.59583683e+00, 2.94193298e+00,\n",
       "        2.48566347e+00, 1.96532421e+00, 2.65491059e+00, 1.56529234e+00,\n",
       "        1.29318445e+00, 2.25658125e+00],\n",
       "       [2.64713722e+00, 3.20233188e+00, 3.02581386e+00, 3.31289747e+00,\n",
       "        3.66004050e-01, 3.36532231e+00, 6.94621310e-01, 2.87935340e-01,\n",
       "        2.25892999e+00, 2.29164469e+00, 3.45584590e+00, 2.86342454e+00,\n",
       "        1.38647077e+00, 1.99161880e+00, 2.08059103e+00, 2.74673979e+00,\n",
       "        2.10964612e+00, 1.35265135e+00, 2.34211604e+00, 8.60219349e-01,\n",
       "        1.19578636e+00, 2.35776612e-01, 2.74331502e+00, 2.41710082e-01,\n",
       "        9.54091044e-01, 3.24727972e+00, 1.92839298e+00, 8.00143369e-01,\n",
       "        3.34711996e+00, 3.19843483e+00, 2.33888448e-01, 8.03367567e-01,\n",
       "        2.24263383e+00, 6.63309788e-01, 1.81947948e+00, 6.73643382e-01,\n",
       "        2.34537571e+00, 1.84554127e+00, 3.26344194e+00, 4.85582223e-01,\n",
       "        1.79382270e+00, 1.07423438e+00, 2.05220983e+00, 6.73648209e-01,\n",
       "        3.24009504e+00, 1.60755809e+00, 1.66657118e+00, 2.81143636e+00,\n",
       "        2.95758850e+00, 1.77544503e+00],\n",
       "       [2.77026543e+00, 4.91697379e-01, 9.12972391e-01, 2.38974057e+00,\n",
       "        2.92695264e+00, 3.98641516e-01, 4.66037823e-01, 3.47081298e+00,\n",
       "        3.13783880e-01, 1.45959927e-01, 1.88706001e+00, 8.33417825e-01,\n",
       "        1.05091502e+00, 2.05065422e+00, 1.19910571e+00, 3.57295023e+00,\n",
       "        8.28544553e-01, 3.02870792e+00, 3.00806943e+00, 1.56775480e+00,\n",
       "        3.41180636e+00, 9.30848129e-01, 3.06061363e-01, 1.93096474e+00,\n",
       "        2.38581970e-02, 1.66344814e+00, 2.88462392e+00, 1.54133448e+00,\n",
       "        6.87678271e-01, 9.28432207e-01, 3.13476582e+00, 2.31018115e+00,\n",
       "        5.63265835e-01, 1.54545210e+00, 2.08169533e+00, 2.05162748e+00,\n",
       "        2.73719829e+00, 2.18603005e-02, 9.46159150e-01, 2.08507736e+00,\n",
       "        1.82146581e+00, 3.58671661e-01, 5.86888883e-01, 2.49552506e+00,\n",
       "        1.87245506e+00, 2.34924290e+00, 3.15253806e+00, 2.08742120e+00,\n",
       "        1.02315647e+00, 1.88067101e+00],\n",
       "       [4.68332232e-01, 9.29406466e-01, 2.36962908e+00, 1.41769120e-01,\n",
       "        2.68751180e-03, 3.01704363e+00, 3.34417060e+00, 3.22305619e+00,\n",
       "        7.41024368e-01, 2.56783993e+00, 1.61988808e+00, 2.63471039e-01,\n",
       "        2.80708435e+00, 2.68215551e+00, 2.46472920e+00, 3.57616749e+00,\n",
       "        3.60182952e+00, 6.28022004e-01, 2.73376791e+00, 2.36397291e+00,\n",
       "        2.48518770e+00, 3.26158734e+00, 2.81184186e+00, 1.33288573e+00,\n",
       "        2.99343068e+00, 3.07023126e+00, 2.43452323e+00, 3.44089441e+00,\n",
       "        1.55834658e+00, 2.59024322e+00, 1.40212261e-02, 1.98353986e+00,\n",
       "        2.52696429e+00, 1.27792503e+00, 2.93973261e+00, 1.97010261e+00,\n",
       "        9.85110242e-01, 1.90879994e+00, 3.04827713e+00, 2.47647351e+00,\n",
       "        3.21124114e+00, 1.54254463e+00, 2.20558654e+00, 2.08267994e+00,\n",
       "        8.37246734e-01, 2.73324671e+00, 2.62437450e-01, 2.05630616e+00,\n",
       "        5.80148094e-01, 6.76946151e-01],\n",
       "       [3.51929387e+00, 1.31350938e+00, 1.87945234e+00, 2.29360983e+00,\n",
       "        1.57375611e+00, 2.46879604e+00, 9.02695331e-02, 2.40836640e+00,\n",
       "        1.11566761e+00, 2.99217238e+00, 5.08917997e-01, 1.13803568e-01,\n",
       "        2.15217415e-01, 1.73301851e+00, 7.34828551e-01, 2.70281226e+00,\n",
       "        2.01584248e-01, 8.21967364e-01, 2.85347289e+00, 1.63520041e-01,\n",
       "        2.69435936e+00, 3.67879017e-01, 2.83247733e+00, 2.66920172e+00,\n",
       "        6.98511331e-01, 1.41018863e+00, 1.57882997e+00, 1.44610697e+00,\n",
       "        7.11408284e-01, 8.21309180e-01, 2.36939187e+00, 5.28718961e-01,\n",
       "        9.84635641e-01, 2.10286632e-01, 7.38756408e-01, 1.53559405e-01,\n",
       "        2.43474549e+00, 1.40500719e+00, 1.27136119e+00, 1.76228621e+00,\n",
       "        8.83168353e-01, 1.24174869e+00, 1.97944803e+00, 7.44137652e-01,\n",
       "        1.61749757e+00, 2.11047160e+00, 5.33021608e-01, 1.09754414e+00,\n",
       "        1.79965157e+00, 1.44221171e+00],\n",
       "       [2.57166187e+00, 7.90187269e-01, 1.70262377e+00, 2.83133409e+00,\n",
       "        4.50909450e-01, 3.04376113e+00, 1.55099227e+00, 1.70774139e+00,\n",
       "        2.18704263e+00, 1.84367255e+00, 2.92150398e+00, 6.93143209e-01,\n",
       "        4.58691346e-01, 8.74448070e-01, 3.40639381e+00, 3.54779434e-01,\n",
       "        1.92577763e+00, 2.70705066e+00, 2.86156522e+00, 3.43019609e+00,\n",
       "        3.40438499e+00, 1.81777251e+00, 8.09274372e-01, 1.76994110e+00,\n",
       "        2.35023159e+00, 1.67223242e+00, 9.38705723e-01, 3.01905877e+00,\n",
       "        2.79502756e+00, 1.99971890e+00, 2.06361650e+00, 1.79150437e+00,\n",
       "        2.73105287e+00, 2.95975004e+00, 6.81459117e-03, 3.95438547e+00,\n",
       "        1.19977079e+00, 1.38658867e+00, 1.23774796e+00, 3.06402964e+00,\n",
       "        2.49033813e+00, 6.16546365e-01, 1.36691524e+00, 9.03718457e-03,\n",
       "        2.81195666e+00, 8.67357083e-01, 3.20431667e-01, 2.36252161e+00,\n",
       "        7.14029312e-01, 1.97324846e+00],\n",
       "       [5.79005069e-01, 2.69898295e+00, 3.55183184e+00, 3.70680696e-01,\n",
       "        2.65744003e+00, 1.66583518e+00, 1.78286391e-01, 1.85532263e+00,\n",
       "        1.65744934e+00, 3.03317065e+00, 1.20796331e+00, 2.81317124e+00,\n",
       "        4.67170569e-01, 1.28935744e+00, 1.84129486e+00, 6.51401011e-01,\n",
       "        7.17993779e-01, 8.58762271e-01, 2.55293094e+00, 3.38027507e+00,\n",
       "        4.34987917e-01, 1.80356551e+00, 4.94409555e-01, 1.84709159e-01,\n",
       "        1.25990765e-01, 1.50467783e+00, 1.46616951e+00, 2.43918382e+00,\n",
       "        1.31449818e+00, 8.34232318e-01, 3.30362871e-01, 1.99252880e+00,\n",
       "        7.58898719e-01, 1.25836849e+00, 5.93771431e-02, 1.01148417e+00,\n",
       "        2.26970964e+00, 4.27787024e-01, 2.22634941e+00, 3.12229899e+00,\n",
       "        2.93844221e+00, 5.42403188e-01, 1.56533745e+00, 2.96484516e+00,\n",
       "        2.55570514e+00, 3.18039973e+00, 1.49334757e+00, 1.78417610e+00,\n",
       "        2.91716335e+00, 1.54196502e+00],\n",
       "       [2.40706385e+00, 1.45038747e+00, 2.56088366e+00, 2.11467345e+00,\n",
       "        1.39471977e+00, 1.86729209e+00, 2.07430485e+00, 3.12854943e+00,\n",
       "        2.32792354e+00, 2.42866002e+00, 3.44202118e+00, 2.51281950e-01,\n",
       "        6.62460724e-01, 1.05577841e+00, 3.22974024e+00, 8.20180058e-01,\n",
       "        2.05154638e+00, 4.12197165e-01, 9.30261152e-01, 9.89227112e-01,\n",
       "        2.42360544e+00, 3.58215134e-01, 2.54419282e+00, 1.03339594e+00,\n",
       "        2.34205161e+00, 1.28595954e+00, 1.46988661e+00, 4.62101548e-01,\n",
       "        3.60174550e-01, 1.96773907e+00, 2.18543200e+00, 3.21405096e-01,\n",
       "        4.86866968e-01, 1.08245737e-01, 5.50095739e-01, 9.03998470e-01,\n",
       "        2.40812397e+00, 2.26558999e-01, 2.31404644e+00, 1.47122067e+00,\n",
       "        4.83179512e-01, 3.38521301e+00, 1.68905635e+00, 9.75012594e-01,\n",
       "        1.94341362e-01, 1.15383678e+00, 2.36398694e+00, 8.78739533e-01,\n",
       "        1.85514940e+00, 1.00018980e+00]])"
      ]
     },
     "execution_count": 17,
     "metadata": {},
     "output_type": "execute_result"
    }
   ],
   "source": [
    "# Standard scaling using sklearn package\n",
    "sklearn_std_scaler = StandardScaler(with_mean=False)\n",
    "sklearn_std_scaler.fit(train_adata.X)\n",
    "test_adata_sklearn = sklearn_std_scaler.transform(test_adata.X)\n",
    "test_adata_sklearn"
   ]
  },
  {
   "cell_type": "markdown",
   "id": "5a592691-0f87-4eb8-aee2-0af44623871e",
   "metadata": {},
   "source": [
    "## Comparing scalr library results with sklearn's library results "
   ]
  },
  {
   "cell_type": "code",
   "execution_count": 18,
   "id": "3b269d5f-976e-4d99-8ae5-6f822fa7c68d",
   "metadata": {},
   "outputs": [],
   "source": [
    "# Checking if error is less than 1e-15\n",
    "assert sum(\n",
    "abs(scalr_std_scaler.train_mean -\n",
    "    sklearn_std_scaler.mean_).flatten() < 1e-15\n",
    ") == train_adata.shape[1], \"Train data mean is not correctly calculated...\"\n",
    "\n",
    "assert sum(\n",
    "abs(scalr_std_scaler.train_std - sklearn_std_scaler.scale_).flatten() <\n",
    "1e-15) == train_adata.shape[\n",
    "    1], \"Train data standard deviation is not correctly calculated...\""
   ]
  },
  {
   "cell_type": "markdown",
   "id": "c053b40b-d170-4666-b6ec-b6e1415f2fbb",
   "metadata": {},
   "source": [
    "# 2. SampleNorm"
   ]
  },
  {
   "cell_type": "markdown",
   "id": "2def9f30-1d9d-4167-9b18-bb2012b2c6b7",
   "metadata": {},
   "source": [
    "## scalr package - how to to use it?"
   ]
  },
  {
   "cell_type": "code",
   "execution_count": 19,
   "id": "ebaf5460-f7cd-4cbb-a3f8-502c5fb73861",
   "metadata": {},
   "outputs": [
    {
     "name": "stderr",
     "output_type": "stream",
     "text": [
      "INFO:absl:Applying Sample-wise normalization on data.\n"
     ]
    },
    {
     "name": "stdout",
     "output_type": "stream",
     "text": [
      "\n",
      "1. `transform()` function parameters : {'data': <class 'numpy.ndarray'>, 'return': <class 'numpy.ndarray'>}\n"
     ]
    }
   ],
   "source": [
    "# Sample norm using pipeline\n",
    "scalr_sample_norm = sample_norm.SampleNorm()\n",
    "\n",
    "print('\\n1. `transform()` function parameters :', scalr_sample_norm.transform.__annotations__)"
   ]
  },
  {
   "cell_type": "code",
   "execution_count": 20,
   "id": "44abc1dd",
   "metadata": {},
   "outputs": [],
   "source": [
    "# Datapath of original splitted data\n",
    "datapath = '/home/anand/bioc_repo/single_cell_classification/tutorials/preprocessing/data'\n",
    "\n",
    "# Datapath to store processed_data\n",
    "processed_datapath = '/home/anand/bioc_repo/single_cell_classification/tutorials/preprocessing/processed_data_sn'"
   ]
  },
  {
   "cell_type": "code",
   "execution_count": 21,
   "id": "18f0b716-ff8d-4ecb-9591-195217f9ac27",
   "metadata": {},
   "outputs": [],
   "source": [
    "# Fitting is not required on train data for sample-norm.\n",
    "sample_chunksize = 10\n",
    "\n",
    "# Transforming on test data.\n",
    "scalr_sample_norm.process_data(path.join(datapath, 'test'),\n",
    "                               sample_chunksize,\n",
    "                               path.join(processed_datapath, 'test'))"
   ]
  },
  {
   "cell_type": "code",
   "execution_count": 22,
   "id": "161952ae",
   "metadata": {},
   "outputs": [],
   "source": [
    "# Reading transformed test data\n",
    "test_data_sample_norm_pipeline = read_data(path.join(processed_datapath, 'test'))"
   ]
  },
  {
   "cell_type": "markdown",
   "id": "d5b86a86-7e97-4a40-85e3-6558c082c8f2",
   "metadata": {},
   "source": [
    "## Scanpy package for sample-norm\n",
    "- Developers can ignore this section"
   ]
  },
  {
   "cell_type": "code",
   "execution_count": 23,
   "id": "b795b67e",
   "metadata": {},
   "outputs": [
    {
     "data": {
      "text/plain": [
       "AnnData object with n_obs × n_vars = 20 × 50\n",
       "    obs: 'dummy'"
      ]
     },
     "execution_count": 23,
     "metadata": {},
     "output_type": "execute_result"
    }
   ],
   "source": [
    "test_adata = read_data(path.join(datapath, 'test'), backed=None)\n",
    "test_adata = test_adata[:, :].to_adata()\n",
    "test_adata"
   ]
  },
  {
   "cell_type": "code",
   "execution_count": 24,
   "id": "0d6bed81-105b-4f66-9c87-ca1ae5f60412",
   "metadata": {},
   "outputs": [
    {
     "data": {
      "text/plain": [
       "{'X': array([[1.66012225e-02, 6.24795992e-03, 7.01791007e-03, 2.65020695e-02,\n",
       "         3.62499792e-02, 3.29045934e-02, 1.42139378e-02, 3.69702652e-02,\n",
       "         3.55395502e-02, 2.21433865e-02, 2.01016262e-02, 2.46952890e-03,\n",
       "         6.35837548e-03, 3.60796507e-03, 2.22515583e-02, 2.85820936e-02,\n",
       "         2.61381601e-02, 3.68718124e-02, 2.78244496e-02, 3.50479362e-02,\n",
       "         5.93174315e-03, 7.25063879e-03, 3.87949338e-02, 1.49831889e-02,\n",
       "         9.16631124e-03, 3.85269954e-02, 4.09784818e-02, 2.69402226e-02,\n",
       "         1.64039296e-02, 2.90783131e-02, 6.57185034e-04, 6.11283595e-03,\n",
       "         1.55749796e-02, 3.51542496e-02, 1.28547012e-02, 2.44458427e-03,\n",
       "         1.59982725e-02, 1.01908904e-02, 2.36804498e-03, 1.68510815e-02,\n",
       "         1.48444984e-02, 3.09983590e-02, 2.66985418e-03, 1.60117547e-02,\n",
       "         1.44648391e-02, 2.73225858e-02, 3.75069327e-02, 6.04007544e-03,\n",
       "         3.44796242e-02, 2.57555127e-02],\n",
       "        [1.19240492e-03, 3.12707794e-02, 2.19248560e-02, 3.26180298e-02,\n",
       "         1.66720704e-02, 2.71366518e-02, 8.10647309e-03, 7.82268604e-03,\n",
       "         1.38745961e-02, 2.11807918e-02, 2.92172147e-02, 2.71897435e-02,\n",
       "         3.34912815e-02, 1.73868310e-02, 3.72094435e-02, 4.45144114e-03,\n",
       "         7.63343302e-03, 2.78793807e-02, 1.03478767e-02, 6.71137128e-03,\n",
       "         3.61478153e-02, 2.78912421e-03, 4.04283895e-02, 3.51730841e-02,\n",
       "         3.54042212e-02, 2.56365076e-02, 9.16875231e-03, 3.25431130e-02,\n",
       "         2.19378073e-03, 2.37364314e-02, 1.79072458e-02, 3.05987128e-02,\n",
       "         9.69173281e-04, 1.57716295e-02, 1.94540801e-02, 6.21262492e-03,\n",
       "         1.69106988e-02, 3.71257884e-02, 1.91091065e-02, 1.02664670e-02,\n",
       "         2.17065823e-02, 2.48092115e-03, 1.19991427e-02, 3.19537011e-02,\n",
       "         2.61748014e-02, 9.78010267e-04, 2.32373578e-02, 8.86229499e-03,\n",
       "         3.97873355e-02, 3.19557503e-02],\n",
       "        [4.99637844e-03, 1.50602825e-02, 1.91393174e-02, 7.12384990e-03,\n",
       "         2.75109136e-02, 3.28661494e-02, 1.74397152e-04, 5.20400560e-03,\n",
       "         1.10726969e-02, 3.84415620e-02, 1.58017701e-02, 6.65042513e-03,\n",
       "         4.72368559e-03, 3.52090019e-02, 3.16499589e-02, 2.41912766e-02,\n",
       "         2.10817279e-02, 3.03573763e-02, 1.24276766e-02, 2.49941641e-02,\n",
       "         2.87828425e-02, 2.24861358e-02, 6.59105014e-03, 3.85116619e-02,\n",
       "         3.16871257e-02, 1.91649934e-02, 2.42174314e-02, 2.96902801e-02,\n",
       "         1.79133701e-02, 2.88715437e-02, 3.01923046e-02, 1.79298625e-02,\n",
       "         7.33464598e-03, 2.33501285e-02, 2.16517705e-02, 1.95504106e-02,\n",
       "         2.28834577e-03, 3.03733697e-02, 2.10431577e-02, 1.68222157e-02,\n",
       "         3.18315255e-02, 7.69075948e-03, 1.06124858e-02, 2.49891792e-02,\n",
       "         1.52365455e-02, 1.18385690e-02, 9.94587190e-03, 1.89737385e-02,\n",
       "         3.02942170e-02, 3.14578458e-02],\n",
       "        [2.96636276e-02, 3.32310369e-02, 1.90392671e-03, 3.68545810e-02,\n",
       "         1.60016186e-02, 7.24104322e-03, 3.63970369e-02, 3.09623567e-02,\n",
       "         3.48849357e-02, 1.96296889e-02, 2.80566479e-02, 1.94912450e-02,\n",
       "         2.02411593e-02, 3.57020642e-02, 2.77045105e-02, 2.12665446e-02,\n",
       "         1.47361486e-02, 6.16587489e-03, 4.34241627e-03, 1.12440243e-02,\n",
       "         2.59952918e-02, 7.18740616e-03, 4.93270088e-03, 2.91759963e-03,\n",
       "         3.17528314e-02, 9.04988521e-03, 7.53627840e-03, 1.46655552e-02,\n",
       "         2.36194787e-02, 2.19975431e-02, 3.46573378e-02, 2.55888472e-02,\n",
       "         2.10862050e-02, 2.67004705e-02, 2.49041246e-02, 2.87971965e-02,\n",
       "         2.14784869e-02, 3.02910337e-02, 3.37718036e-02, 2.61330902e-02,\n",
       "         1.34185541e-02, 1.05052978e-02, 2.39083768e-02, 2.36923813e-02,\n",
       "         8.97168283e-04, 2.80329168e-02, 8.32513836e-03, 2.04457099e-03,\n",
       "         5.74831572e-03, 2.46436255e-02],\n",
       "        [2.12309317e-02, 3.43774327e-02, 4.31282795e-03, 3.36703055e-02,\n",
       "         2.64209341e-02, 8.72404849e-03, 2.99111989e-02, 3.00909193e-02,\n",
       "         4.38381361e-03, 1.08151483e-02, 2.59316998e-02, 1.54476288e-02,\n",
       "         3.10615000e-02, 2.17581081e-02, 3.47857438e-02, 4.50657609e-03,\n",
       "         2.97829806e-02, 1.88598624e-02, 2.10822198e-02, 1.15294864e-02,\n",
       "         1.09213464e-02, 7.70418836e-03, 1.51542025e-02, 9.70058146e-03,\n",
       "         7.70111409e-03, 3.90395570e-02, 1.81606671e-02, 2.75251694e-02,\n",
       "         1.51867753e-02, 2.31280826e-02, 2.02627490e-02, 2.48691782e-02,\n",
       "         2.93357562e-02, 2.69482548e-02, 3.09339833e-02, 5.93853561e-03,\n",
       "         3.81674950e-03, 1.37560199e-02, 1.95575236e-02, 9.10856186e-03,\n",
       "         3.13853934e-02, 2.92069710e-02, 3.70824161e-02, 2.95886922e-02,\n",
       "         4.34905752e-03, 2.69923203e-02, 1.67256003e-02, 1.05378342e-02,\n",
       "         2.44333715e-02, 1.22659809e-02],\n",
       "        [2.25381959e-02, 2.44538692e-02, 2.24622242e-02, 4.53710120e-04,\n",
       "         1.48061643e-02, 3.35601038e-02, 1.47279059e-02, 2.16263694e-02,\n",
       "         1.47167159e-02, 8.45890457e-03, 8.48079347e-03, 3.17938079e-02,\n",
       "         2.66605471e-02, 3.95716943e-02, 1.78743006e-02, 2.70262912e-02,\n",
       "         1.98924573e-02, 2.01216490e-02, 3.62613907e-02, 1.92880140e-02,\n",
       "         3.94065291e-02, 2.63444429e-02, 3.62679949e-03, 2.88630315e-03,\n",
       "         4.17054279e-02, 1.69553223e-02, 2.49413290e-02, 1.83235481e-02,\n",
       "         6.74615502e-03, 5.33046089e-03, 9.03029187e-03, 2.57004043e-02,\n",
       "         2.32037945e-02, 1.39506494e-02, 1.87547482e-03, 1.37570324e-02,\n",
       "         1.69104858e-02, 3.21149558e-02, 3.13108422e-02, 9.40016879e-03,\n",
       "         9.66619383e-03, 2.66575823e-02, 2.76720128e-02, 2.38223483e-02,\n",
       "         4.75389063e-03, 1.21306206e-02, 1.34600109e-03, 3.23344704e-02,\n",
       "         3.42411523e-02, 3.90802014e-02],\n",
       "        [3.30591268e-03, 3.40765692e-02, 3.45357904e-02, 3.75170065e-02,\n",
       "         2.92511528e-02, 9.87604109e-03, 9.94827825e-03, 2.58792041e-02,\n",
       "         2.55601699e-02, 2.48305363e-02, 1.32784989e-02, 1.95460767e-02,\n",
       "         1.13372907e-02, 2.24412816e-02, 2.90448466e-02, 2.62732639e-02,\n",
       "         1.62636141e-02, 1.97315030e-02, 2.90454602e-02, 8.75603050e-03,\n",
       "         8.32155067e-03, 1.82370894e-02, 1.85811467e-02, 8.82652046e-04,\n",
       "         2.18830845e-02, 1.57084433e-02, 2.16737609e-02, 3.44003604e-02,\n",
       "         1.25263288e-02, 4.05498022e-03, 7.76577774e-03, 1.15267953e-02,\n",
       "         3.24692980e-02, 2.06469881e-02, 3.74183383e-02, 1.07181355e-02,\n",
       "         2.58435293e-03, 1.13256584e-02, 3.73248139e-02, 2.79429575e-02,\n",
       "         3.44092978e-02, 2.23681063e-02, 1.03545658e-02, 3.58897395e-02,\n",
       "         8.61703164e-03, 1.49327857e-02, 1.10323405e-02, 2.41961635e-02,\n",
       "         1.57185320e-02, 3.59903971e-02],\n",
       "        [4.21285695e-02, 4.22034753e-03, 4.04264352e-02, 3.47506024e-02,\n",
       "         3.10203993e-02, 1.57983639e-02, 2.95929090e-02, 3.53023655e-02,\n",
       "         3.61627874e-02, 3.50893835e-02, 1.39361755e-02, 8.05682335e-03,\n",
       "         2.36799692e-02, 1.10708665e-02, 3.41840153e-02, 1.94525902e-03,\n",
       "         1.85254099e-02, 3.39054363e-02, 3.50813456e-03, 2.99161132e-02,\n",
       "         1.00621898e-02, 5.54766495e-03, 1.34076530e-02, 8.42042133e-04,\n",
       "         2.74358028e-02, 1.44972957e-02, 4.32734778e-02, 4.26064314e-03,\n",
       "         3.89698283e-02, 2.16847345e-02, 5.12555303e-03, 3.72816315e-02,\n",
       "         4.83573873e-03, 2.81254526e-02, 1.06785722e-02, 1.95578736e-02,\n",
       "         2.49534924e-02, 4.00494184e-02, 1.23898170e-02, 1.68830786e-02,\n",
       "         8.69186456e-03, 1.49638076e-02, 5.47877023e-03, 2.38675731e-02,\n",
       "         2.43530483e-02, 2.71462409e-02, 1.00312330e-02, 1.88279379e-02,\n",
       "         1.80412649e-03, 1.75307159e-03],\n",
       "        [1.23608667e-02, 1.95378238e-02, 2.76794427e-02, 3.03036739e-02,\n",
       "         1.60483269e-02, 3.01811671e-02, 2.90626675e-02, 2.52628989e-02,\n",
       "         5.65711376e-03, 1.14733790e-02, 2.13246248e-02, 3.25108615e-02,\n",
       "         1.61095530e-02, 3.86275012e-02, 2.65780772e-02, 1.25043729e-02,\n",
       "         2.24253465e-02, 1.49815580e-02, 3.64272385e-02, 1.93113068e-03,\n",
       "         9.14356709e-03, 3.85715436e-03, 3.21788458e-02, 7.63227946e-03,\n",
       "         2.96715331e-02, 2.24318337e-02, 3.31612949e-02, 3.97412130e-02,\n",
       "         6.16067584e-03, 6.00811545e-03, 2.54123400e-02, 1.45010460e-03,\n",
       "         3.26501033e-02, 1.50440932e-02, 1.59346390e-02, 2.28492106e-02,\n",
       "         1.36643070e-02, 1.19922882e-02, 8.18708003e-03, 2.87118668e-02,\n",
       "         3.07006710e-02, 2.42894285e-02, 9.42789182e-03, 2.77507379e-02,\n",
       "         6.30535407e-03, 3.50812129e-02, 1.78275898e-02, 1.90073141e-02,\n",
       "         8.15428571e-03, 2.45853443e-02],\n",
       "        [4.64585937e-02, 2.77841846e-02, 3.07670401e-02, 1.36062293e-02,\n",
       "         1.53683725e-02, 9.26086484e-03, 2.42705417e-02, 6.97903509e-03,\n",
       "         2.91698928e-02, 2.19457724e-02, 2.94448865e-02, 3.33546007e-03,\n",
       "         4.16954417e-02, 1.78553153e-02, 9.75965769e-03, 2.36188351e-02,\n",
       "         4.38538350e-02, 3.27451343e-02, 1.60397631e-02, 1.43303994e-02,\n",
       "         3.11887501e-02, 4.18836011e-03, 1.72341124e-02, 2.25762366e-02,\n",
       "         3.58688518e-02, 1.53526153e-02, 3.73608463e-02, 3.69144727e-02,\n",
       "         9.17957879e-04, 8.98059589e-03, 3.08165207e-02, 2.33952009e-02,\n",
       "         1.30343240e-03, 1.69623879e-02, 2.95138260e-02, 4.67716409e-02,\n",
       "         9.75697579e-03, 7.20280018e-03, 1.71849810e-02, 2.59831024e-02,\n",
       "         3.13402759e-02, 1.70173749e-02, 1.07741630e-02, 2.46403700e-04,\n",
       "         8.65204735e-03, 4.71937237e-03, 1.14188078e-02, 1.52138199e-02,\n",
       "         3.71359783e-03, 1.91412150e-02],\n",
       "        [7.51947505e-03, 2.60793476e-02, 1.69510603e-02, 2.86939106e-02,\n",
       "         3.48172167e-02, 3.79965968e-03, 1.71574666e-02, 4.38616478e-02,\n",
       "         1.03605298e-04, 2.05861157e-02, 2.10346368e-02, 3.69510145e-02,\n",
       "         1.30191793e-02, 3.48116660e-02, 9.86989536e-05, 2.20143698e-02,\n",
       "         1.43242773e-02, 3.62527439e-02, 1.80756599e-02, 3.13464965e-03,\n",
       "         3.17772635e-02, 5.93165008e-04, 1.50014653e-02, 2.23543973e-02,\n",
       "         3.32735429e-02, 1.40436159e-02, 4.66966842e-03, 3.70198715e-02,\n",
       "         4.40631095e-04, 3.91674599e-02, 4.77733292e-03, 5.63877168e-03,\n",
       "         7.45679789e-03, 6.65446308e-03, 3.56526935e-02, 3.63795070e-02,\n",
       "         7.60210045e-03, 5.04738548e-03, 2.56806925e-02, 3.13878903e-02,\n",
       "         2.50777580e-02, 1.24212927e-03, 3.43656638e-02, 3.20375894e-02,\n",
       "         3.21752766e-02, 9.29530003e-03, 3.15278546e-03, 4.47368055e-02,\n",
       "         2.14333257e-02, 3.25782491e-02],\n",
       "        [3.81614754e-03, 1.99849451e-02, 1.99518723e-02, 4.86265353e-03,\n",
       "         1.39164399e-02, 3.52836354e-02, 2.73183324e-02, 2.89591334e-02,\n",
       "         3.47621940e-02, 1.22809357e-02, 3.12655828e-02, 3.82095027e-03,\n",
       "         2.28590655e-02, 2.11412911e-02, 1.70663534e-02, 8.27880171e-03,\n",
       "         1.69212675e-02, 3.34162687e-02, 2.89208432e-02, 1.74388370e-02,\n",
       "         3.82966351e-02, 3.10814281e-02, 1.75181124e-03, 2.97137444e-02,\n",
       "         2.84393356e-02, 1.94812683e-03, 3.66726340e-02, 1.84851449e-02,\n",
       "         9.46453666e-03, 1.77405337e-02, 3.30005786e-02, 9.91488446e-03,\n",
       "         3.61792969e-02, 2.56236651e-03, 3.53670492e-03, 2.37209211e-02,\n",
       "         2.01774869e-02, 2.65778068e-02, 1.71956628e-03, 1.03002518e-02,\n",
       "         2.78300851e-02, 1.36312273e-02, 1.20580667e-02, 3.24463275e-02,\n",
       "         3.15077442e-02, 2.94863372e-02, 2.48410735e-02, 3.77748379e-02,\n",
       "         8.33424471e-04, 6.04153108e-03],\n",
       "        [1.94093936e-02, 1.18463982e-02, 1.23811091e-02, 4.13729964e-02,\n",
       "         1.86630718e-03, 1.09300894e-03, 3.94673999e-02, 6.75653363e-03,\n",
       "         1.81383833e-03, 1.93527129e-02, 3.72198249e-02, 1.29173350e-02,\n",
       "         3.93452849e-02, 3.65186204e-02, 1.18349202e-02, 1.83775301e-02,\n",
       "         3.89859811e-02, 5.20326726e-03, 2.61218254e-03, 7.96483233e-03,\n",
       "         9.52225205e-03, 7.57103872e-03, 1.33839461e-03, 3.02884967e-02,\n",
       "         6.83511457e-03, 1.92195017e-02, 5.08094062e-03, 1.54265399e-02,\n",
       "         1.67749559e-02, 3.85321936e-02, 2.97676005e-02, 3.82433538e-02,\n",
       "         2.06421074e-02, 7.14699392e-03, 1.72884008e-02, 2.50559538e-02,\n",
       "         2.28430272e-02, 3.78282007e-02, 2.50010586e-02, 1.08309971e-02,\n",
       "         4.02035100e-02, 7.34048163e-03, 2.01078789e-02, 3.74629209e-02,\n",
       "         2.99619562e-02, 2.25955928e-02, 2.90294971e-02, 1.84768927e-02,\n",
       "         1.67470273e-02, 2.64976435e-02],\n",
       "        [2.71308564e-02, 3.45099249e-02, 3.07950388e-02, 3.53651551e-02,\n",
       "         4.26601716e-03, 3.64246440e-02, 7.37353908e-03, 2.97824722e-03,\n",
       "         2.41786057e-02, 2.47925139e-02, 3.58484894e-02, 2.83830383e-02,\n",
       "         1.44545967e-02, 2.20911695e-02, 2.24353238e-02, 2.81767080e-02,\n",
       "         2.13914672e-02, 1.42257116e-02, 2.50859367e-02, 8.83865224e-03,\n",
       "         1.28677322e-02, 2.63689552e-03, 3.00471860e-02, 2.61362912e-03,\n",
       "         1.09993527e-02, 3.40745361e-02, 2.05930723e-02, 8.02062792e-03,\n",
       "         3.65503096e-02, 3.24215444e-02, 2.50986231e-03, 8.47728788e-03,\n",
       "         2.36429922e-02, 7.31837131e-03, 1.97746738e-02, 6.10569093e-03,\n",
       "         2.47637350e-02, 1.95559427e-02, 3.56868836e-02, 4.92595422e-03,\n",
       "         1.95369894e-02, 1.14752261e-02, 2.25543896e-02, 7.48227311e-03,\n",
       "         3.40656845e-02, 1.61208429e-02, 1.58944321e-02, 2.89463141e-02,\n",
       "         3.34076972e-02, 1.81842354e-02],\n",
       "        [3.25983214e-02, 6.08362417e-03, 1.06679998e-02, 2.92890399e-02,\n",
       "         3.91687048e-02, 4.95379448e-03, 5.67983679e-03, 4.12177038e-02,\n",
       "         3.85607895e-03, 1.81298298e-03, 2.24744468e-02, 9.48468110e-03,\n",
       "         1.25791028e-02, 2.61151024e-02, 1.48453314e-02, 4.20810442e-02,\n",
       "         9.64569744e-03, 3.65706206e-02, 3.69910432e-02, 1.84944656e-02,\n",
       "         4.21521375e-02, 1.19524748e-02, 3.84878314e-03, 2.39723354e-02,\n",
       "         3.15792445e-04, 2.00403972e-02, 3.53672759e-02, 1.77388010e-02,\n",
       "         8.62167987e-03, 1.08052096e-02, 3.86218467e-02, 2.79882329e-02,\n",
       "         6.81780047e-03, 1.95767408e-02, 2.59756331e-02, 2.13496168e-02,\n",
       "         3.31815594e-02, 2.65948737e-04, 1.18791054e-02, 2.42849142e-02,\n",
       "         2.27764459e-02, 4.39892013e-03, 7.40545941e-03, 3.18235878e-02,\n",
       "         2.26025575e-02, 2.70480402e-02, 3.45198019e-02, 2.46752698e-02,\n",
       "         1.32689834e-02, 2.21150259e-02],\n",
       "        [4.49479558e-03, 9.37890668e-03, 2.25833189e-02, 1.41715733e-03,\n",
       "         2.93329631e-05, 3.05787052e-02, 3.32418478e-02, 3.12178148e-02,\n",
       "         7.42728040e-03, 2.60141764e-02, 1.57351306e-02, 2.44554059e-03,\n",
       "         2.74043543e-02, 2.78589853e-02, 2.48876380e-02, 3.43525858e-02,\n",
       "         3.41997525e-02, 6.18488800e-03, 2.74190501e-02, 2.27451175e-02,\n",
       "         2.50424298e-02, 3.41578134e-02, 2.88395093e-02, 1.34961831e-02,\n",
       "         3.23158336e-02, 3.01682550e-02, 2.43449213e-02, 3.22983811e-02,\n",
       "         1.59350226e-02, 2.45870026e-02, 1.40895125e-04, 1.95998351e-02,\n",
       "         2.49466380e-02, 1.32029890e-02, 2.99184332e-02, 1.67210084e-02,\n",
       "         9.73996528e-03, 1.89401869e-02, 3.12144747e-02, 2.35250269e-02,\n",
       "         3.27506476e-02, 1.54301019e-02, 2.26987670e-02, 2.16616623e-02,\n",
       "         8.24293134e-03, 2.56666244e-02, 2.34377441e-03, 1.98253854e-02,\n",
       "         6.13644025e-03, 6.49248249e-03],\n",
       "        [4.82931026e-02, 1.89519272e-02, 2.56101659e-02, 3.27815618e-02,\n",
       "         2.45593384e-02, 3.57763797e-02, 1.28295554e-03, 3.33526894e-02,\n",
       "         1.59884304e-02, 4.33413486e-02, 7.06816743e-03, 1.51032895e-03,\n",
       "         3.00410563e-03, 2.57370176e-02, 1.06089932e-02, 3.71219807e-02,\n",
       "         2.73671821e-03, 1.15740467e-02, 4.09202419e-02, 2.24952257e-03,\n",
       "         3.88191897e-02, 5.50858104e-03, 4.15371882e-02, 3.86432031e-02,\n",
       "         1.07818501e-02, 1.98120760e-02, 2.25737387e-02, 1.94081217e-02,\n",
       "         1.04011469e-02, 1.11466765e-02, 3.40424295e-02, 7.46981850e-03,\n",
       "         1.38983149e-02, 3.10636316e-03, 1.07499379e-02, 1.86347562e-03,\n",
       "         3.44191247e-02, 1.99331563e-02, 1.86141929e-02, 2.39357237e-02,\n",
       "         1.28784664e-02, 1.77598152e-02, 2.91270127e-02, 1.10661411e-02,\n",
       "         2.27690827e-02, 2.83362979e-02, 6.80625931e-03, 1.51296728e-02,\n",
       "         2.72169684e-02, 1.97769520e-02],\n",
       "        [2.69541327e-02, 8.70827536e-03, 1.77207332e-02, 3.09088709e-02,\n",
       "         5.37465379e-03, 3.36902061e-02, 1.68368936e-02, 1.80639336e-02,\n",
       "         2.39392301e-02, 2.03977152e-02, 3.09918444e-02, 7.02620089e-03,\n",
       "         4.89035354e-03, 9.91907021e-03, 3.75634026e-02, 3.72182218e-03,\n",
       "         1.99692405e-02, 2.91144750e-02, 3.13436821e-02, 3.60429424e-02,\n",
       "         3.74637750e-02, 2.07900809e-02, 9.06459411e-03, 1.95718762e-02,\n",
       "         2.77084618e-02, 1.79444991e-02, 1.02513136e-02, 3.09482842e-02,\n",
       "         3.12126273e-02, 2.07295366e-02, 2.26461597e-02, 1.93323637e-02,\n",
       "         2.94441233e-02, 3.33946979e-02, 7.57401957e-05, 3.66528898e-02,\n",
       "         1.29546731e-02, 1.50254363e-02, 1.38416990e-02, 3.17866679e-02,\n",
       "         2.77370897e-02, 6.73522945e-03, 1.53629759e-02, 1.02649774e-04,\n",
       "         3.02337796e-02, 8.89494876e-03, 3.12522312e-03, 2.48751239e-02,\n",
       "         8.24801195e-03, 2.06677898e-02],\n",
       "        [7.05169851e-03, 3.45622605e-02, 4.29551525e-02, 4.70210004e-03,\n",
       "         3.68064984e-02, 2.14252058e-02, 2.24890132e-03, 2.28039216e-02,\n",
       "         2.10810902e-02, 3.89937004e-02, 1.48899953e-02, 3.31355079e-02,\n",
       "         5.78755404e-03, 1.69945686e-02, 2.35935496e-02, 7.94045675e-03,\n",
       "         8.65119229e-03, 1.07321172e-02, 3.24926628e-02, 4.12717805e-02,\n",
       "         5.56224271e-03, 2.39689188e-02, 6.43486298e-03, 2.37335087e-03,\n",
       "         1.72599822e-03, 1.87619553e-02, 1.86051900e-02, 2.90542328e-02,\n",
       "         1.70570568e-02, 1.00486455e-02, 4.21266263e-03, 2.49845521e-02,\n",
       "         9.50719085e-03, 1.64979580e-02, 7.66841817e-04, 1.08940204e-02,\n",
       "         2.84772698e-02, 5.38650326e-03, 2.89301296e-02, 3.76379884e-02,\n",
       "         3.80294111e-02, 6.88507636e-03, 2.04428580e-02, 3.91315217e-02,\n",
       "         3.19296707e-02, 3.78989434e-02, 1.69241308e-02, 2.18286589e-02,\n",
       "         3.91555981e-02, 1.87666458e-02],\n",
       "        [3.11200362e-02, 1.97163787e-02, 3.28771249e-02, 2.84758254e-02,\n",
       "         2.05063846e-02, 2.54944910e-02, 2.77757569e-02, 4.08201156e-02,\n",
       "         3.14313206e-02, 3.31440398e-02, 4.50396976e-02, 3.14195435e-03,\n",
       "         8.71205947e-03, 1.47723879e-02, 4.39317649e-02, 1.06132251e-02,\n",
       "         2.62408401e-02, 5.46837848e-03, 1.25687543e-02, 1.28214838e-02,\n",
       "         3.28984755e-02, 5.05360816e-03, 3.51514774e-02, 1.40955290e-02,\n",
       "         3.40595734e-02, 1.70217024e-02, 1.98004415e-02, 5.84310134e-03,\n",
       "         4.96133144e-03, 2.51610718e-02, 2.95831120e-02, 4.27819751e-03,\n",
       "         6.47470246e-03, 1.50651782e-03, 7.54164149e-03, 1.03356525e-02,\n",
       "         3.20736216e-02, 3.02831989e-03, 3.19205407e-02, 1.88265545e-02,\n",
       "         6.63822656e-03, 4.56156262e-02, 2.34163332e-02, 1.36607976e-02,\n",
       "         2.57744880e-03, 1.45959002e-02, 2.84401352e-02, 1.14127582e-02,\n",
       "         2.64334054e-02, 1.29221765e-02]]),\n",
       " 'norm_factor': array([23.67351064, 24.52413068, 25.60016233, 26.65114707, 24.63644534,\n",
       "        23.55362989, 26.59343286, 22.963516  , 25.0356926 , 21.20272712,\n",
       "        22.29225826, 25.26563176, 23.69410851, 27.1649454 , 23.66039707,\n",
       "        29.00948286, 20.28926476, 26.56344433, 22.86043624, 21.53492684])}"
      ]
     },
     "execution_count": 24,
     "metadata": {},
     "output_type": "execute_result"
    }
   ],
   "source": [
    "# Sample norm using scanpy package\n",
    "test_data_sample_norm_sc = sc.pp.normalize_total(test_adata, target_sum=1, inplace=False)\n",
    "test_data_sample_norm_sc"
   ]
  },
  {
   "cell_type": "markdown",
   "id": "1ec3be1c-0031-49dc-8783-e1c769baf24d",
   "metadata": {},
   "source": [
    "## Comparing scalr library results with scanpy library results¶"
   ]
  },
  {
   "cell_type": "code",
   "execution_count": 25,
   "id": "ea3e91e9-50c8-49d5-a916-8620975e01d7",
   "metadata": {},
   "outputs": [
    {
     "data": {
      "text/plain": [
       "array([[ True,  True,  True,  True,  True,  True,  True,  True,  True,\n",
       "         True,  True,  True,  True,  True,  True,  True,  True,  True,\n",
       "         True,  True,  True,  True,  True,  True,  True,  True,  True,\n",
       "         True,  True,  True,  True,  True,  True,  True,  True,  True,\n",
       "         True,  True,  True,  True,  True,  True,  True,  True,  True,\n",
       "         True,  True,  True,  True,  True],\n",
       "       [ True,  True,  True,  True,  True,  True,  True,  True,  True,\n",
       "         True,  True,  True,  True,  True,  True,  True,  True,  True,\n",
       "         True,  True,  True,  True,  True,  True,  True,  True,  True,\n",
       "         True,  True,  True,  True,  True,  True,  True,  True,  True,\n",
       "         True,  True,  True,  True,  True,  True,  True,  True,  True,\n",
       "         True,  True,  True,  True,  True],\n",
       "       [ True,  True,  True,  True,  True,  True,  True,  True,  True,\n",
       "         True,  True,  True,  True,  True,  True,  True,  True,  True,\n",
       "         True,  True,  True,  True,  True,  True,  True,  True,  True,\n",
       "         True,  True,  True,  True,  True,  True,  True,  True,  True,\n",
       "         True,  True,  True,  True,  True,  True,  True,  True,  True,\n",
       "         True,  True,  True,  True,  True],\n",
       "       [ True,  True,  True,  True,  True,  True,  True,  True,  True,\n",
       "         True,  True,  True,  True,  True,  True,  True,  True,  True,\n",
       "         True,  True,  True,  True,  True,  True,  True,  True,  True,\n",
       "         True,  True,  True,  True,  True,  True,  True,  True,  True,\n",
       "         True,  True,  True,  True,  True,  True,  True,  True,  True,\n",
       "         True,  True,  True,  True,  True],\n",
       "       [ True,  True,  True,  True,  True,  True,  True,  True,  True,\n",
       "         True,  True,  True,  True,  True,  True,  True,  True,  True,\n",
       "         True,  True,  True,  True,  True,  True,  True,  True,  True,\n",
       "         True,  True,  True,  True,  True,  True,  True,  True,  True,\n",
       "         True,  True,  True,  True,  True,  True,  True,  True,  True,\n",
       "         True,  True,  True,  True,  True],\n",
       "       [ True,  True,  True,  True,  True,  True,  True,  True,  True,\n",
       "         True,  True,  True,  True,  True,  True,  True,  True,  True,\n",
       "         True,  True,  True,  True,  True,  True,  True,  True,  True,\n",
       "         True,  True,  True,  True,  True,  True,  True,  True,  True,\n",
       "         True,  True,  True,  True,  True,  True,  True,  True,  True,\n",
       "         True,  True,  True,  True,  True],\n",
       "       [ True,  True,  True,  True,  True,  True,  True,  True,  True,\n",
       "         True,  True,  True,  True,  True,  True,  True,  True,  True,\n",
       "         True,  True,  True,  True,  True,  True,  True,  True,  True,\n",
       "         True,  True,  True,  True,  True,  True,  True,  True,  True,\n",
       "         True,  True,  True,  True,  True,  True,  True,  True,  True,\n",
       "         True,  True,  True,  True,  True],\n",
       "       [ True,  True,  True,  True,  True,  True,  True,  True,  True,\n",
       "         True,  True,  True,  True,  True,  True,  True,  True,  True,\n",
       "         True,  True,  True,  True,  True,  True,  True,  True,  True,\n",
       "         True,  True,  True,  True,  True,  True,  True,  True,  True,\n",
       "         True,  True,  True,  True,  True,  True,  True,  True,  True,\n",
       "         True,  True,  True,  True,  True],\n",
       "       [ True,  True,  True,  True,  True,  True,  True,  True,  True,\n",
       "         True,  True,  True,  True,  True,  True,  True,  True,  True,\n",
       "         True,  True,  True,  True,  True,  True,  True,  True,  True,\n",
       "         True,  True,  True,  True,  True,  True,  True,  True,  True,\n",
       "         True,  True,  True,  True,  True,  True,  True,  True,  True,\n",
       "         True,  True,  True,  True,  True],\n",
       "       [ True,  True,  True,  True,  True,  True,  True,  True,  True,\n",
       "         True,  True,  True,  True,  True,  True,  True,  True,  True,\n",
       "         True,  True,  True,  True,  True,  True,  True,  True,  True,\n",
       "         True,  True,  True,  True,  True,  True,  True,  True,  True,\n",
       "         True,  True,  True,  True,  True,  True,  True,  True,  True,\n",
       "         True,  True,  True,  True,  True],\n",
       "       [ True,  True,  True,  True,  True,  True,  True,  True,  True,\n",
       "         True,  True,  True,  True,  True,  True,  True,  True,  True,\n",
       "         True,  True,  True,  True,  True,  True,  True,  True,  True,\n",
       "         True,  True,  True,  True,  True,  True,  True,  True,  True,\n",
       "         True,  True,  True,  True,  True,  True,  True,  True,  True,\n",
       "         True,  True,  True,  True,  True],\n",
       "       [ True,  True,  True,  True,  True,  True,  True,  True,  True,\n",
       "         True,  True,  True,  True,  True,  True,  True,  True,  True,\n",
       "         True,  True,  True,  True,  True,  True,  True,  True,  True,\n",
       "         True,  True,  True,  True,  True,  True,  True,  True,  True,\n",
       "         True,  True,  True,  True,  True,  True,  True,  True,  True,\n",
       "         True,  True,  True,  True,  True],\n",
       "       [ True,  True,  True,  True,  True,  True,  True,  True,  True,\n",
       "         True,  True,  True,  True,  True,  True,  True,  True,  True,\n",
       "         True,  True,  True,  True,  True,  True,  True,  True,  True,\n",
       "         True,  True,  True,  True,  True,  True,  True,  True,  True,\n",
       "         True,  True,  True,  True,  True,  True,  True,  True,  True,\n",
       "         True,  True,  True,  True,  True],\n",
       "       [ True,  True,  True,  True,  True,  True,  True,  True,  True,\n",
       "         True,  True,  True,  True,  True,  True,  True,  True,  True,\n",
       "         True,  True,  True,  True,  True,  True,  True,  True,  True,\n",
       "         True,  True,  True,  True,  True,  True,  True,  True,  True,\n",
       "         True,  True,  True,  True,  True,  True,  True,  True,  True,\n",
       "         True,  True,  True,  True,  True],\n",
       "       [ True,  True,  True,  True,  True,  True,  True,  True,  True,\n",
       "         True,  True,  True,  True,  True,  True,  True,  True,  True,\n",
       "         True,  True,  True,  True,  True,  True,  True,  True,  True,\n",
       "         True,  True,  True,  True,  True,  True,  True,  True,  True,\n",
       "         True,  True,  True,  True,  True,  True,  True,  True,  True,\n",
       "         True,  True,  True,  True,  True],\n",
       "       [ True,  True,  True,  True,  True,  True,  True,  True,  True,\n",
       "         True,  True,  True,  True,  True,  True,  True,  True,  True,\n",
       "         True,  True,  True,  True,  True,  True,  True,  True,  True,\n",
       "         True,  True,  True,  True,  True,  True,  True,  True,  True,\n",
       "         True,  True,  True,  True,  True,  True,  True,  True,  True,\n",
       "         True,  True,  True,  True,  True],\n",
       "       [ True,  True,  True,  True,  True,  True,  True,  True,  True,\n",
       "         True,  True,  True,  True,  True,  True,  True,  True,  True,\n",
       "         True,  True,  True,  True,  True,  True,  True,  True,  True,\n",
       "         True,  True,  True,  True,  True,  True,  True,  True,  True,\n",
       "         True,  True,  True,  True,  True,  True,  True,  True,  True,\n",
       "         True,  True,  True,  True,  True],\n",
       "       [ True,  True,  True,  True,  True,  True,  True,  True,  True,\n",
       "         True,  True,  True,  True,  True,  True,  True,  True,  True,\n",
       "         True,  True,  True,  True,  True,  True,  True,  True,  True,\n",
       "         True,  True,  True,  True,  True,  True,  True,  True,  True,\n",
       "         True,  True,  True,  True,  True,  True,  True,  True,  True,\n",
       "         True,  True,  True,  True,  True],\n",
       "       [ True,  True,  True,  True,  True,  True,  True,  True,  True,\n",
       "         True,  True,  True,  True,  True,  True,  True,  True,  True,\n",
       "         True,  True,  True,  True,  True,  True,  True,  True,  True,\n",
       "         True,  True,  True,  True,  True,  True,  True,  True,  True,\n",
       "         True,  True,  True,  True,  True,  True,  True,  True,  True,\n",
       "         True,  True,  True,  True,  True],\n",
       "       [ True,  True,  True,  True,  True,  True,  True,  True,  True,\n",
       "         True,  True,  True,  True,  True,  True,  True,  True,  True,\n",
       "         True,  True,  True,  True,  True,  True,  True,  True,  True,\n",
       "         True,  True,  True,  True,  True,  True,  True,  True,  True,\n",
       "         True,  True,  True,  True,  True,  True,  True,  True,  True,\n",
       "         True,  True,  True,  True,  True]])"
      ]
     },
     "execution_count": 25,
     "metadata": {},
     "output_type": "execute_result"
    }
   ],
   "source": [
    "# Checking if error is less than 1e-15\n",
    "abs(test_data_sample_norm_sc['X'] - test_data_sample_norm_pipeline[:, :].X) < 1e-15"
   ]
  }
 ],
 "metadata": {
  "kernelspec": {
   "display_name": "scalr_minerva",
   "language": "python",
   "name": "python3"
  },
  "language_info": {
   "codemirror_mode": {
    "name": "ipython",
    "version": 3
   },
   "file_extension": ".py",
   "mimetype": "text/x-python",
   "name": "python",
   "nbconvert_exporter": "python",
   "pygments_lexer": "ipython3",
   "version": "3.9.19"
  }
 },
 "nbformat": 4,
 "nbformat_minor": 5
}
