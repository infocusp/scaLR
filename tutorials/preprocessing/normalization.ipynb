{
 "cells": [
  {
   "cell_type": "markdown",
   "id": "a7e5bdf5",
   "metadata": {},
   "source": [
    "# <span style=\"color: steelblue;\">Normalization using scaLR</span>"
   ]
  },
  {
   "cell_type": "markdown",
   "id": "0b3cbafc-1741-4535-91c1-75185c5afc08",
   "metadata": {},
   "source": [
    "Keypoints\n",
    "\n",
    "1. This notebook is designed as a tutorial for using normalization from a scaLR library.\n",
    "2. Also, we have compared results using standard library like sklearn, scanpy for normalization etc.\n",
    "3. These packages are built so to handle very large data say lakhs of samples with low resource constraints, which standard libraries can't handle at once."
   ]
  },
  {
   "cell_type": "markdown",
   "id": "55160815",
   "metadata": {},
   "source": [
    "# <span style=\"color: steelblue;\">Normalization</span>"
   ]
  },
  {
   "cell_type": "markdown",
   "id": "e6012f9b-e45a-4401-9349-0c1fa2a3c81a",
   "metadata": {},
   "source": [
    "### <span style=\"color: steelblue;\">Imports</span>"
   ]
  },
  {
   "cell_type": "code",
   "execution_count": 1,
   "id": "21be67bc-29d0-44e4-a8a4-cfc7e3ca5645",
   "metadata": {},
   "outputs": [],
   "source": [
    "import sys\n",
    "sys.path.append('/path/to/scaLR')"
   ]
  },
  {
   "cell_type": "code",
   "execution_count": 2,
   "id": "de5a0712-dff6-4b01-a5cb-f248d944355e",
   "metadata": {},
   "outputs": [],
   "source": [
    "import pandas as pd\n",
    "import numpy as np\n",
    "import anndata\n",
    "\n",
    "# scalr library normalization modules.\n",
    "from scalr.data.preprocess import standard_scale, sample_norm\n",
    "from scalr.utils.file_utils import read_data, write_data, write_chunkwise_data\n",
    "\n",
    "# Scanpy library for sample-norm\n",
    "import scanpy as sc\n",
    "# Sklearn library for standard scaler object\n",
    "from sklearn.preprocessing import StandardScaler\n",
    "from os import path\n",
    "\n",
    "%reload_ext autoreload\n",
    "%autoreload 2"
   ]
  },
  {
   "cell_type": "markdown",
   "id": "35ef2c7b-e7ae-44f4-b5e2-429f515d8108",
   "metadata": {},
   "source": [
    "### <span style=\"color: steelblue;\">Data generation</span>"
   ]
  },
  {
   "cell_type": "code",
   "execution_count": 3,
   "id": "f10ace70-07fe-4c45-a32a-dd796cffd96c",
   "metadata": {},
   "outputs": [],
   "source": [
    "# Setting seed for reproducibility.\n",
    "np.random.seed(0)"
   ]
  },
  {
   "cell_type": "code",
   "execution_count": 4,
   "id": "f6523010-d479-4d2f-a3e8-9ec7bc3bd6e9",
   "metadata": {},
   "outputs": [
    {
     "data": {
      "text/plain": [
       "AnnData object with n_obs × n_vars = 100 × 50\n",
       "    obs: 'dummy'"
      ]
     },
     "execution_count": 4,
     "metadata": {},
     "output_type": "execute_result"
    }
   ],
   "source": [
    "# Anndata object is required for using pipeline normalization functions.\n",
    "train_adata = anndata.AnnData(X=np.random.rand(100, 50))\n",
    "train_adata.obs = pd.DataFrame(np.random.rand(train_adata.shape[0]), columns=['dummy'])\n",
    "train_adata"
   ]
  },
  {
   "cell_type": "code",
   "execution_count": null,
   "id": "5b660df2",
   "metadata": {},
   "outputs": [],
   "source": [
    "write_data(train_adata, './train.h5ad')\n",
    "write_chunkwise_data(datapath='./train.h5ad',\n",
    "                     sample_chunksize=10,\n",
    "                     dirpath='./data/train')"
   ]
  },
  {
   "cell_type": "code",
   "execution_count": 7,
   "id": "6832cdca",
   "metadata": {},
   "outputs": [
    {
     "data": {
      "text/plain": [
       "AnnData object with n_obs × n_vars = 20 × 50\n",
       "    obs: 'dummy'"
      ]
     },
     "execution_count": 7,
     "metadata": {},
     "output_type": "execute_result"
    }
   ],
   "source": [
    "# Anndata object is required for using pipeline normalization functions.\n",
    "val_adata = anndata.AnnData(X=np.random.rand(20, 50))\n",
    "val_adata.obs = pd.DataFrame(np.random.rand(val_adata.shape[0]), columns=['dummy'])\n",
    "val_adata"
   ]
  },
  {
   "cell_type": "code",
   "execution_count": null,
   "id": "d88b5158",
   "metadata": {},
   "outputs": [],
   "source": [
    "write_data(val_adata, './val.h5ad')\n",
    "write_chunkwise_data(datapath='./val.h5ad',\n",
    "                     sample_chunksize=10,\n",
    "                     dirpath='./data/val')"
   ]
  },
  {
   "cell_type": "code",
   "execution_count": 9,
   "id": "4aaff8c7",
   "metadata": {},
   "outputs": [
    {
     "data": {
      "text/plain": [
       "AnnData object with n_obs × n_vars = 20 × 50\n",
       "    obs: 'dummy'"
      ]
     },
     "execution_count": 9,
     "metadata": {},
     "output_type": "execute_result"
    }
   ],
   "source": [
    "# Anndata object is required for using pipeline normalization functions.\n",
    "test_adata = anndata.AnnData(X=np.random.rand(20, 50))\n",
    "test_adata.obs = pd.DataFrame(np.random.rand(test_adata.shape[0]), columns=['dummy'])\n",
    "test_adata"
   ]
  },
  {
   "cell_type": "code",
   "execution_count": null,
   "id": "a822b0ac",
   "metadata": {},
   "outputs": [],
   "source": [
    "write_data(test_adata, './test.h5ad')\n",
    "write_chunkwise_data(datapath='./test.h5ad',\n",
    "                     sample_chunksize=10,\n",
    "                     dirpath='./data/test')"
   ]
  },
  {
   "cell_type": "code",
   "execution_count": 11,
   "id": "f57ff381-ed01-4a18-9c41-dded55f308bf",
   "metadata": {},
   "outputs": [
    {
     "data": {
      "text/plain": [
       "array([[0.5488135 , 0.71518937, 0.60276338, 0.54488318, 0.4236548 ,\n",
       "        0.64589411, 0.43758721, 0.891773  , 0.96366276, 0.38344152],\n",
       "       [0.57019677, 0.43860151, 0.98837384, 0.10204481, 0.20887676,\n",
       "        0.16130952, 0.65310833, 0.2532916 , 0.46631077, 0.24442559],\n",
       "       [0.67781654, 0.27000797, 0.73519402, 0.96218855, 0.24875314,\n",
       "        0.57615733, 0.59204193, 0.57225191, 0.22308163, 0.95274901],\n",
       "       [0.1494483 , 0.86812606, 0.16249293, 0.61555956, 0.12381998,\n",
       "        0.84800823, 0.80731896, 0.56910074, 0.4071833 , 0.069167  ],\n",
       "       [0.31179588, 0.69634349, 0.37775184, 0.17960368, 0.02467873,\n",
       "        0.06724963, 0.67939277, 0.45369684, 0.53657921, 0.89667129],\n",
       "       [0.35561274, 0.94043195, 0.76532525, 0.74866362, 0.90371974,\n",
       "        0.08342244, 0.55219247, 0.58447607, 0.96193638, 0.29214753],\n",
       "       [0.9065555 , 0.77404733, 0.33314515, 0.08110139, 0.40724117,\n",
       "        0.23223414, 0.13248763, 0.05342718, 0.72559436, 0.01142746],\n",
       "       [0.64557024, 0.03536244, 0.43040244, 0.51001685, 0.53617749,\n",
       "        0.68139251, 0.2775961 , 0.12886057, 0.39267568, 0.95640572],\n",
       "       [0.4012595 , 0.92929142, 0.09961493, 0.94530153, 0.86948853,\n",
       "        0.4541624 , 0.32670088, 0.23274413, 0.61446471, 0.03307459],\n",
       "       [0.29655627, 0.99201124, 0.24942004, 0.10590615, 0.95095261,\n",
       "        0.23342026, 0.68976827, 0.05835636, 0.7307091 , 0.88172021]])"
      ]
     },
     "execution_count": 11,
     "metadata": {},
     "output_type": "execute_result"
    }
   ],
   "source": [
    "train_adata.X[:10, :10]"
   ]
  },
  {
   "cell_type": "code",
   "execution_count": 12,
   "id": "843863af-ee4d-4662-a428-a61f5b40f175",
   "metadata": {},
   "outputs": [
    {
     "data": {
      "text/plain": [
       "array([[0.77037589, 0.38012993, 0.62219227, 0.89340603, 0.15839147,\n",
       "        0.00890616, 0.25675661, 0.79747194, 0.56682564, 0.94616086],\n",
       "       [0.56175023, 0.21120622, 0.62191259, 0.33469926, 0.13247703,\n",
       "        0.98440186, 0.24994142, 0.06197715, 0.27883662, 0.25170006],\n",
       "       [0.62892557, 0.23211187, 0.26718466, 0.18380395, 0.57241143,\n",
       "        0.44671866, 0.19356411, 0.93264093, 0.23922315, 0.7787389 ],\n",
       "       [0.01133226, 0.49481513, 0.26726704, 0.16443269, 0.66570567,\n",
       "        0.83554564, 0.54440575, 0.19379416, 0.75128533, 0.52133267],\n",
       "       [0.75611165, 0.2240344 , 0.21169364, 0.68427305, 0.78063916,\n",
       "        0.88636479, 0.44831369, 0.71629609, 0.17094955, 0.31475925],\n",
       "       [0.92530067, 0.47039993, 0.05079764, 0.61044325, 0.45600704,\n",
       "        0.08858767, 0.34796249, 0.61442608, 0.62770854, 0.88690303],\n",
       "       [0.74273847, 0.99055173, 0.46307262, 0.29491718, 0.34666684,\n",
       "        0.09193108, 0.45011323, 0.62712862, 0.62357741, 0.01276903],\n",
       "       [0.90169098, 0.82538828, 0.47676529, 0.82514779, 0.07562909,\n",
       "        0.25422661, 0.8668669 , 0.04138781, 0.39805402, 0.86046989],\n",
       "       [0.31148372, 0.68694574, 0.89343391, 0.10834973, 0.6096532 ,\n",
       "        0.67812893, 0.27617701, 0.7566406 , 0.10332831, 0.23967689],\n",
       "       [0.57797128, 0.72309305, 0.80813283, 0.93128198, 0.28999035,\n",
       "        0.39246662, 0.89996731, 0.83447614, 0.39913624, 0.46733827]])"
      ]
     },
     "execution_count": 12,
     "metadata": {},
     "output_type": "execute_result"
    }
   ],
   "source": [
    "val_adata.X[:10, :10]"
   ]
  },
  {
   "cell_type": "code",
   "execution_count": 13,
   "id": "3b5f8caa-84be-40a9-8a5e-dbdf3d4affe0",
   "metadata": {},
   "outputs": [
    {
     "data": {
      "text/plain": [
       "array([[0.39300922, 0.14791115, 0.16613857, 0.62739702, 0.85816427,\n",
       "        0.77896724, 0.33649381, 0.87521597, 0.84134592, 0.5242117 ],\n",
       "       [0.02924269, 0.76688868, 0.53768803, 0.79992882, 0.40886803,\n",
       "        0.66550279, 0.19880421, 0.19184457, 0.34026241, 0.51944051],\n",
       "       [0.1279081 , 0.38554568, 0.48996963, 0.18237171, 0.70428385,\n",
       "        0.84137876, 0.0044646 , 0.13322339, 0.28346284, 0.98411023],\n",
       "       [0.7905697 , 0.88564525, 0.05074183, 0.98221686, 0.42646149,\n",
       "        0.19298211, 0.97002278, 0.82518232, 0.92972355, 0.52315373],\n",
       "       [0.52305469, 0.84693774, 0.10625275, 0.82951664, 0.6509179 ,\n",
       "        0.21492954, 0.73690562, 0.74133329, 0.10800158, 0.26644681],\n",
       "       [0.53085633, 0.57597739, 0.52906692, 0.01068652, 0.34873891,\n",
       "        0.79046226, 0.34689564, 0.5093795 , 0.34663208, 0.19923791],\n",
       "       [0.08791557, 0.90621296, 0.91842522, 0.99770599, 0.77788857,\n",
       "        0.26263784, 0.26455887, 0.68821688, 0.67973266, 0.6603292 ],\n",
       "       [0.96742008, 0.09691402, 0.92833309, 0.79799602, 0.71233744,\n",
       "        0.36278598, 0.67955724, 0.81066643, 0.83042475, 0.80577562],\n",
       "       [0.30946286, 0.48914295, 0.69297402, 0.75867347, 0.40178098,\n",
       "        0.75560642, 0.72760401, 0.63247417, 0.14162976, 0.28724399],\n",
       "       [0.98504888, 0.58910049, 0.65234515, 0.28848917, 0.32585141,\n",
       "        0.19635559, 0.51460167, 0.14797458, 0.61848128, 0.46531022]])"
      ]
     },
     "execution_count": 13,
     "metadata": {},
     "output_type": "execute_result"
    }
   ],
   "source": [
    "test_adata.X[:10, :10]"
   ]
  },
  {
   "cell_type": "markdown",
   "id": "11b34e08-7022-4202-b993-31d33e25e47d",
   "metadata": {},
   "source": [
    "## <span style=\"color: steelblue;\">1. StandardScaler</span>"
   ]
  },
  {
   "cell_type": "markdown",
   "id": "c6053926-c6be-4fac-a32a-5fc0fa2a6f9e",
   "metadata": {},
   "source": [
    "### <span style=\"color: steelblue;\">scalr package - how to to use it?</span>"
   ]
  },
  {
   "cell_type": "code",
   "execution_count": 14,
   "id": "00377fe1-fb3e-4558-a492-d5561187a29f",
   "metadata": {},
   "outputs": [
    {
     "name": "stdout",
     "output_type": "stream",
     "text": [
      "\n",
      "1. `fit()` function parameters : {'data': typing.Union[anndata._core.anndata.AnnData, anndata.experimental.multi_files._anncollection.AnnCollection], 'sample_chunksize': <class 'int'>, 'return': None}\n",
      "\n",
      "2. `transform()` function parameters : {'data': <class 'numpy.ndarray'>, 'return': <class 'numpy.ndarray'>}\n"
     ]
    }
   ],
   "source": [
    "# Creating object for standard scaling normalization.\n",
    "scalr_std_scaler = standard_scale.StandardScaler(with_mean=False)\n",
    "\n",
    "print('\\n1. `fit()` function parameters :', scalr_std_scaler.fit.__annotations__)\n",
    "print('\\n2. `transform()` function parameters :', scalr_std_scaler.transform.__annotations__)"
   ]
  },
  {
   "cell_type": "code",
   "execution_count": 15,
   "id": "57e7ba69",
   "metadata": {},
   "outputs": [],
   "source": [
    "# Datapath of original splitted data\n",
    "datapath = './data'\n",
    "\n",
    "# Datapath to store processed_data\n",
    "processed_datapath = './processed_data_ss'"
   ]
  },
  {
   "cell_type": "code",
   "execution_count": 16,
   "id": "92cf9094-9a2c-4f96-a6cf-66f211c4d1f4",
   "metadata": {
    "scrolled": true
   },
   "outputs": [],
   "source": [
    "# Fitting object on train data.\n",
    "## chunk size to process data in chunks - to extract required parameters from data. Enter value that can fit in your memory.\n",
    "## It can be 2k, 3k , 5k, 10k etc...\n",
    "sample_chunksize = 10\n",
    "scalr_std_scaler.fit(read_data(path.join(datapath, 'train')), sample_chunksize)\n",
    "\n",
    "# Transforming the test data using above created object & storing it at `preprocessed_datapath`.\n",
    "scalr_std_scaler.process_data(path.join(datapath, 'test'),\n",
    "                                          sample_chunksize,\n",
    "                                          path.join(processed_datapath, 'test'))"
   ]
  },
  {
   "cell_type": "code",
   "execution_count": 17,
   "id": "5d421f92",
   "metadata": {},
   "outputs": [],
   "source": [
    "# Reading transformed test data\n",
    "test_adata_pipeline = read_data(path.join(processed_datapath, 'test'))"
   ]
  },
  {
   "cell_type": "markdown",
   "id": "36566aec-54ce-4c54-80c9-86a557418f29",
   "metadata": {},
   "source": [
    "### <span style=\"color: steelblue;\">sklearn package for standardscaling</span>\n",
    "- Developers can ignore this section"
   ]
  },
  {
   "cell_type": "code",
   "execution_count": 18,
   "id": "a54c31bd-9de2-4772-ba68-405605d65cf4",
   "metadata": {},
   "outputs": [
    {
     "data": {
      "text/plain": [
       "array([[1.41158441, 0.50525939, 0.60092889, 2.16354557, 2.71034692,\n",
       "        2.64936446, 1.16691805, 3.114875  , 2.89359187, 1.7837114 ],\n",
       "       [0.10503197, 2.61966535, 1.94483601, 2.75851238, 1.29133111,\n",
       "        2.26345776, 0.68942789, 0.68277076, 1.17024462, 1.76747668],\n",
       "       [0.45941182, 1.31701077, 1.77223692, 0.62889924, 2.2243452 ,\n",
       "        2.8616338 , 0.01548265, 0.4741392 , 0.97489718, 3.3485873 ],\n",
       "       [2.83951575, 3.02533371, 0.18353494, 3.38712306, 1.34689667,\n",
       "        0.65635615, 3.36391656, 2.93680632, 3.1975439 , 1.78011149],\n",
       "       [1.87867309, 2.89311019, 0.38431983, 2.86054441, 2.0557991 ,\n",
       "        0.73100211, 2.55549565, 2.63838939, 0.37144354, 0.9066265 ],\n",
       "       [1.9066945 , 1.96751893, 1.91365313, 0.0368519 , 1.10142484,\n",
       "        2.68846046, 1.2029903 , 1.8128708 , 1.19215146, 0.6779378 ],\n",
       "       [0.31576929, 3.09559228, 3.32197545, 3.44053652, 2.45681155,\n",
       "        0.89326394, 0.91745676, 2.44934922, 2.33776483, 2.24687226],\n",
       "       [3.47471519, 0.33105495, 3.35781256, 2.75184719, 2.2497809 ,\n",
       "        1.23388024, 2.35661872, 2.88514458, 2.85603132, 2.7417762 ],\n",
       "       [1.11150814, 1.67089549, 2.50651073, 2.61624545, 1.26894801,\n",
       "        2.56991141, 2.52323886, 2.25096211, 0.48709896, 0.97739211],\n",
       "       [3.53803317, 2.01234699, 2.35955474, 0.99483968, 1.02913905,\n",
       "        0.66782978, 1.78457364, 0.52663837, 2.12710652, 1.58329002]])"
      ]
     },
     "execution_count": 18,
     "metadata": {},
     "output_type": "execute_result"
    }
   ],
   "source": [
    "# Standard scaling using sklearn package\n",
    "sklearn_std_scaler = StandardScaler(with_mean=False)\n",
    "sklearn_std_scaler.fit(train_adata.X)\n",
    "test_adata_sklearn = sklearn_std_scaler.transform(test_adata.X)\n",
    "test_adata_sklearn[:10, :10]"
   ]
  },
  {
   "cell_type": "markdown",
   "id": "5a592691-0f87-4eb8-aee2-0af44623871e",
   "metadata": {},
   "source": [
    "### <span style=\"color: steelblue;\">Comparing scalr library results with sklearn's library results</span>"
   ]
  },
  {
   "cell_type": "code",
   "execution_count": 19,
   "id": "3b269d5f-976e-4d99-8ae5-6f822fa7c68d",
   "metadata": {},
   "outputs": [],
   "source": [
    "# Checking if error is less than 1e-15\n",
    "assert sum(\n",
    "abs(scalr_std_scaler.train_mean -\n",
    "    sklearn_std_scaler.mean_).flatten() < 1e-15\n",
    ") == train_adata.shape[1], \"Train data mean is not correctly calculated...\"\n",
    "\n",
    "assert sum(\n",
    "abs(scalr_std_scaler.train_std - sklearn_std_scaler.scale_).flatten() <\n",
    "1e-15) == train_adata.shape[\n",
    "    1], \"Train data standard deviation is not correctly calculated...\""
   ]
  },
  {
   "cell_type": "markdown",
   "id": "c053b40b-d170-4666-b6ec-b6e1415f2fbb",
   "metadata": {},
   "source": [
    "## <span style=\"color: steelblue;\">2. SampleNorm</span>"
   ]
  },
  {
   "cell_type": "markdown",
   "id": "2def9f30-1d9d-4167-9b18-bb2012b2c6b7",
   "metadata": {},
   "source": [
    "### <span style=\"color: steelblue;\">scalr package - how to to use it?</span>"
   ]
  },
  {
   "cell_type": "code",
   "execution_count": 20,
   "id": "ebaf5460-f7cd-4cbb-a3f8-502c5fb73861",
   "metadata": {},
   "outputs": [
    {
     "name": "stdout",
     "output_type": "stream",
     "text": [
      "\n",
      "1. `transform()` function parameters : {'data': <class 'numpy.ndarray'>, 'return': <class 'numpy.ndarray'>}\n"
     ]
    }
   ],
   "source": [
    "# Sample norm using pipeline\n",
    "scalr_sample_norm = sample_norm.SampleNorm()\n",
    "\n",
    "print('\\n1. `transform()` function parameters :', scalr_sample_norm.transform.__annotations__)"
   ]
  },
  {
   "cell_type": "code",
   "execution_count": 21,
   "id": "44abc1dd",
   "metadata": {},
   "outputs": [],
   "source": [
    "# Datapath of original splitted data\n",
    "datapath = './data'\n",
    "\n",
    "# Datapath to store processed_data\n",
    "processed_datapath = './processed_data_sn'"
   ]
  },
  {
   "cell_type": "code",
   "execution_count": 22,
   "id": "18f0b716-ff8d-4ecb-9591-195217f9ac27",
   "metadata": {},
   "outputs": [],
   "source": [
    "# Fitting is not required on train data for sample-norm.\n",
    "sample_chunksize = 10\n",
    "\n",
    "# Transforming on test data.\n",
    "scalr_sample_norm.process_data(path.join(datapath, 'test'),\n",
    "                               sample_chunksize,\n",
    "                               path.join(processed_datapath, 'test'))"
   ]
  },
  {
   "cell_type": "code",
   "execution_count": 23,
   "id": "161952ae",
   "metadata": {},
   "outputs": [],
   "source": [
    "# Reading transformed test data\n",
    "test_data_sample_norm_pipeline = read_data(path.join(processed_datapath, 'test'))"
   ]
  },
  {
   "cell_type": "markdown",
   "id": "d5b86a86-7e97-4a40-85e3-6558c082c8f2",
   "metadata": {},
   "source": [
    "### <span style=\"color: steelblue;\">Scanpy package for sample-norm</span>\n",
    "- Developers can ignore this section"
   ]
  },
  {
   "cell_type": "code",
   "execution_count": 24,
   "id": "b795b67e",
   "metadata": {},
   "outputs": [
    {
     "data": {
      "text/plain": [
       "AnnData object with n_obs × n_vars = 20 × 50\n",
       "    obs: 'dummy'"
      ]
     },
     "execution_count": 24,
     "metadata": {},
     "output_type": "execute_result"
    }
   ],
   "source": [
    "test_adata = read_data(path.join(datapath, 'test'), backed=None)\n",
    "test_adata = test_adata[:, :].to_adata()\n",
    "test_adata"
   ]
  },
  {
   "cell_type": "code",
   "execution_count": 25,
   "id": "0d6bed81-105b-4f66-9c87-ca1ae5f60412",
   "metadata": {},
   "outputs": [
    {
     "data": {
      "text/plain": [
       "array([[0.01660122, 0.00624796, 0.00701791, 0.02650207, 0.03624998,\n",
       "        0.03290459, 0.01421394, 0.03697027, 0.03553955, 0.02214339],\n",
       "       [0.0011924 , 0.03127078, 0.02192486, 0.03261803, 0.01667207,\n",
       "        0.02713665, 0.00810647, 0.00782269, 0.0138746 , 0.02118079],\n",
       "       [0.00499638, 0.01506028, 0.01913932, 0.00712385, 0.02751091,\n",
       "        0.03286615, 0.0001744 , 0.00520401, 0.0110727 , 0.03844156],\n",
       "       [0.02966363, 0.03323104, 0.00190393, 0.03685458, 0.01600162,\n",
       "        0.00724104, 0.03639704, 0.03096236, 0.03488494, 0.01962969],\n",
       "       [0.02123093, 0.03437743, 0.00431283, 0.03367031, 0.02642093,\n",
       "        0.00872405, 0.0299112 , 0.03009092, 0.00438381, 0.01081515],\n",
       "       [0.0225382 , 0.02445387, 0.02246222, 0.00045371, 0.01480616,\n",
       "        0.0335601 , 0.01472791, 0.02162637, 0.01471672, 0.0084589 ],\n",
       "       [0.00330591, 0.03407657, 0.03453579, 0.03751701, 0.02925115,\n",
       "        0.00987604, 0.00994828, 0.0258792 , 0.02556017, 0.02483054],\n",
       "       [0.04212857, 0.00422035, 0.04042644, 0.0347506 , 0.0310204 ,\n",
       "        0.01579836, 0.02959291, 0.03530237, 0.03616279, 0.03508938],\n",
       "       [0.01236087, 0.01953782, 0.02767944, 0.03030367, 0.01604833,\n",
       "        0.03018117, 0.02906267, 0.0252629 , 0.00565711, 0.01147338],\n",
       "       [0.04645859, 0.02778418, 0.03076704, 0.01360623, 0.01536837,\n",
       "        0.00926086, 0.02427054, 0.00697904, 0.02916989, 0.02194577]])"
      ]
     },
     "execution_count": 25,
     "metadata": {},
     "output_type": "execute_result"
    }
   ],
   "source": [
    "# Sample norm using scanpy package\n",
    "test_data_sample_norm_sc = sc.pp.normalize_total(test_adata, target_sum=1, inplace=False)\n",
    "test_data_sample_norm_sc['X'][:10, :10]"
   ]
  },
  {
   "cell_type": "markdown",
   "id": "1ec3be1c-0031-49dc-8783-e1c769baf24d",
   "metadata": {},
   "source": [
    "### <span style=\"color: steelblue;\">Comparing scalr library results with scanpy library results</span>"
   ]
  },
  {
   "cell_type": "code",
   "execution_count": 26,
   "id": "ea3e91e9-50c8-49d5-a916-8620975e01d7",
   "metadata": {},
   "outputs": [
    {
     "data": {
      "text/plain": [
       "array([[ True,  True,  True,  True,  True,  True,  True,  True,  True,\n",
       "         True],\n",
       "       [ True,  True,  True,  True,  True,  True,  True,  True,  True,\n",
       "         True],\n",
       "       [ True,  True,  True,  True,  True,  True,  True,  True,  True,\n",
       "         True],\n",
       "       [ True,  True,  True,  True,  True,  True,  True,  True,  True,\n",
       "         True],\n",
       "       [ True,  True,  True,  True,  True,  True,  True,  True,  True,\n",
       "         True],\n",
       "       [ True,  True,  True,  True,  True,  True,  True,  True,  True,\n",
       "         True],\n",
       "       [ True,  True,  True,  True,  True,  True,  True,  True,  True,\n",
       "         True],\n",
       "       [ True,  True,  True,  True,  True,  True,  True,  True,  True,\n",
       "         True],\n",
       "       [ True,  True,  True,  True,  True,  True,  True,  True,  True,\n",
       "         True],\n",
       "       [ True,  True,  True,  True,  True,  True,  True,  True,  True,\n",
       "         True]])"
      ]
     },
     "execution_count": 26,
     "metadata": {},
     "output_type": "execute_result"
    }
   ],
   "source": [
    "# Checking if error is less than 1e-15\n",
    "(abs(test_data_sample_norm_sc['X'] - test_data_sample_norm_pipeline[:, :].X) < 1e-15)[:10, :10]"
   ]
  },
  {
   "cell_type": "code",
   "execution_count": null,
   "id": "19387599",
   "metadata": {},
   "outputs": [],
   "source": []
  }
 ],
 "metadata": {
  "kernelspec": {
   "display_name": "scalr_minerva",
   "language": "python",
   "name": "python3"
  },
  "language_info": {
   "codemirror_mode": {
    "name": "ipython",
    "version": 3
   },
   "file_extension": ".py",
   "mimetype": "text/x-python",
   "name": "python",
   "nbconvert_exporter": "python",
   "pygments_lexer": "ipython3",
   "version": "3.9.19"
  }
 },
 "nbformat": 4,
 "nbformat_minor": 5
}
