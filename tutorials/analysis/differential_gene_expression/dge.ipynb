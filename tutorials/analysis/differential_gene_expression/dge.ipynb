{
 "cells": [
  {
   "cell_type": "markdown",
   "id": "4ab7b761-a7aa-46b2-9c83-28cd90728477",
   "metadata": {
    "deletable": false,
    "editable": false,
    "id": "4ab7b761-a7aa-46b2-9c83-28cd90728477"
   },
   "source": [
    "# <span style=\"color: steelblue;\">Differential Gene expression(DGE) analysis using scaLR </span>"
   ]
  },
  {
   "cell_type": "markdown",
   "id": "00f7f4e3-a508-4fea-a32c-80af3c085ecb",
   "metadata": {
    "deletable": false,
    "editable": false,
    "id": "00f7f4e3-a508-4fea-a32c-80af3c085ecb"
   },
   "source": [
    "## <span style=\"color: steelblue;\"> Keypoints </span>\n",
    "- Differential gene expression (DGE) analysis is a method employed in genomics to evaluate and compare gene expression levels across different sample groups. This can include comparisons between healthy and diseased tissues or cells subjected to various treatments.\n",
    "\n",
    "- In single-cell RNA-seq (scRNA-seq) data, the gene expression matrix is organized into various hierarchical groups. These groups may include regions from which samples were collected, clinical conditions such as different disease stages or normal states. For each individual subject in the study, RNA-seq generates a number of cells, with gene expression levels varying across different cell types.\n",
    "\n",
    "- Major single-cell differential gene expression (scDGE) analysis approaches are Pseudobulk, Mixed-effects models, and Differential distribution based methods. This tutorial explains how to perform scDGE analysis using scaLR DGE module which includes: ```Pseudobulk``` and ```Linear mixed-effects model```approaches."
   ]
  },
  {
   "cell_type": "markdown",
   "id": "rSNgaa7GWj8K",
   "metadata": {
    "id": "rSNgaa7GWj8K"
   },
   "source": [
    "## <span style=\"color: steelblue;\">Cloning scaLR</span>"
   ]
  },
  {
   "cell_type": "code",
   "execution_count": null,
   "id": "1_1UGGE0RObC",
   "metadata": {
    "colab": {
     "base_uri": "https://localhost:8080/"
    },
    "executionInfo": {
     "elapsed": 7912,
     "status": "ok",
     "timestamp": 1729667875046,
     "user": {
      "displayName": "Amit Samal",
      "userId": "04401365306056000967"
     },
     "user_tz": -330
    },
    "id": "1_1UGGE0RObC",
    "outputId": "21131322-27ce-4cba-81b7-7c69e7cffec1"
   },
   "outputs": [],
   "source": [
    "!git clone https://github.com/infocusp/scaLR.git"
   ]
  },
  {
   "cell_type": "markdown",
   "id": "7aced9c7-80ae-4546-b4bc-789e4a8fc5a2",
   "metadata": {
    "deletable": false,
    "editable": false,
    "id": "7aced9c7-80ae-4546-b4bc-789e4a8fc5a2"
   },
   "source": [
    "## <span style=\"color: steelblue;\">Library Installation and Imports</span>"
   ]
  },
  {
   "cell_type": "code",
   "execution_count": null,
   "id": "32fb16a5-1b36-4131-9a89-07c23aed2b91",
   "metadata": {
    "executionInfo": {
     "elapsed": 433,
     "status": "ok",
     "timestamp": 1729667891227,
     "user": {
      "displayName": "Amit Samal",
      "userId": "04401365306056000967"
     },
     "user_tz": -330
    },
    "id": "32fb16a5-1b36-4131-9a89-07c23aed2b91"
   },
   "outputs": [],
   "source": [
    "import sys\n",
    "sys.path.append('/content/scaLR')"
   ]
  },
  {
   "cell_type": "code",
   "execution_count": null,
   "id": "2Sy2fJEZRqWj",
   "metadata": {
    "colab": {
     "base_uri": "https://localhost:8080/"
    },
    "executionInfo": {
     "elapsed": 14255,
     "status": "ok",
     "timestamp": 1729667907199,
     "user": {
      "displayName": "Amit Samal",
      "userId": "04401365306056000967"
     },
     "user_tz": -330
    },
    "id": "2Sy2fJEZRqWj",
    "outputId": "d66c67a3-f767-417e-c355-a13ee75b2522"
   },
   "outputs": [],
   "source": [
    "!pip install scanpy shap pydeseq2"
   ]
  },
  {
   "cell_type": "code",
   "execution_count": null,
   "id": "c0618c76-391a-429c-99f3-ba3149212aef",
   "metadata": {
    "executionInfo": {
     "elapsed": 442,
     "status": "ok",
     "timestamp": 1729668000901,
     "user": {
      "displayName": "Amit Samal",
      "userId": "04401365306056000967"
     },
     "user_tz": -330
    },
    "id": "c0618c76-391a-429c-99f3-ba3149212aef"
   },
   "outputs": [],
   "source": [
    "import os\n",
    "from IPython.display import SVG, display\n",
    "from matplotlib_venn import venn2\n",
    "import numpy as np\n",
    "import pandas as pd\n",
    "import scanpy as sc\n",
    "from scalr.analysis import dge_lmem\n",
    "from scalr.analysis import dge_pseudobulk\n",
    "%reload_ext autoreload\n",
    "%autoreload 2"
   ]
  },
  {
   "cell_type": "markdown",
   "id": "EMmlAoCHWuNu",
   "metadata": {
    "id": "EMmlAoCHWuNu"
   },
   "source": [
    "## <span style=\"color: steelblue;\">Downloading data</span>\n",
    "- Downloading an anndata from `cellxgene` and making a subset anndata with 1000 genes for the downstream analysis."
   ]
  },
  {
   "cell_type": "code",
   "execution_count": null,
   "id": "qIw1w24qW5FO",
   "metadata": {
    "colab": {
     "base_uri": "https://localhost:8080/"
    },
    "executionInfo": {
     "elapsed": 24868,
     "status": "ok",
     "timestamp": 1729668100645,
     "user": {
      "displayName": "Amit Samal",
      "userId": "04401365306056000967"
     },
     "user_tz": -330
    },
    "id": "qIw1w24qW5FO",
    "outputId": "8a888b9b-52af-4e0f-f7d5-dbca7956e098"
   },
   "outputs": [],
   "source": [
    "# This shell will take approximately 00:00:24 (hh:mm:ss) to run.\n",
    "!wget -P deg_data https://datasets.cellxgene.cziscience.com/16acb1d0-4108-4767-9615-0b42abe09992.h5ad\n",
    "whole_adata = sc.read_h5ad('deg_data/16acb1d0-4108-4767-9615-0b42abe09992.h5ad',backed='r')\n",
    "whole_adata[:,:1000].to_memory().write('deg_data/test_data.h5ad',compression='gzip')"
   ]
  },
  {
   "cell_type": "markdown",
   "id": "bb1ff9fb-d935-458f-afbc-4f0129672e5f",
   "metadata": {
    "deletable": false,
    "editable": false,
    "id": "bb1ff9fb-d935-458f-afbc-4f0129672e5f"
   },
   "source": [
    "## <span style=\"color: steelblue;\">Loading of data and its exploration</span>"
   ]
  },
  {
   "cell_type": "code",
   "execution_count": null,
   "id": "32f4ec6f-6617-48b2-9b15-0cfa6603ab6b",
   "metadata": {
    "executionInfo": {
     "elapsed": 666,
     "status": "ok",
     "timestamp": 1729668129566,
     "user": {
      "displayName": "Amit Samal",
      "userId": "04401365306056000967"
     },
     "user_tz": -330
    },
    "id": "32f4ec6f-6617-48b2-9b15-0cfa6603ab6b"
   },
   "outputs": [],
   "source": [
    "dirpath = 'deg_data'\n",
    "adata = sc.read_h5ad(os.path.join(dirpath,'test_data.h5ad'),backed='r')\n",
    "\n",
    "# # There might be negative count errors while performing 'DgePseudoBulk' if the sum of gene expression across donors\n",
    "# # or subjects for a cell type is negative. This can occur due to usage of different normalization or batch-correction on gene expression\n",
    "# # values in the 'X' matrix of the AnnData object. Therefore, it is recommended to use the raw gene expression values to perform 'DgePseudoBulk'.\n",
    "\n",
    "# # An example to create anndata with raw gene expression values.\n",
    "# test_anndata = sc.read_h5ad('path/to/original/anndata',backed='r')\n",
    "# # To check the availibility of raw data, below code should return True.\n",
    "# test_anndata.raw is not None\n",
    "\n",
    "# # If the 'X' matrix is normalized, it ideally produces floating-point values for the sum of gene expression in each cell,\n",
    "# # rather than the integer counts found in the raw matrix and can be checked like below.\n",
    "# test_anndata.X[:5,:].A.sum(axis=1)\n",
    "# test_anndata.raw.X[:5,:].A.sum(axis=1)\n",
    "\n",
    "# #Prepare the raw anndata.\n",
    "# test_anndata_raw = test_anndata.AnnData(X=test_anndata.raw.X,obs=test_anndata.obs,var=test_anndata.var)\n",
    "# sc.write(\"/path/to/savefile/test_anndata_raw.h5ad\",test_anndata_raw)\n",
    "\n",
    "# # After saving the raw AnnData, it can be loaded into the variable 'adata'.\n",
    "# adata = sc.read_h5ad('path/to/raw/adata',backed='r')\n",
    "\n",
    "# # Linear mixed effects model(DgeLMEM) based analysis performes well if the data is normalized.\n",
    "# # So it can use the original normalized 'X' matrix in the 'test_anndata'."
   ]
  },
  {
   "cell_type": "code",
   "execution_count": null,
   "id": "472c0afc-9a45-41c1-a443-2dfcd5685b98",
   "metadata": {
    "colab": {
     "base_uri": "https://localhost:8080/"
    },
    "executionInfo": {
     "elapsed": 427,
     "status": "ok",
     "timestamp": 1729668134338,
     "user": {
      "displayName": "Amit Samal",
      "userId": "04401365306056000967"
     },
     "user_tz": -330
    },
    "id": "472c0afc-9a45-41c1-a443-2dfcd5685b98",
    "outputId": "25bea410-fe64-41b5-a971-58ce96b7ce98"
   },
   "outputs": [],
   "source": [
    "# Structure of the anndata.\n",
    "adata"
   ]
  },
  {
   "cell_type": "code",
   "execution_count": null,
   "id": "e6b8b5d1-621b-4652-bfc2-25a4f3282bea",
   "metadata": {
    "colab": {
     "base_uri": "https://localhost:8080/",
     "height": 446
    },
    "executionInfo": {
     "elapsed": 603,
     "status": "ok",
     "timestamp": 1729668138385,
     "user": {
      "displayName": "Amit Samal",
      "userId": "04401365306056000967"
     },
     "user_tz": -330
    },
    "id": "e6b8b5d1-621b-4652-bfc2-25a4f3282bea",
    "outputId": "6f309158-d9d7-473d-8581-c3bd298f4ea9"
   },
   "outputs": [],
   "source": [
    "# Cell barcodes and metadata.\n",
    "adata.obs.head()"
   ]
  },
  {
   "cell_type": "code",
   "execution_count": null,
   "id": "19f64dcb-d5ad-403e-a67e-4f7887984452",
   "metadata": {
    "colab": {
     "base_uri": "https://localhost:8080/",
     "height": 206
    },
    "executionInfo": {
     "elapsed": 434,
     "status": "ok",
     "timestamp": 1729668140478,
     "user": {
      "displayName": "Amit Samal",
      "userId": "04401365306056000967"
     },
     "user_tz": -330
    },
    "id": "19f64dcb-d5ad-403e-a67e-4f7887984452",
    "outputId": "6f58eaf8-5ffd-4f83-9e8f-5a035a9d67ac"
   },
   "outputs": [],
   "source": [
    "# Gene information metadata.\n",
    "adata.var.head()"
   ]
  },
  {
   "cell_type": "code",
   "execution_count": null,
   "id": "51c7a59b-4a77-41f4-9524-2de29f64905d",
   "metadata": {
    "colab": {
     "base_uri": "https://localhost:8080/"
    },
    "executionInfo": {
     "elapsed": 400,
     "status": "ok",
     "timestamp": 1729668142398,
     "user": {
      "displayName": "Amit Samal",
      "userId": "04401365306056000967"
     },
     "user_tz": -330
    },
    "id": "51c7a59b-4a77-41f4-9524-2de29f64905d",
    "outputId": "ab32d813-cc64-4c04-b8b1-2613b7191521"
   },
   "outputs": [],
   "source": [
    "# Information about subjects.\n",
    "adata.obs.donor_id.unique()"
   ]
  },
  {
   "cell_type": "code",
   "execution_count": null,
   "id": "748615e5-3d10-4c2f-bc9b-6a1d6c167371",
   "metadata": {
    "colab": {
     "base_uri": "https://localhost:8080/",
     "height": 303
    },
    "executionInfo": {
     "elapsed": 419,
     "status": "ok",
     "timestamp": 1729668144186,
     "user": {
      "displayName": "Amit Samal",
      "userId": "04401365306056000967"
     },
     "user_tz": -330
    },
    "id": "748615e5-3d10-4c2f-bc9b-6a1d6c167371",
    "outputId": "07c39d7a-9ae7-4e6a-dff9-e3a89708b700"
   },
   "outputs": [],
   "source": [
    "# Celltype information.\n",
    "adata.obs.cell_type.value_counts()"
   ]
  },
  {
   "cell_type": "code",
   "execution_count": null,
   "id": "a1afe8c4-287b-451d-b92e-8b611be4a8fb",
   "metadata": {
    "colab": {
     "base_uri": "https://localhost:8080/",
     "height": 178
    },
    "executionInfo": {
     "elapsed": 423,
     "status": "ok",
     "timestamp": 1729668149168,
     "user": {
      "displayName": "Amit Samal",
      "userId": "04401365306056000967"
     },
     "user_tz": -330
    },
    "id": "a1afe8c4-287b-451d-b92e-8b611be4a8fb",
    "outputId": "ab255566-9d2f-4ab9-eaae-370949c490dc"
   },
   "outputs": [],
   "source": [
    "# Clinical conditions.\n",
    "adata.obs.disease.value_counts()"
   ]
  },
  {
   "cell_type": "markdown",
   "id": "8027e582-d8a2-47fc-894c-2ecc1be6110a",
   "metadata": {
    "deletable": false,
    "editable": false,
    "id": "8027e582-d8a2-47fc-894c-2ecc1be6110a"
   },
   "source": [
    "## <span style=\"color: steelblue;\">DGE analysis using Pseudobulk approach</span>\n",
    "\n",
    "- ```Pseudobulk``` approach involves aggregating the unique molecular identifier (UMI) counts within each cell type of all\n",
    "  subjects, effectively creating a \"pseudobulk\" dataset.\n",
    "- In this method, the scRNA-seq data is summarized to resemble bulk RNA-seq data, where the UMI counts from all cells\n",
    "  of a specific type are combined for each subject.\n",
    "- This aggregated dataset can then be analyzed using DGE methods designed for bulk RNA-seq by treating each\n",
    "  cell type's UMI counts as if they were from a bulk sample."
   ]
  },
  {
   "cell_type": "markdown",
   "id": "810d4e89-95e5-44a6-9c69-a48a469f1a85",
   "metadata": {
    "deletable": false,
    "editable": false,
    "id": "810d4e89-95e5-44a6-9c69-a48a469f1a85"
   },
   "source": [
    "### <span style=\"color: steelblue;\">Analysis</span>\n",
    "\n",
    "- The analysis starts by selecting a subset of ```cell types``` for the differential gene expression (DGE) analysis, followed by\n",
    "  extracting individual subsets of the `AnnData` object for each cell type.\n",
    "- The ```donor_id``` in ```adata.obs``` will be used to identify the subjects, while the ```disease``` column will serve as the\n",
    "  ```design_factor```, with `['COVID-19', 'normal']` representing the two factor levels for the ```design_factor```.\n",
    "- The required and optional parameters are outlined below."
   ]
  },
  {
   "cell_type": "code",
   "execution_count": null,
   "id": "01c10ad8-3b97-4237-92c3-c59239c437f9",
   "metadata": {
    "executionInfo": {
     "elapsed": 438,
     "status": "ok",
     "timestamp": 1729671438915,
     "user": {
      "displayName": "Amit Samal",
      "userId": "04401365306056000967"
     },
     "user_tz": -330
    },
    "id": "01c10ad8-3b97-4237-92c3-c59239c437f9"
   },
   "outputs": [],
   "source": [
    "dge_pbk = dge_pseudobulk.DgePseudoBulk(celltype_column = 'cell_type',\n",
    "                                       design_factor = 'disease',\n",
    "                                       factor_categories = ['COVID-19', 'normal'],\n",
    "                                       sum_column = 'donor_id',\n",
    "                                       cell_subsets = ['plasmablast','memory B cell'],\n",
    "                                       min_cell_threshold = 1,\n",
    "                                       fold_change = 1.5,\n",
    "                                       p_val = 0.05,\n",
    "                                       y_lim_tuple = None,\n",
    "                                       save_plot = True,\n",
    "                                       stdout = True)"
   ]
  },
  {
   "cell_type": "markdown",
   "id": "c1e2e012-fa07-4c5e-9d43-4927310a91b9",
   "metadata": {
    "deletable": false,
    "editable": false,
    "id": "c1e2e012-fa07-4c5e-9d43-4927310a91b9"
   },
   "source": [
    "#### <span style=\"color: steelblue;\">Parameters </span>\n",
    "- (* marked are required)\n",
    "   \n",
    "    - **```*celltype_column```** : Column name in `anndata.obs` containing all the cell types.\n",
    "    - **```*design_factor```** : Column name in `anndata.obs` containing different factor levels or categories for differential gene expression analysis.           \n",
    "    - **```*factor_categories```** : List of conditions in ```design_factor``` used to create the design matrix, with the last category in the list serving as the reference to the first. For example, in ```['disease_1','normal']```, ```normal``` serves as the reference.\n",
    "    - **```*sum_column```** : Column name to sum values across samples.  \n",
    "    - **```*cell_subsets```** : Selcted list of cell types in ```celltype_column``` to subset the anndata.\n",
    "    - **```min_cell_threshold```** : Minimum number of subjects with aggregated nonzero gene expression values.\n",
    "      Each subject has the aggregated expression value for each gene of the selected cell type.\n",
    "      If `min_cell_threshold = 1` is specified, genes will be filtered out unless they have at least one non-zero value in the subjects.\n",
    "    - **```fold_change```** : Fold change to filter the differentially expressed genes for volcano plot.\n",
    "    - **```p_val```** : ```p```value to filter differentially expressed genes for volcano plot.\n",
    "    - **```y_lim_tuple```** : Values to adjust the Y-axis limits of the plot.\n",
    "    - **```save_plot```** : Boolean value to save the plot.\n",
    "    - **```stdout```** : Boolean value to print logs to stdout."
   ]
  },
  {
   "cell_type": "code",
   "execution_count": null,
   "id": "fdb0bb70-6db1-4477-a1b6-4ca827a11082",
   "metadata": {
    "colab": {
     "base_uri": "https://localhost:8080/"
    },
    "executionInfo": {
     "elapsed": 18138,
     "status": "ok",
     "timestamp": 1729668292419,
     "user": {
      "displayName": "Amit Samal",
      "userId": "04401365306056000967"
     },
     "user_tz": -330
    },
    "id": "fdb0bb70-6db1-4477-a1b6-4ca827a11082",
    "outputId": "7ee88fa4-dd9c-4a48-e994-59291af63b69"
   },
   "outputs": [],
   "source": [
    "# Generate analysis and save the result.\n",
    "# This shell will take approximately 00:00:16 (hh:mm:ss) to run.\n",
    "dge_pbk.generate_analysis(adata,dirpath)"
   ]
  },
  {
   "cell_type": "markdown",
   "id": "d3fdf8ef-e969-4bcc-83ca-2086f1315720",
   "metadata": {
    "deletable": false,
    "editable": false,
    "id": "d3fdf8ef-e969-4bcc-83ca-2086f1315720"
   },
   "source": [
    "### <span style=\"color: steelblue;\">Result</span>"
   ]
  },
  {
   "cell_type": "code",
   "execution_count": null,
   "id": "306bb993-020b-4feb-955b-3ed4995be60b",
   "metadata": {
    "colab": {
     "base_uri": "https://localhost:8080/",
     "height": 206
    },
    "executionInfo": {
     "elapsed": 619,
     "status": "ok",
     "timestamp": 1729668477756,
     "user": {
      "displayName": "Amit Samal",
      "userId": "04401365306056000967"
     },
     "user_tz": -330
    },
    "id": "306bb993-020b-4feb-955b-3ed4995be60b",
    "outputId": "680a7911-16dc-4020-d04d-a76be75a11fa"
   },
   "outputs": [],
   "source": [
    "# Pseudobulk(pbk).\n",
    "pbk_result_plb = pd.read_csv(f'{dirpath}/pseudobulk_dge_result/pbkDGE_plasmablast_COVID-19_vs_normal.csv')\n",
    "pbk_result_plb.head()"
   ]
  },
  {
   "cell_type": "markdown",
   "id": "f2b5a1fe-2786-4a27-9ea3-3c938ccd390f",
   "metadata": {
    "deletable": false,
    "editable": false,
    "id": "f2b5a1fe-2786-4a27-9ea3-3c938ccd390f"
   },
   "source": [
    "- DGE results for each gene in ```plasmablast```\n",
    "    - **```gene```** - Gene name.\n",
    "    -  **```baseMean```** - Mean gene expression.\n",
    "    - **```log2FoldChange```** : log2 fold change in gene expression in ```COVID-19``` compared to ```normal``` subjects.\n",
    "    - **```lfcSE```** : Standard Error for log2 fold change.\n",
    "    - **```stat```** : ```Wald's test``` statistics.\n",
    "    - **```pvalue```** : ```p``` value.\n",
    "    - **```padj```** : Adjusted ```p``` value.\n",
    "  "
   ]
  },
  {
   "cell_type": "code",
   "execution_count": null,
   "id": "OtxRGQIkuTn_",
   "metadata": {
    "colab": {
     "base_uri": "https://localhost:8080/",
     "height": 544
    },
    "executionInfo": {
     "elapsed": 1224,
     "status": "ok",
     "timestamp": 1729668484402,
     "user": {
      "displayName": "Amit Samal",
      "userId": "04401365306056000967"
     },
     "user_tz": -330
    },
    "id": "OtxRGQIkuTn_",
    "outputId": "107cfa2f-6063-43e5-be7a-3a6b5dc1a103"
   },
   "outputs": [],
   "source": [
    "# Volcano plot of `log2FoldChange` vs `-log10(pvalue)` in gene expression in `plasmablast`.\n",
    "display(SVG('deg_data/pseudobulk_dge_result/pbkDGE_plasmablast_COVID-19_vs_normal.svg'))\n",
    "\n",
    "#*Note*: A `Fold Change (FC)` of 1.5 units in the figure is equivalent to a `log2 Fold Change` of 0.584."
   ]
  },
  {
   "cell_type": "markdown",
   "id": "0bc426c6-2906-407a-8bfb-46f6c8808d9f",
   "metadata": {
    "deletable": false,
    "editable": false,
    "id": "0bc426c6-2906-407a-8bfb-46f6c8808d9f"
   },
   "source": [
    "## <span style=\"color: steelblue;\">DGE analysis using Linear Mixed Effects Model (LMEM) approach </span>"
   ]
  },
  {
   "cell_type": "markdown",
   "id": "d30b6c1b-78b0-47b7-b6a3-547b624f3b99",
   "metadata": {
    "deletable": false,
    "editable": false,
    "id": "d30b6c1b-78b0-47b7-b6a3-547b624f3b99"
   },
   "source": [
    "- A linear mixed-effects model can incorporate both fixed and random effects. Fixed effects remain consistent across the population, while random effects vary across different groups or levels within the data and are modeled as random variables with their distribution, typically assumed to follow a normal distribution.\n",
    "- In scRNA-seq data, these effects allow the model to treat certain parameters as random variables at the subject level, while fixing others at a higher level, such as the population mean for a clinical condition.\n",
    "- In the same dataset, we will explore both fixed and random effects parameters and conduct differential gene expression analysis, taking these effects into account."
   ]
  },
  {
   "cell_type": "markdown",
   "id": "5f764b5c-0a6b-4d4d-951e-ca6a6efa3734",
   "metadata": {
    "deletable": false,
    "id": "5f764b5c-0a6b-4d4d-951e-ca6a6efa3734"
   },
   "source": [
    "### <span style=\"color: steelblue;\">Analysis</span>\n",
    "\n",
    "- We'll select a subset of cell types for the differential gene expression (DGE) analysis.\n",
    "- Next, we'll subset the ```AnnData``` object for each cell type individually.\n",
    "- The final linear mixed-effects model (LMEM) analysis will use the ```disease``` column as the ```fixed effect``` parameter and ```donor_id``` as the ```random effect``` or ```group``` parameter. The required and optional parameters are listed below."
   ]
  },
  {
   "cell_type": "code",
   "execution_count": null,
   "id": "546dccd0-666c-4269-8290-930a473d519b",
   "metadata": {
    "executionInfo": {
     "elapsed": 511,
     "status": "ok",
     "timestamp": 1729668506437,
     "user": {
      "displayName": "Amit Samal",
      "userId": "04401365306056000967"
     },
     "user_tz": -330
    },
    "id": "546dccd0-666c-4269-8290-930a473d519b"
   },
   "outputs": [],
   "source": [
    "dge_lm = dge_lmem.DgeLMEM(fixed_effect_column = 'disease',\n",
    "                          fixed_effect_factors = ['COVID-19', 'normal'],\n",
    "                          group = 'donor_id',\n",
    "                          celltype_column = 'cell_type',\n",
    "                          cell_subsets = ['plasmablast'],\n",
    "                          min_cell_threshold = 10,\n",
    "                          n_cpu = 6,\n",
    "                          gene_batch_size = 1000,\n",
    "                          coef_threshold = 0,\n",
    "                          p_val = 0.05,\n",
    "                          save_plot = True,\n",
    "                          stdout = True)"
   ]
  },
  {
   "cell_type": "markdown",
   "id": "18326039-6338-42db-9818-ebea36175626",
   "metadata": {
    "deletable": false,
    "editable": false,
    "id": "18326039-6338-42db-9818-ebea36175626"
   },
   "source": [
    "#### <span style=\"color: steelblue;\">Parameters </span>\n",
    "- (* marked are required)\n",
    "   \n",
    "    - **```*fixed_effect_column```** : Column name in ```anndata.obs``` containing different factor levels or categories for\n",
    "      differential gene expression analysis. This serves as the ```fixed_effect``` parameter.           \n",
    "    - **```*fixed_effect_factors```** : List of conditions in ```fixed_effect_column``` used to create the design matrix, with the last\n",
    "      category in the list serving as the reference to others. For example, in ```['disease_1','disease_2','normal']```,\n",
    "      ```normal``` serves as the reference.\n",
    "    - **```*group```** : Column name to act as a ```random_effect``` parameter for mixed effect model.\n",
    "    - **```*celltype_column```** : Column name in ```anndata.obs``` containing all the cell types. Analysis can be done without this\n",
    "      parameter, i.e. without susetting the input data as per the celltypes, but it is better to fix the data with a particular\n",
    "      celltype to remove the cell specific confounding effects.  \n",
    "    - **```*cell_subsets```** : Selcted list of cell types in ```celltype_column``` to subset the anndata.\n",
    "    - **```min_cell_threshold```** : Minimum number of cells with nonzero values for a gene.\n",
    "    - **```n_cpu```** : Number of CPUs for parallelization.\n",
    "    - **```gene_batch_size```** : Number of genes in a batch of processing.\n",
    "    - **```coef_threshold```** : Threshold to filter up and down regulated genes in volcano plot.\n",
    "    - **```p_val```** : ```p```value to filter differentially expressed genes for volcano plot.\n",
    "    - **```y_lim_tuple```** : Values to adjust the Y-axis limits of the plot.\n",
    "    - **```save_plot```** : Boolean value to save the plot.\n",
    "    - **```stdout```** : Boolean value to print logs to stdout."
   ]
  },
  {
   "cell_type": "code",
   "execution_count": null,
   "id": "20f494da-992c-44bf-988b-9b0bfe8258c9",
   "metadata": {
    "colab": {
     "base_uri": "https://localhost:8080/"
    },
    "executionInfo": {
     "elapsed": 268009,
     "status": "ok",
     "timestamp": 1729668781085,
     "user": {
      "displayName": "Amit Samal",
      "userId": "04401365306056000967"
     },
     "user_tz": -330
    },
    "id": "20f494da-992c-44bf-988b-9b0bfe8258c9",
    "outputId": "a6d9fac6-417f-47c0-b664-9388fce8e5e5",
    "scrolled": true
   },
   "outputs": [],
   "source": [
    "# Linear mixed-effects model analysis is computationally intensive and typically parallelized across multiple CPU cores for efficiency.\n",
    "# It may take a bit more time, as the multiprocessing is not very efficient with only 2 CPUs in the current Colab runtime.\n",
    "# This shell will take approximately 00:04:27 (hh:mm:ss) to run.\n",
    "\n",
    "# Generate analysis and save the result.\n",
    "dge_lm.generate_analysis(adata,dirpath)"
   ]
  },
  {
   "cell_type": "markdown",
   "id": "212a5120-6297-424b-92c8-f62e3c557bf8",
   "metadata": {
    "deletable": false,
    "editable": false,
    "id": "212a5120-6297-424b-92c8-f62e3c557bf8"
   },
   "source": [
    "### <span style=\"color: steelblue;\">Result</span>"
   ]
  },
  {
   "cell_type": "code",
   "execution_count": null,
   "id": "13d942ae-2cbd-4cb2-acf0-cbebd4a3cc2e",
   "metadata": {
    "colab": {
     "base_uri": "https://localhost:8080/",
     "height": 206
    },
    "executionInfo": {
     "elapsed": 479,
     "status": "ok",
     "timestamp": 1729668843559,
     "user": {
      "displayName": "Amit Samal",
      "userId": "04401365306056000967"
     },
     "user_tz": -330
    },
    "id": "13d942ae-2cbd-4cb2-acf0-cbebd4a3cc2e",
    "outputId": "633f5b30-ab6b-4ebd-e0d5-c82cf4fabf58"
   },
   "outputs": [],
   "source": [
    "# LMEM(lmem).\n",
    "lmem_result_plb = pd.read_csv(f'{dirpath}/lmem_dge_result/lmemDGE_plasmablast.csv')\n",
    "lmem_result_plb.head()"
   ]
  },
  {
   "cell_type": "markdown",
   "id": "220346e7-10ba-4e7c-9908-c49d99f299b6",
   "metadata": {
    "deletable": false,
    "editable": false,
    "id": "220346e7-10ba-4e7c-9908-c49d99f299b6"
   },
   "source": [
    "- Model results for each gene in ```plasmablast```.\n",
    "    - **```gene```** - Gene name.\n",
    "    - **```coef_COVID-19```** : Coefficient difference of ```COVID-19``` subjects compared to ```normal``` ones.\n",
    "    - **```SEcoef_COVID-19```** : Coefficient Standard Error.\n",
    "    - **```pval_COVID-19```** : ```p``` value.\n",
    "    - **```stat_COVID-19```** : ```Wald's test``` statistics.\n",
    "    - **```adj_pval_COVID-19```** : Adjusted ```p``` value.\n",
    "  "
   ]
  },
  {
   "cell_type": "code",
   "execution_count": null,
   "id": "CAOXM34v4MWL",
   "metadata": {
    "colab": {
     "base_uri": "https://localhost:8080/",
     "height": 470
    },
    "executionInfo": {
     "elapsed": 576,
     "status": "ok",
     "timestamp": 1729254269708,
     "user": {
      "displayName": "Amit Samal",
      "userId": "04401365306056000967"
     },
     "user_tz": -330
    },
    "id": "CAOXM34v4MWL",
    "outputId": "2a5a6665-215a-4b10-c5b0-4cf0b49c0bb7"
   },
   "outputs": [],
   "source": [
    "# Volcano plot of `coef_COVID-19` vs `-log10(pval_COVID-19)` in `plasmablast`.\n",
    "display(SVG(f'{dirpath}/lmem_dge_result/lmem_DGE_plasmablast_COVID-19.svg'))"
   ]
  },
  {
   "cell_type": "markdown",
   "id": "401070be-4151-4cb1-b0b3-6b150d8e3fd9",
   "metadata": {
    "deletable": false,
    "id": "401070be-4151-4cb1-b0b3-6b150d8e3fd9"
   },
   "source": [
    "## <span style=\"color: steelblue;\">DGE analysis for large Anndata with Nohang Up</span>\n",
    "\n",
    "- For running the ```DgePseudoBulk/DgeLMEM``` analysis as a Python script, clone and install [scaLR](https://github.com/infocusp/scaLR) in the machine.\n",
    "- Move to the ```tutorials/analysis/differential_gene_expression/``` directory.\n",
    "  In ```dge_config.yaml```, update the ```dge_type``` and ```psedobulk/lmem_params```.\n",
    "- ```dirpath``` and ```full_datapath``` represent the paths to save the results and the AnnData file, respectively.\n",
    "\n",
    "- ```dge_config.yaml``` for ```DgePseudoBulk/DgeLMEM```\n",
    "\n",
    "     ![Alt text](https://github.com/infocusp/scaLR/blob/main/tutorials/analysis/differential_gene_expression/tutorial_config.png?raw=1)\n",
    "\n",
    "- In the terminal, type the following command after updating the ```/path/to/scaLR``` repository.\n",
    "    - ```export PYTHONPATH=\"${PYTHONPATH}:/path/to/scaLR\"```\n",
    "\n",
    "- Run either of the commands below in the terminal as per the ```dge_type``` and ```parameters```:\n",
    "    - ```nohup /usr/bin/time --verbose python -u dge_pseudobulk_main.py --config dge_config.yaml >nohup_dge_pbk 2>&1 &```\n",
    "    - ```nohup /usr/bin/time --verbose python -u dge_lmem_main.py --config dge_config.yaml >nohup_dge_lmem 2>&1 &```"
   ]
  },
  {
   "cell_type": "markdown",
   "id": "90f1914e",
   "metadata": {
    "deletable": false,
    "editable": false,
    "id": "90f1914e"
   },
   "source": [
    "## <span style=\"color: steelblue;\">Comparison of identified up- and down- regulated genes by Pseudobulk and LMEM approaches in plasmablast (in COVID-19 subjects w.r.t Normal ones)</span>"
   ]
  },
  {
   "cell_type": "code",
   "execution_count": null,
   "id": "d1761e22-7214-486b-8a50-6003edacd79b",
   "metadata": {
    "colab": {
     "base_uri": "https://localhost:8080/",
     "height": 206
    },
    "executionInfo": {
     "elapsed": 511,
     "status": "ok",
     "timestamp": 1729668867286,
     "user": {
      "displayName": "Amit Samal",
      "userId": "04401365306056000967"
     },
     "user_tz": -330
    },
    "id": "d1761e22-7214-486b-8a50-6003edacd79b",
    "outputId": "009786bd-e144-43b4-818c-ab586e1585c0"
   },
   "outputs": [],
   "source": [
    "# Pseudobulk result for 'plasmablast'.\n",
    "pbk_result_plb.head()"
   ]
  },
  {
   "cell_type": "code",
   "execution_count": null,
   "id": "cd5f113d-9fe5-4f04-8a59-4f392e3107d0",
   "metadata": {
    "colab": {
     "base_uri": "https://localhost:8080/",
     "height": 206
    },
    "executionInfo": {
     "elapsed": 433,
     "status": "ok",
     "timestamp": 1729668869639,
     "user": {
      "displayName": "Amit Samal",
      "userId": "04401365306056000967"
     },
     "user_tz": -330
    },
    "id": "cd5f113d-9fe5-4f04-8a59-4f392e3107d0",
    "outputId": "5eebd0f9-f0f4-42d8-9ab5-2d984eb89124"
   },
   "outputs": [],
   "source": [
    "# LMEM result for 'plasmablast'.\n",
    "lmem_result_plb.head()"
   ]
  },
  {
   "cell_type": "code",
   "execution_count": null,
   "id": "b241554b-a777-406b-bda9-f3e282494e70",
   "metadata": {
    "executionInfo": {
     "elapsed": 449,
     "status": "ok",
     "timestamp": 1729668878789,
     "user": {
      "displayName": "Amit Samal",
      "userId": "04401365306056000967"
     },
     "user_tz": -330
    },
    "id": "b241554b-a777-406b-bda9-f3e282494e70"
   },
   "outputs": [],
   "source": [
    "# Adding column with absolute values for 'log2FoldChange' and 'coef_COVID-19' in the dataframes.\n",
    "pbk_result_plb['abs_log2FoldChange'] = np.abs(pbk_result_plb['log2FoldChange'])\n",
    "lmem_result_plb['abs_coef_COVID-19'] = np.abs(lmem_result_plb['coef_COVID-19'])"
   ]
  },
  {
   "cell_type": "code",
   "execution_count": null,
   "id": "b52cd8f7-9eb6-4458-bc53-34e87530fa3b",
   "metadata": {
    "colab": {
     "base_uri": "https://localhost:8080/",
     "height": 206
    },
    "executionInfo": {
     "elapsed": 443,
     "status": "ok",
     "timestamp": 1729668882682,
     "user": {
      "displayName": "Amit Samal",
      "userId": "04401365306056000967"
     },
     "user_tz": -330
    },
    "id": "b52cd8f7-9eb6-4458-bc53-34e87530fa3b",
    "outputId": "d6a4b30b-b26c-4405-d7a4-c66614c958cc"
   },
   "outputs": [],
   "source": [
    "pbk_result_plb.head()"
   ]
  },
  {
   "cell_type": "code",
   "execution_count": null,
   "id": "95639fb0-6cd6-4dc9-be35-cd952de73c4e",
   "metadata": {
    "colab": {
     "base_uri": "https://localhost:8080/",
     "height": 206
    },
    "executionInfo": {
     "elapsed": 671,
     "status": "ok",
     "timestamp": 1729668883774,
     "user": {
      "displayName": "Amit Samal",
      "userId": "04401365306056000967"
     },
     "user_tz": -330
    },
    "id": "95639fb0-6cd6-4dc9-be35-cd952de73c4e",
    "outputId": "41079fc1-5566-4868-97e2-55d5c92f1ce5"
   },
   "outputs": [],
   "source": [
    "lmem_result_plb.head()"
   ]
  },
  {
   "cell_type": "code",
   "execution_count": null,
   "id": "f4e4007a-126d-4034-96e1-172b12526d08",
   "metadata": {
    "executionInfo": {
     "elapsed": 499,
     "status": "ok",
     "timestamp": 1729668892164,
     "user": {
      "displayName": "Amit Samal",
      "userId": "04401365306056000967"
     },
     "user_tz": -330
    },
    "id": "f4e4007a-126d-4034-96e1-172b12526d08"
   },
   "outputs": [],
   "source": [
    "# Setting required parameters to filter the up and down-regulated genes.\n",
    "fold_change = 1.5\n",
    "log2_fc = np.log2(fold_change)\n",
    "p_val = 0.05\n",
    "coef_threshold = 0"
   ]
  },
  {
   "cell_type": "code",
   "execution_count": null,
   "id": "9301884e-73ed-405b-b0ca-367b502955fc",
   "metadata": {
    "executionInfo": {
     "elapsed": 489,
     "status": "ok",
     "timestamp": 1729668894009,
     "user": {
      "displayName": "Amit Samal",
      "userId": "04401365306056000967"
     },
     "user_tz": -330
    },
    "id": "9301884e-73ed-405b-b0ca-367b502955fc"
   },
   "outputs": [],
   "source": [
    "# Getting stats for up and down regulated genes in Pseudobulk result.\n",
    "pbk_up_reg_gene_df = pbk_result_plb.loc[(pbk_result_plb['log2FoldChange']>=log2_fc)&(pbk_result_plb['pvalue']<=p_val)]\n",
    "pbk_up_reg_gene_df = pbk_up_reg_gene_df.sort_values(by='abs_log2FoldChange',ascending=False)\n",
    "pbk_down_reg_gene_df = pbk_result_plb.loc[(pbk_result_plb['log2FoldChange']<=(-log2_fc))&(pbk_result_plb['pvalue']<=p_val)]\n",
    "pbk_down_reg_gene_df = pbk_down_reg_gene_df.sort_values(by='abs_log2FoldChange',ascending=False)"
   ]
  },
  {
   "cell_type": "code",
   "execution_count": null,
   "id": "bae363e7-a4eb-4d22-8601-6b4fd6d6e56e",
   "metadata": {
    "colab": {
     "base_uri": "https://localhost:8080/",
     "height": 206
    },
    "executionInfo": {
     "elapsed": 516,
     "status": "ok",
     "timestamp": 1729668897594,
     "user": {
      "displayName": "Amit Samal",
      "userId": "04401365306056000967"
     },
     "user_tz": -330
    },
    "id": "bae363e7-a4eb-4d22-8601-6b4fd6d6e56e",
    "outputId": "766737a6-289a-43bf-8966-350ed568d98f"
   },
   "outputs": [],
   "source": [
    "pbk_up_reg_gene_df.head()"
   ]
  },
  {
   "cell_type": "code",
   "execution_count": null,
   "id": "1be812cd-fd66-4dda-ba1a-c79e46f818c7",
   "metadata": {
    "colab": {
     "base_uri": "https://localhost:8080/",
     "height": 206
    },
    "executionInfo": {
     "elapsed": 455,
     "status": "ok",
     "timestamp": 1729668912892,
     "user": {
      "displayName": "Amit Samal",
      "userId": "04401365306056000967"
     },
     "user_tz": -330
    },
    "id": "1be812cd-fd66-4dda-ba1a-c79e46f818c7",
    "outputId": "6a0dab7d-9eb2-43f0-d8f9-bbd9d4b96cc3"
   },
   "outputs": [],
   "source": [
    "pbk_down_reg_gene_df.head()"
   ]
  },
  {
   "cell_type": "code",
   "execution_count": null,
   "id": "e26014af-c9bd-4eec-bf66-f0d89bae6513",
   "metadata": {
    "executionInfo": {
     "elapsed": 502,
     "status": "ok",
     "timestamp": 1729668928413,
     "user": {
      "displayName": "Amit Samal",
      "userId": "04401365306056000967"
     },
     "user_tz": -330
    },
    "id": "e26014af-c9bd-4eec-bf66-f0d89bae6513"
   },
   "outputs": [],
   "source": [
    "# Getting stats for up and down regulated genes in LMEM result.\n",
    "lmem_up_reg_gene_df = lmem_result_plb.loc[(lmem_result_plb['coef_COVID-19']>coef_threshold)&(lmem_result_plb['pval_COVID-19']<=p_val)]\n",
    "lmem_up_reg_gene_df = lmem_up_reg_gene_df.sort_values(by='abs_coef_COVID-19',ascending=False)\n",
    "lmem_down_reg_gene_df = lmem_result_plb.loc[(lmem_result_plb['coef_COVID-19']<(-coef_threshold))&(lmem_result_plb['pval_COVID-19']<=p_val)]\n",
    "lmem_down_reg_gene_df = lmem_down_reg_gene_df.sort_values(by='abs_coef_COVID-19',ascending=False)"
   ]
  },
  {
   "cell_type": "code",
   "execution_count": null,
   "id": "cc93c4a6-17cf-4ea4-9f5b-504eeed96c1b",
   "metadata": {
    "colab": {
     "base_uri": "https://localhost:8080/",
     "height": 206
    },
    "executionInfo": {
     "elapsed": 441,
     "status": "ok",
     "timestamp": 1729668932077,
     "user": {
      "displayName": "Amit Samal",
      "userId": "04401365306056000967"
     },
     "user_tz": -330
    },
    "id": "cc93c4a6-17cf-4ea4-9f5b-504eeed96c1b",
    "outputId": "8a700625-77a9-4822-a270-556d45411331"
   },
   "outputs": [],
   "source": [
    "lmem_up_reg_gene_df.head()"
   ]
  },
  {
   "cell_type": "code",
   "execution_count": null,
   "id": "edec46c1-11a1-4745-9147-8f2da12c02b7",
   "metadata": {
    "colab": {
     "base_uri": "https://localhost:8080/",
     "height": 206
    },
    "executionInfo": {
     "elapsed": 520,
     "status": "ok",
     "timestamp": 1729671219628,
     "user": {
      "displayName": "Amit Samal",
      "userId": "04401365306056000967"
     },
     "user_tz": -330
    },
    "id": "edec46c1-11a1-4745-9147-8f2da12c02b7",
    "outputId": "ffb0fee4-f866-419d-a12d-15871f9d6634"
   },
   "outputs": [],
   "source": [
    "lmem_down_reg_gene_df.head()"
   ]
  },
  {
   "cell_type": "markdown",
   "id": "ff54c02b-8f12-4636-9e83-024c608a0bff",
   "metadata": {
    "deletable": false,
    "editable": false,
    "id": "ff54c02b-8f12-4636-9e83-024c608a0bff"
   },
   "source": [
    "### <span style=\"color: steelblue;\">Common up-regulated genes identified Pseudobulk v/s LMEM approaches</span>"
   ]
  },
  {
   "cell_type": "code",
   "execution_count": null,
   "id": "4ed18cb4-eb10-41eb-ac0a-a76fda4d3402",
   "metadata": {
    "colab": {
     "base_uri": "https://localhost:8080/",
     "height": 427
    },
    "executionInfo": {
     "elapsed": 540,
     "status": "ok",
     "timestamp": 1729671224394,
     "user": {
      "displayName": "Amit Samal",
      "userId": "04401365306056000967"
     },
     "user_tz": -330
    },
    "id": "4ed18cb4-eb10-41eb-ac0a-a76fda4d3402",
    "outputId": "5bd3fd97-8925-4b53-ca28-315b0148cbb7"
   },
   "outputs": [],
   "source": [
    "venn2([set(pbk_up_reg_gene_df['gene']), set(lmem_up_reg_gene_df['gene'])], set_labels=('Pseudobulk_up', 'LMEM_up'))"
   ]
  },
  {
   "cell_type": "markdown",
   "id": "7b558e66-6f93-412c-b61b-c29c795ebfb7",
   "metadata": {
    "deletable": false,
    "editable": false,
    "id": "7b558e66-6f93-412c-b61b-c29c795ebfb7"
   },
   "source": [
    "### <span style=\"color: steelblue;\">Common down-regulated genes identified Pseudobulk v/s LMEM approaches</span>"
   ]
  },
  {
   "cell_type": "code",
   "execution_count": null,
   "id": "240cd269-82c9-480c-9cac-527a9fccc423",
   "metadata": {
    "colab": {
     "base_uri": "https://localhost:8080/",
     "height": 427
    },
    "executionInfo": {
     "elapsed": 987,
     "status": "ok",
     "timestamp": 1729671229274,
     "user": {
      "displayName": "Amit Samal",
      "userId": "04401365306056000967"
     },
     "user_tz": -330
    },
    "id": "240cd269-82c9-480c-9cac-527a9fccc423",
    "outputId": "8f515b6e-866e-4cd4-842f-b0b1928f8aef"
   },
   "outputs": [],
   "source": [
    "venn2([set(pbk_down_reg_gene_df['gene']), set(lmem_down_reg_gene_df['gene'])], set_labels=('Pseudobulk_down', 'LMEM_down'))"
   ]
  },
  {
   "cell_type": "code",
   "execution_count": null,
   "id": "-HpqD0Q_cGjq",
   "metadata": {
    "id": "-HpqD0Q_cGjq"
   },
   "outputs": [],
   "source": []
  }
 ],
 "metadata": {
  "colab": {
   "provenance": [
    {
     "file_id": "https://github.com/infocusp/scaLR/blob/sj/fullntest_samples_analysis/tutorials/analysis/differential_gene_expression/dge.ipynb",
     "timestamp": 1729147866355
    }
   ]
  },
  "kernelspec": {
   "display_name": "scaLRM_310",
   "language": "python",
   "name": "scalrm_310"
  },
  "language_info": {
   "codemirror_mode": {
    "name": "ipython",
    "version": 3
   },
   "file_extension": ".py",
   "mimetype": "text/x-python",
   "name": "python",
   "nbconvert_exporter": "python",
   "pygments_lexer": "ipython3",
   "version": "3.10.15"
  }
 },
 "nbformat": 4,
 "nbformat_minor": 5
}
