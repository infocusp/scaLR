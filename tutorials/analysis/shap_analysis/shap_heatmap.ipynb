{
 "cells": [
  {
   "cell_type": "markdown",
   "id": "df8fe9c3-2985-415d-a405-495912f10930",
   "metadata": {
    "id": "df8fe9c3-2985-415d-a405-495912f10930"
   },
   "source": [
    "# Gene analysis using SHAP\n",
    "- This notebook explains what is `SHAP` and how to use **scaLR**'s `SHAP` to get the genes/features weight to each class of the model.\n",
    "- `scaLR` supports early stops in `SHAP` analysis."
   ]
  },
  {
   "cell_type": "markdown",
   "id": "41ef2cca-4ae3-4ffa-a85a-8aafcf35bd39",
   "metadata": {
    "id": "41ef2cca-4ae3-4ffa-a85a-8aafcf35bd39"
   },
   "source": [
    "# What is SHAP?\n",
    "\n",
    "- `SHAP` (SHapley Additive exPlanations) is a game theoretic approach to explain the output of any machine learning model. It connects optimal credit allocation with local explanations using the `classic Shapley values` from game theory and their related extensions.\n",
    "\n",
    "- Know more: https://shap.readthedocs.io/en/latest/"
   ]
  },
  {
   "cell_type": "markdown",
   "id": "d1e53c51-6cd8-439e-ac6d-29f2fa168545",
   "metadata": {
    "id": "d1e53c51-6cd8-439e-ac6d-29f2fa168545"
   },
   "source": [
    "# What is early stop in SHAP?\n",
    "\n",
    "- `scaLR` proccessing `SHAP` in the batches. Processing `SHAP` in the batch or with all data gives similar results.\n",
    "- `scaLR` list out the `top N genes` for each batch and match with previous batch if it's found number`(threshold)` of genes similar then it will count the patience. Once patience count is match with the config patience number, it will stop the process."
   ]
  },
  {
   "cell_type": "markdown",
   "id": "520a81c5-9bbe-411e-b666-4e235665ba12",
   "metadata": {
    "id": "520a81c5-9bbe-411e-b666-4e235665ba12"
   },
   "source": [
    "# How to use SHAP from scaLR"
   ]
  },
  {
   "cell_type": "markdown",
   "id": "nSIJFCbvHnlC",
   "metadata": {
    "id": "nSIJFCbvHnlC"
   },
   "source": [
    "## <span style=\"color: steelblue;\">Cloning scaLR</span>"
   ]
  },
  {
   "cell_type": "code",
   "execution_count": null,
   "id": "y_dj2exHTpT9",
   "metadata": {
    "id": "y_dj2exHTpT9"
   },
   "outputs": [],
   "source": [
    "!git clone https://github.com/infocusp/scaLR.git"
   ]
  },
  {
   "cell_type": "markdown",
   "id": "1c944acd-2550-4594-b2ab-71b83081ab39",
   "metadata": {
    "id": "1c944acd-2550-4594-b2ab-71b83081ab39"
   },
   "source": [
    "## <span style=\"color: steelblue;\">Library Installation and Imports</span>"
   ]
  },
  {
   "cell_type": "code",
   "execution_count": null,
   "id": "yWX7EIytUHJe",
   "metadata": {
    "collapsed": true,
    "id": "yWX7EIytUHJe"
   },
   "outputs": [],
   "source": [
    "import sys\n",
    "imported_packages = {pkg.split('.')[0] for pkg in sys.modules.keys()}\n",
    "ignore_libraries = \"|\".join(imported_packages)\n",
    "\n",
    "!pip install $(grep -ivE \"$ignore_libraries\" scaLR/requirements.txt)\n",
    "!pip install memory-profiler==0.61.0"
   ]
  },
  {
   "cell_type": "code",
   "execution_count": null,
   "id": "c37d3950-dbbd-4d3d-8f8f-6f23b3bb60a5",
   "metadata": {
    "id": "c37d3950-dbbd-4d3d-8f8f-6f23b3bb60a5"
   },
   "outputs": [],
   "source": [
    "from os import path\n",
    "sys.path.append('./scaLR/')\n",
    "\n",
    "from anndata import AnnData\n",
    "import pandas as pd\n",
    "\n",
    "from scalr.feature.scoring import ShapScorer\n",
    "from scalr.nn.model import build_model\n",
    "from scalr.utils import read_data\n",
    "from scalr.analysis import Heatmap\n",
    "from scalr.feature.selector import build_selector\n",
    "%reload_ext autoreload\n",
    "%autoreload 2\n",
    "\n"
   ]
  },
  {
   "cell_type": "markdown",
   "id": "X47kR0wFC9DO",
   "metadata": {
    "id": "X47kR0wFC9DO"
   },
   "source": [
    "- To perform `SHAP` analysis, we need the `best-trained model` along with the `training data`. This trained model is then used to infer `SHAP` scores on the `test data`.\n",
    "\n",
    "- If the **`scaLR` pipeline has already been run** with the dataset [(Liu et al., 2021)](https://doi.org/10.1016/j.cell.2021.02.018) mentioned in the [tutorial](https://colab.research.google.com/github/infocusp/scaLR/blob/main/tutorials/pipeline/scalr_pipeline.ipynb), you may skip the **`Getting best trained model and datasets`** section. The `best model` and the `train/test` data can be found inside `scalr_experiments/exp_name_0`, specifically for cell type classification tasks.\n",
    "\n",
    "- Otherwise, we will be using the **`scaLR`** pipeline to accomplish this. For more detailed information on data exploration and pipeline training, please refer to the [scaLR pipeline](https://colab.research.google.com/github/infocusp/scaLR/blob/main/tutorials/pipeline/scalr_pipeline.ipynb).\n"
   ]
  },
  {
   "cell_type": "markdown",
   "id": "UxbKgxXfa0lx",
   "metadata": {
    "id": "UxbKgxXfa0lx"
   },
   "source": [
    "## <span style=\"color: steelblue;\">Getting best trained model and datasets</span>\n",
    "*`Can be skipped if the scaLR pipeline has already been run.`*\n",
    "\n",
    "The dataset we are about to download contains two clinical conditions (COVID-19 and normal) and links variations in immune response to disease severity and outcomes over time[(Liu et al. (2021))](https://doi.org/10.1016/j.cell.2021.02.018)"
   ]
  },
  {
   "cell_type": "code",
   "execution_count": null,
   "id": "RrvS4Nimay5u",
   "metadata": {
    "id": "RrvS4Nimay5u"
   },
   "outputs": [],
   "source": [
    "# This shell will take approximately 00:00:53 (hh:mm:ss) to run.\n",
    "!wget -P data https://datasets.cellxgene.cziscience.com/21ef2ea2-cbed-4b6c-a572-0ddd1d9020bc.h5ad"
   ]
  },
  {
   "cell_type": "code",
   "execution_count": null,
   "id": "UBLVqEiDj0no",
   "metadata": {
    "id": "UBLVqEiDj0no"
   },
   "outputs": [],
   "source": [
    "adata = read_data('./data/21ef2ea2-cbed-4b6c-a572-0ddd1d9020bc.h5ad')"
   ]
  },
  {
   "cell_type": "code",
   "execution_count": null,
   "id": "9HyXWFuvhu9l",
   "metadata": {
    "id": "9HyXWFuvhu9l"
   },
   "outputs": [],
   "source": [
    "# Rename the 'var' indices using the 'feature_name' column, which contains gene symbols, and save the file.\n",
    "# This shell will take approximately 00:00:47 (hh:mm:ss) to run.\n",
    "adata.var.set_index('feature_name',inplace=True)\n",
    "adata.obs.index = adata.obs.index.astype(str)\n",
    "adata.var.index = adata.var.index.astype(str)\n",
    "AnnData(X=adata.X,obs=adata.obs,var=adata.var).write('data/modified_adata.h5ad',compression='gzip')"
   ]
  },
  {
   "cell_type": "code",
   "execution_count": null,
   "id": "dl5a4ksewvJ8",
   "metadata": {
    "collapsed": true,
    "id": "dl5a4ksewvJ8"
   },
   "outputs": [],
   "source": [
    "# Command to run end to end pipeline.\n",
    "# This shell will take approximately 00:21:15 (hh:mm:ss) on GPU to run.()\n",
    "!python scaLR/pipeline.py --config scaLR/tutorials/pipeline/config_celltype.yaml -l -m"
   ]
  },
  {
   "cell_type": "markdown",
   "id": "855beb4c-c37e-4977-84c5-8dedb2b90e96",
   "metadata": {
    "id": "855beb4c-c37e-4977-84c5-8dedb2b90e96"
   },
   "source": [
    "## Configuration for SHAP analysis"
   ]
  },
  {
   "cell_type": "code",
   "execution_count": null,
   "id": "d75449e8-46be-4e8a-a039-6b579c94aa97",
   "metadata": {
    "id": "d75449e8-46be-4e8a-a039-6b579c94aa97"
   },
   "outputs": [],
   "source": [
    "config = {\n",
    "    \"dataloader\": {\n",
    "        \"name\": \"SimpleDataLoader\",\n",
    "        \"params\": {\n",
    "            \"batch_size\": 10, # Number of samples processing at a time.\n",
    "            \"padding\": 5000\n",
    "        }\n",
    "    },\n",
    "    \"top_n_genes\": 100, # Top N Genes used for early stop.\n",
    "    \"background_tensor\": 20, # Number of train data used as background. Please see SHAP official documentation to know more.\n",
    "    \"early_stop\": {\n",
    "        \"patience\": 5, # Process stop if continue top genes are similar(>= threshold) up-to number of batches(=patience).\n",
    "        \"threshold\": 95 # How many genes should be the same for each iteration?\n",
    "    },\n",
    "    \"device\": 'cuda', # Process with a run on cpu or cuda/gpu.\n",
    "    \"samples_abs_mean\": True, # First performed abs on the samples score then do mean.\n",
    "    \"logger\": \"FlowLogger\" # It will print the logs to the output.\n",
    "}"
   ]
  },
  {
   "cell_type": "markdown",
   "id": "353e1137-d325-4de2-9a9a-c5f74a792f3c",
   "metadata": {
    "id": "353e1137-d325-4de2-9a9a-c5f74a792f3c"
   },
   "source": [
    "## Read train-test data & best model\n",
    "The `train`, `test` data, and `best model` can be found in `./scalr_experiments/exp_name_0` if the pipeline has been run for `cell type classification` or according to the experiment name and path specified in the `config_celltype/config_clinical.yaml` file located at `./scaLR/tutorials/pipeline/`."
   ]
  },
  {
   "cell_type": "code",
   "execution_count": null,
   "id": "ebe30139-2c19-4464-b1ed-db95d03526c6",
   "metadata": {
    "id": "ebe30139-2c19-4464-b1ed-db95d03526c6"
   },
   "outputs": [],
   "source": [
    "train_data = read_data(\"./scalr_experiments/exp_name_0/feature_extraction/feature_subset_data/train\")\n",
    "test_data = read_data(\"./scalr_experiments/exp_name_0/feature_extraction/feature_subset_data/test\")"
   ]
  },
  {
   "cell_type": "code",
   "execution_count": null,
   "id": "d0da82ab-a278-4d0f-af29-30833b06f620",
   "metadata": {
    "id": "d0da82ab-a278-4d0f-af29-30833b06f620"
   },
   "outputs": [],
   "source": [
    "# Model path which generated using scaLR platform.\n",
    "model_checkpoint = \"./scalr_experiments/exp_name_0/model/best_model\"\n",
    "\n",
    "model_config = read_data(path.join(model_checkpoint, 'model_config.yaml'))\n",
    "model_weights = path.join(model_checkpoint, 'model.pt')\n",
    "mappings = read_data(path.join(model_checkpoint, 'mappings.json'))\n",
    "\n",
    "model, _ = build_model(model_config)\n",
    "model.to(config['device'])\n",
    "model.load_weights(model_weights)"
   ]
  },
  {
   "cell_type": "markdown",
   "id": "999dbc92-5d72-4717-899a-783bb9c5cf51",
   "metadata": {
    "id": "999dbc92-5d72-4717-899a-783bb9c5cf51"
   },
   "source": [
    "## Run SHAP\n"
   ]
  },
  {
   "cell_type": "code",
   "execution_count": null,
   "id": "576d12e7-4903-4145-801e-df667793179f",
   "metadata": {
    "id": "576d12e7-4903-4145-801e-df667793179f"
   },
   "outputs": [],
   "source": [
    "shap_scorer = ShapScorer(**config)"
   ]
  },
  {
   "cell_type": "code",
   "execution_count": null,
   "id": "b9dbb142-8e76-43c5-bceb-f5e79ee761b9",
   "metadata": {
    "id": "b9dbb142-8e76-43c5-bceb-f5e79ee761b9"
   },
   "outputs": [],
   "source": [
    "target = \"cell_type\" # Column name in anndata.obs representing all classes.\n",
    "shap_values = shap_scorer.get_top_n_genes_weights(model, train_data, test_data, target, mappings)"
   ]
  },
  {
   "cell_type": "code",
   "execution_count": null,
   "id": "08b2eef0-98f4-4b0c-97f2-0cce311c5411",
   "metadata": {
    "id": "08b2eef0-98f4-4b0c-97f2-0cce311c5411"
   },
   "outputs": [],
   "source": [
    "shap_values"
   ]
  },
  {
   "cell_type": "code",
   "execution_count": null,
   "id": "26889282-9260-41f8-9000-afe423bbdfc5",
   "metadata": {
    "id": "26889282-9260-41f8-9000-afe423bbdfc5"
   },
   "outputs": [],
   "source": [
    "columns = train_data.var_names # Fetching the features/columns names\n",
    "class_labels = mappings[target]['id2label'] # Fetching class labels from the mappings.\n",
    "all_scores = shap_values[:, :len(columns)] # Fetching all rows and columns data only.\n",
    "\n",
    "score_matrix = pd.DataFrame(all_scores, columns=columns, index=class_labels)"
   ]
  },
  {
   "cell_type": "code",
   "execution_count": null,
   "id": "93dc64b2-3707-4654-8ae4-c9e5656fa934",
   "metadata": {
    "id": "93dc64b2-3707-4654-8ae4-c9e5656fa934"
   },
   "outputs": [],
   "source": [
    "score_matrix"
   ]
  },
  {
   "cell_type": "markdown",
   "id": "01121c11-f4b2-47b8-a4d3-3b5a8e6a42e3",
   "metadata": {
    "id": "01121c11-f4b2-47b8-a4d3-3b5a8e6a42e3"
   },
   "source": [
    "# Select top N features"
   ]
  },
  {
   "cell_type": "code",
   "execution_count": null,
   "id": "4b11516f-0151-443c-a5cb-505bab35098d",
   "metadata": {
    "id": "4b11516f-0151-443c-a5cb-505bab35098d"
   },
   "outputs": [],
   "source": [
    "selector_config = {\n",
    "    \"name\": \"ClasswisePromoters\", # Class wise top genes.\n",
    "    # \"name\": \"AbsMean\", # Top genes across all class.\n",
    "    \"params\":{\n",
    "        \"k\": 5000\n",
    "    }\n",
    "}\n",
    "selector, _ = build_selector(selector_config)"
   ]
  },
  {
   "cell_type": "code",
   "execution_count": null,
   "id": "13c9a52b-616c-4885-a7b4-542c93ded1d3",
   "metadata": {
    "id": "13c9a52b-616c-4885-a7b4-542c93ded1d3",
    "scrolled": true
   },
   "outputs": [],
   "source": [
    "# Getting a dictionary of top_N(5000 for current experiment) features per each class.\n",
    "top_features = selector.get_feature_list(score_matrix)"
   ]
  },
  {
   "cell_type": "markdown",
   "id": "b9e42be6-75c1-49ef-ad20-d74e1d4827bd",
   "metadata": {
    "id": "b9e42be6-75c1-49ef-ad20-d74e1d4827bd"
   },
   "source": [
    "# Generate heatmaps\n",
    "Heatmap of feature weights with respect to each class.\n",
    "\n",
    "- If `top_features` is listed, will plot a single heatmap with top genes from all classes.\n",
    "- If `top_features` is dict(it contains class wise top features), each heatmap show top features of that class w.r.t the other class."
   ]
  },
  {
   "cell_type": "code",
   "execution_count": null,
   "id": "13eb9bba-ab4d-4684-9cf8-5d21bd32c4cd",
   "metadata": {
    "id": "13eb9bba-ab4d-4684-9cf8-5d21bd32c4cd"
   },
   "outputs": [],
   "source": [
    "# save_plot = True, will store plots without showing plots.\n",
    "heatmap = Heatmap(top_n_genes=20, save_plot=False)"
   ]
  },
  {
   "cell_type": "code",
   "execution_count": null,
   "id": "ab2c3d34-2496-4a1c-9243-23ba5da202a2",
   "metadata": {
    "id": "ab2c3d34-2496-4a1c-9243-23ba5da202a2"
   },
   "outputs": [],
   "source": [
    "# Generating heatmaps for all classes with the top 20 genes.\n",
    "heatmap.generate_analysis(\n",
    "    score_matrix=score_matrix,\n",
    "    top_features=top_features,\n",
    "    dirpath=\".\",\n",
    ")"
   ]
  },
  {
   "cell_type": "code",
   "execution_count": null,
   "id": "CuP6MKpvdl9h",
   "metadata": {
    "id": "CuP6MKpvdl9h"
   },
   "outputs": [],
   "source": []
  }
 ],
 "metadata": {
  "accelerator": "GPU",
  "colab": {
   "gpuType": "T4",
   "provenance": []
  },
  "kernelspec": {
   "display_name": "Python 3",
   "name": "python3"
  },
  "language_info": {
   "codemirror_mode": {
    "name": "ipython",
    "version": 3
   },
   "file_extension": ".py",
   "mimetype": "text/x-python",
   "name": "python",
   "nbconvert_exporter": "python",
   "pygments_lexer": "ipython3",
   "version": "3.10.12"
  }
 },
 "nbformat": 4,
 "nbformat_minor": 5
}
