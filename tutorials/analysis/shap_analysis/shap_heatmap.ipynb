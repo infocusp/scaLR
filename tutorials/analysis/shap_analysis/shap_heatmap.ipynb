{
 "cells": [
  {
   "cell_type": "markdown",
   "id": "df8fe9c3-2985-415d-a405-495912f10930",
   "metadata": {},
   "source": [
    "# Gene analysis using SHAP\n",
    "- This notebook explains what is **SHAP** and how to use scaLR's SHAP to get the genes/features weight to each class of the model.\n",
    "- scaLR supports early stops in SHAP analysis."
   ]
  },
  {
   "cell_type": "markdown",
   "id": "41ef2cca-4ae3-4ffa-a85a-8aafcf35bd39",
   "metadata": {},
   "source": [
    "# What is SHAP?\n",
    "\n",
    "- SHAP (SHapley Additive exPlanations) is a game theoretic approach to explain the output of any machine learning model. It connects optimal credit allocation with local explanations using the classic Shapley values from game theory and their related extensions.\n",
    "\n",
    "- Know more: https://shap.readthedocs.io/en/latest/"
   ]
  },
  {
   "cell_type": "markdown",
   "id": "d1e53c51-6cd8-439e-ac6d-29f2fa168545",
   "metadata": {},
   "source": [
    "# What is early stop in SHAP?\n",
    "\n",
    "- scaLR proccessing SHAP in the batches. Processing SHAP in the batch or with all data gives similar results.\n",
    "- scaLR list out the top N genes for each batch and match with previous batch if it's found number(threshold) of genes similar then it will count the patience. Once patience count is match with the config patience number, it will stop the process."
   ]
  },
  {
   "cell_type": "markdown",
   "id": "520a81c5-9bbe-411e-b666-4e235665ba12",
   "metadata": {},
   "source": [
    "# How to use SHAP from scaLR"
   ]
  },
  {
   "cell_type": "markdown",
   "id": "1c944acd-2550-4594-b2ab-71b83081ab39",
   "metadata": {},
   "source": [
    "## Imports"
   ]
  },
  {
   "cell_type": "code",
   "execution_count": null,
   "id": "ae2d41b6-39d1-4136-96bb-6496a8b61dc1",
   "metadata": {},
   "outputs": [],
   "source": [
    "import pandas as pd\n",
    "from os import path\n",
    "import sys\n",
    "sys.path.append('/path/to/scaLR/')\n",
    "\n",
    "%reload_ext autoreload\n",
    "%autoreload 2"
   ]
  },
  {
   "cell_type": "code",
   "execution_count": null,
   "id": "c37d3950-dbbd-4d3d-8f8f-6f23b3bb60a5",
   "metadata": {},
   "outputs": [],
   "source": [
    "from scalr.feature.scoring import ShapScorer\n",
    "from scalr.nn.model import build_model\n",
    "from scalr.utils import read_data\n",
    "from scalr.analysis import Heatmap\n",
    "from scalr.feature.selector import build_selector"
   ]
  },
  {
   "cell_type": "markdown",
   "id": "855beb4c-c37e-4977-84c5-8dedb2b90e96",
   "metadata": {},
   "source": [
    "## Configuration"
   ]
  },
  {
   "cell_type": "code",
   "execution_count": null,
   "id": "d75449e8-46be-4e8a-a039-6b579c94aa97",
   "metadata": {},
   "outputs": [],
   "source": [
    "config = {\n",
    "    \"dataloader\": {\n",
    "        \"name\": \"SimpleDataLoader\",\n",
    "        \"params\": {\n",
    "            \"batch_size\": 10, # Number of samples processing at a time.\n",
    "            \"padding\": 5000\n",
    "        }\n",
    "    },\n",
    "    \"top_n_genes\": 100, # Top N Genes used for early stop.\n",
    "    \"background_tensor\": 20, # Number of train data used as background. Please see SHAP official documentation to know more.\n",
    "    \"early_stop\": {\n",
    "        \"patience\": 5, # Process stop if continue top genes are similar(>= threshold) up-to number of batches(=patience).\n",
    "        \"threshold\": 95 # How many genes should be the same for each iteration?\n",
    "    },\n",
    "    \"device\": 'cuda', # Process with a run on cpu or cuda/gpu.\n",
    "    \"samples_abs_mean\": True, # First performed abs on the samples score then do mean.\n",
    "    \"logger\": \"FlowLogger\" # It will print the logs to the output.\n",
    "}"
   ]
  },
  {
   "cell_type": "markdown",
   "id": "353e1137-d325-4de2-9a9a-c5f74a792f3c",
   "metadata": {},
   "source": [
    "## Read data & Model"
   ]
  },
  {
   "cell_type": "code",
   "execution_count": null,
   "id": "ebe30139-2c19-4464-b1ed-db95d03526c6",
   "metadata": {},
   "outputs": [],
   "source": [
    "# The user can provide the DIR path or direct file path.\n",
    "train_data = read_data(\"data/train.h5ad\")\n",
    "test_data = read_data(\"data/test.h5ad\")"
   ]
  },
  {
   "cell_type": "code",
   "execution_count": null,
   "id": "d0da82ab-a278-4d0f-af29-30833b06f620",
   "metadata": {},
   "outputs": [],
   "source": [
    "# Model path which generated using scaLR platform.\n",
    "model_checkpoint = \"best_model\"\n",
    "\n",
    "model_config = read_data(path.join(model_checkpoint, 'model_config.yaml'))\n",
    "model_weights = path.join(model_checkpoint, 'model.pt')\n",
    "mappings = read_data(path.join(model_checkpoint, 'mappings.json'))\n",
    "\n",
    "model, _ = build_model(model_config)\n",
    "model.to(config['device'])\n",
    "model.load_weights(model_weights)"
   ]
  },
  {
   "cell_type": "markdown",
   "id": "999dbc92-5d72-4717-899a-783bb9c5cf51",
   "metadata": {},
   "source": [
    "## Run SHAP"
   ]
  },
  {
   "cell_type": "code",
   "execution_count": null,
   "id": "576d12e7-4903-4145-801e-df667793179f",
   "metadata": {},
   "outputs": [],
   "source": [
    "shap_scorer = ShapScorer(**config)"
   ]
  },
  {
   "cell_type": "code",
   "execution_count": null,
   "id": "b9dbb142-8e76-43c5-bceb-f5e79ee761b9",
   "metadata": {},
   "outputs": [],
   "source": [
    "target = \"Cell_Type\"\n",
    "shap_values = shap_scorer.get_top_n_genes_weights(model, train_data, test_data, target, mappings)"
   ]
  },
  {
   "cell_type": "code",
   "execution_count": null,
   "id": "08b2eef0-98f4-4b0c-97f2-0cce311c5411",
   "metadata": {},
   "outputs": [],
   "source": [
    "shap_values"
   ]
  },
  {
   "cell_type": "code",
   "execution_count": null,
   "id": "26889282-9260-41f8-9000-afe423bbdfc5",
   "metadata": {},
   "outputs": [],
   "source": [
    "columns = train_data.var_names\n",
    "class_labels = mappings[target]['id2label']\n",
    "all_scores = shap_values[:, :len(columns)]\n",
    "\n",
    "score_matrix = pd.DataFrame(all_scores, columns=columns, index=class_labels)"
   ]
  },
  {
   "cell_type": "code",
   "execution_count": null,
   "id": "93dc64b2-3707-4654-8ae4-c9e5656fa934",
   "metadata": {},
   "outputs": [],
   "source": [
    "score_matrix"
   ]
  },
  {
   "cell_type": "markdown",
   "id": "01121c11-f4b2-47b8-a4d3-3b5a8e6a42e3",
   "metadata": {},
   "source": [
    "# Select top N features"
   ]
  },
  {
   "cell_type": "code",
   "execution_count": null,
   "id": "4b11516f-0151-443c-a5cb-505bab35098d",
   "metadata": {},
   "outputs": [],
   "source": [
    "selector_config = {\n",
    "    \"name\": \"ClasswisePromoters\", # Class wise top genes.\n",
    "    # \"name\": \"AbsMean\", # Top genes across all class.\n",
    "    \"params\":{\n",
    "        \"k\": 5000\n",
    "    }\n",
    "}\n",
    "selector, _ = build_selector(selector_config)"
   ]
  },
  {
   "cell_type": "code",
   "execution_count": null,
   "id": "13c9a52b-616c-4885-a7b4-542c93ded1d3",
   "metadata": {
    "scrolled": true
   },
   "outputs": [],
   "source": [
    "top_features = selector.get_feature_list(score_matrix)"
   ]
  },
  {
   "cell_type": "markdown",
   "id": "b9e42be6-75c1-49ef-ad20-d74e1d4827bd",
   "metadata": {},
   "source": [
    "# Generate heatmaps\n",
    "Heatmap of feature weights with respect to each class.\n",
    "\n",
    "- If `top_features` is listed, will plot a single heatmap with top genes from all classes.\n",
    "- If `top_features` is dict(it contains class wise top features), each heatmap show top features of that class w.r.t the other class."
   ]
  },
  {
   "cell_type": "code",
   "execution_count": null,
   "id": "13eb9bba-ab4d-4684-9cf8-5d21bd32c4cd",
   "metadata": {},
   "outputs": [],
   "source": [
    "# save_plot = True, will store plots without showing plots.\n",
    "heatmap = Heatmap(top_n_genes=100, save_plot=False)"
   ]
  },
  {
   "cell_type": "code",
   "execution_count": null,
   "id": "ab2c3d34-2496-4a1c-9243-23ba5da202a2",
   "metadata": {},
   "outputs": [],
   "source": [
    "heatmap.generate_analysis(\n",
    "    score_matrix,\n",
    "    top_features,\n",
    "    dirpath=\".\",\n",
    ")"
   ]
  }
 ],
 "metadata": {
  "kernelspec": {
   "display_name": "Python 3 (ipykernel)",
   "language": "python",
   "name": "python3"
  },
  "language_info": {
   "codemirror_mode": {
    "name": "ipython",
    "version": 3
   },
   "file_extension": ".py",
   "mimetype": "text/x-python",
   "name": "python",
   "nbconvert_exporter": "python",
   "pygments_lexer": "ipython3",
   "version": "3.10.12"
  }
 },
 "nbformat": 4,
 "nbformat_minor": 5
}
