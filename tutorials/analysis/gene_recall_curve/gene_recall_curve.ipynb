{
 "cells": [
  {
   "cell_type": "markdown",
   "metadata": {
    "id": "cPmO_fF-w2iw"
   },
   "source": [
    "# <span style=\"color: steelblue;\">Validation of scaLR Models Using the Gene Recall Curve</span>"
   ]
  },
  {
   "cell_type": "markdown",
   "metadata": {
    "id": "jXIpJvg4w2iy"
   },
   "source": [
    "## <span style=\"color: steelblue;\"> Keypoints </span>\n",
    "\n",
    "1. This notebook is designed as a tutorial for using the gene recall curve from the scaLR library.\n",
    "   - It covers two methods to generate the gene recall curve using the library, both of which are included in this tutorial.\n",
    "2. The tutorial also explains why the gene recall curve is a crucial measure for evaluating model efficacy."
   ]
  },
  {
   "cell_type": "markdown",
   "metadata": {
    "id": "Zgfnptz3w2iz"
   },
   "source": [
    "\n",
    "## <span style=\"color: steelblue;\">What is gene recall?</span>\n",
    "- Gene recall curve is a method to detect how capable our model is for ranking genes which are actually important.\n",
    "\n",
    "- As the term says, we want to check the recall of genes(literature - proven important) in the model generated ranked genes.\n",
    "\n",
    "\n",
    "## <span style=\"color: steelblue;\">What are the current metrics to understand model performance results?</span>\n",
    "- There are many, some of which are listed below.\n",
    "\n",
    "1. Classification tasks\n",
    "    - accuracy\n",
    "    - precision\n",
    "    - recall\n",
    "    - f-score\n",
    "    - etc\n",
    "2. Regression tasks\n",
    "    - MAE\n",
    "    - MSE\n",
    "    - etc.\n",
    "\n",
    "- Once the above metrics are optimized, we can proceed with downstream analysis of the top genes.\n",
    "\n",
    "- Key genes can be identified using SHAP (SHapley Additive exPlanations) analysis for neural networks.\n",
    "\n",
    "- Differential gene expression analysis can be performed to further validate the important genes.\n",
    "\n",
    "- The gene recall curve is a crucial metric for evaluating a model's performance, as it assesses literature gene recall and indicates whether the model is effectively capturing important genes in the top ranks.\n",
    "\n",
    "\n",
    "## <span style=\"color: steelblue;\">Why is gene recall an important metric and how to interpret it?</span>\n",
    "\n",
    "- Let's say we have two models, each producing a list of 500 ranked genes related to a specific disease or trait. We want to compare these models based on the most important genes they identify for that disease or trait, which will then be used for further analysis.\n",
    "\n",
    "- By comparing the top K genes (e.g., top 20 or 30) identified by each model, we can determine which model is more effective in associating genes with the disease or trait.\n",
    "\n",
    "- To evaluate which model ranks genes more accurately, a gene recall curve can be particularly useful.\n",
    "\n",
    "- We can examine the presence of literature-supported genes within the top ranks of each model's list, assessing which model includes more of these known genes.\n",
    "\n",
    "- Example:\n",
    "  - Let's say we have 100 genes from the literature relevant to our study.\n",
    "  - Suppose model 1 identifies 20 of these literature genes within its top 100 ranked genes, with the remaining 80 appearing between ranks 100-500.\n",
    "\n",
    "  - Meanwhile, model 2 identifies 40 literature genes within its top 100 ranked genes, with the other 60 appearing between ranks 100-500. At first glance, it might seem that model 2 is better than model 1. However, it’s crucial to consider where these genes fall within the top 100.\n",
    "\n",
    "  - If model 1 captures all 20 genes within the top 50 ranks, while model 2 places all 40 genes closer to rank 100 (i.e., between ranks 50-100), this suggests that model 1 is actually more effective than model 2. This is because, ultimately, only the top 20-30 genes are of primary interest.\n",
    "  \n",
    "  - This insight is derived from the gene recall curve.\n",
    "\n",
    "\n",
    "\n",
    "## <span style=\"color: steelblue;\">What are the required parameters for the gene recall curve?</span>\n",
    "\n",
    "- First and foremost, we need literature genes to assess their recall for particualr disease, trait  and cell type.\n",
    "  - For example, if user wants gene recall for cell specific markers like B cells, T cells, or dendritic cells (DCs), user need to compile a literature genes/markers list for each category.\n",
    "\n",
    "- Secondly, we need a ranked gene list from the model or a score matrix that indicates the score of each gene for every cell type.\n",
    "\n",
    "**Note:** Please refer to the [scaLR pipeline tutorial](https://colab.research.google.com/github/infocusp/scaLR/blob/main/tutorials/pipeline/scalr_pipeline.ipynb) for more information on the `score matrix`. If the scaLR pipeline has already been run, the matrix can be found at `exp_dir/analysis/gene_analysis/score_matrix.csv`. This matrix is used by default in the pipeline run to generate the gene recall curve provided a class-specific `reference genes CSV`."
   ]
  },
  {
   "cell_type": "markdown",
   "metadata": {
    "id": "sv0aAvtnw2i0"
   },
   "source": [
    "## <span style=\"color: steelblue;\"> How to generate gene recall using scaLR library</span>\n"
   ]
  },
  {
   "cell_type": "markdown",
   "metadata": {
    "id": "nMWELGK6qUtH"
   },
   "source": [
    "### <span style=\"color: steelblue;\">Cloning scaLR</span>"
   ]
  },
  {
   "cell_type": "code",
   "execution_count": null,
   "metadata": {
    "colab": {
     "base_uri": "https://localhost:8080/"
    },
    "executionInfo": {
     "elapsed": 13450,
     "status": "ok",
     "timestamp": 1729860729201,
     "user": {
      "displayName": "Amit Samal",
      "userId": "04401365306056000967"
     },
     "user_tz": -330
    },
    "id": "C5GS_sSTqWPi",
    "outputId": "305d44a6-18b5-4c89-bbab-dafcb36e92ee"
   },
   "outputs": [],
   "source": [
    "!git clone https://github.com/infocusp/scaLR.git"
   ]
  },
  {
   "cell_type": "markdown",
   "metadata": {
    "id": "4MHIpkppw2i0"
   },
   "source": [
    "## <span style=\"color: steelblue;\">Library Installation and Imports</span>"
   ]
  },
  {
   "cell_type": "code",
   "execution_count": null,
   "metadata": {
    "executionInfo": {
     "elapsed": 469,
     "status": "ok",
     "timestamp": 1729860737048,
     "user": {
      "displayName": "Amit Samal",
      "userId": "04401365306056000967"
     },
     "user_tz": -330
    },
    "id": "P3dsnKyQw2i0"
   },
   "outputs": [],
   "source": [
    "import sys\n",
    "sys.path.append('scaLR')"
   ]
  },
  {
   "cell_type": "code",
   "execution_count": null,
   "metadata": {
    "colab": {
     "base_uri": "https://localhost:8080/"
    },
    "executionInfo": {
     "elapsed": 5059,
     "status": "ok",
     "timestamp": 1729860805378,
     "user": {
      "displayName": "Amit Samal",
      "userId": "04401365306056000967"
     },
     "user_tz": -330
    },
    "id": "Ievx4-GxvN4F",
    "outputId": "beadc5de-0408-41b0-ceff-d45ae02e0de7"
   },
   "outputs": [],
   "source": [
    "!pip install anndata scanpy pydeseq2 shap"
   ]
  },
  {
   "cell_type": "code",
   "execution_count": null,
   "metadata": {
    "executionInfo": {
     "elapsed": 8008,
     "status": "ok",
     "timestamp": 1729860931384,
     "user": {
      "displayName": "Amit Samal",
      "userId": "04401365306056000967"
     },
     "user_tz": -330
    },
    "id": "1B-Rn3bqw2i1"
   },
   "outputs": [],
   "source": [
    "import pandas as pd\n",
    "from scalr.analysis import gene_recall_curve\n",
    "\n",
    "%reload_ext autoreload\n",
    "%autoreload 2"
   ]
  },
  {
   "cell_type": "markdown",
   "metadata": {
    "id": "J80LXS8e5ZVW"
   },
   "source": [
    "## <span style=\"color: steelblue;\">Getting required files</span>"
   ]
  },
  {
   "cell_type": "markdown",
   "metadata": {
    "id": "gp1VbWsGw2i1"
   },
   "source": [
    "## <span style=\"color: steelblue;\">Example of reference genes list </span>\n",
    "\n",
    " 1. The reference genes dataframe should look like below - categories in columns and genes in rows.\n",
    "    The category(column) names should match exactly with the ranked genes dataframe columns.\n",
    "\n",
    " 2. Also, you may need to add NaNs in columns as seen below if some cell types are having different number of\n",
    "    reference genes, to have same #rows in dataframe."
   ]
  },
  {
   "cell_type": "code",
   "execution_count": null,
   "metadata": {
    "colab": {
     "base_uri": "https://localhost:8080/",
     "height": 423
    },
    "executionInfo": {
     "elapsed": 458,
     "status": "ok",
     "timestamp": 1729860987170,
     "user": {
      "displayName": "Amit Samal",
      "userId": "04401365306056000967"
     },
     "user_tz": -330
    },
    "id": "IerhqZxSw2i1",
    "outputId": "f1e41004-ee79-4f1a-e8f4-3a68cd9fb17c"
   },
   "outputs": [],
   "source": [
    "reference_genes_path = './scaLR/tutorials/analysis/gene_recall_curve/reference_genes.csv'\n",
    "\n",
    "reference_genes_df = pd.read_csv(reference_genes_path, index_col=0)\n",
    "reference_genes_df"
   ]
  },
  {
   "cell_type": "markdown",
   "metadata": {
    "id": "hnsPuT-Yw2i2"
   },
   "source": [
    "## <span style=\"color: steelblue;\">Gene Recall Generation</span>"
   ]
  },
  {
   "cell_type": "markdown",
   "metadata": {
    "id": "G7p0Yuqdw2i2"
   },
   "source": [
    "### <span style=\"color: steelblue;\">1. Using ranked genes csv</span>\n",
    "- Ranked genes dataframe should look like below, use `ranked_genes_path` in `GeneRecallCurve` to generate gene recall."
   ]
  },
  {
   "cell_type": "code",
   "execution_count": null,
   "metadata": {
    "colab": {
     "base_uri": "https://localhost:8080/",
     "height": 206
    },
    "executionInfo": {
     "elapsed": 548,
     "status": "ok",
     "timestamp": 1729861005910,
     "user": {
      "displayName": "Amit Samal",
      "userId": "04401365306056000967"
     },
     "user_tz": -330
    },
    "id": "EOy4N_RXw2i2",
    "outputId": "c839cb24-b7ad-4fe8-90b4-d99565fd2f37"
   },
   "outputs": [],
   "source": [
    "ranked_genes_df1_path = './scaLR/tutorials/analysis/gene_recall_curve/ranked_genes.csv'\n",
    "\n",
    "ranked_genes_df = pd.read_csv(ranked_genes_df1_path, index_col=0)\n",
    "ranked_genes_df.head()"
   ]
  },
  {
   "cell_type": "code",
   "execution_count": null,
   "metadata": {
    "colab": {
     "base_uri": "https://localhost:8080/",
     "height": 609
    },
    "executionInfo": {
     "elapsed": 2669,
     "status": "ok",
     "timestamp": 1729861138177,
     "user": {
      "displayName": "Amit Samal",
      "userId": "04401365306056000967"
     },
     "user_tz": -330
    },
    "id": "7xgcKWGPw2i3",
    "outputId": "aa4c65c3-a737-4d5c-c7a0-1c589f488952"
   },
   "outputs": [],
   "source": [
    "# Create object for gene recall curve.\n",
    "grc = gene_recall_curve.GeneRecallCurve(reference_genes_path=reference_genes_path,    # Reference genes csv path. Required.\n",
    "                                        ranked_genes_path_dict=\n",
    "                                            {                                         # Dictionary of ranked genes csv path per model. Required in this case.\n",
    "                                            'model_0': ranked_genes_df1_path,\n",
    "                                            # 'model_1': ranked_genes_df2_path,\n",
    "                                            },\n",
    "                                        top_K=50,               # Top K ranks in which gene recall is to be checked. Optional - default: 100\n",
    "                                        plots_per_row = 3,      # Number of plots per row. Optional\n",
    "                                        save_plots=False        # Whether to save plot or not. Optional - default: True\n",
    "                                        )\n",
    "\n",
    "## save_plots is `False` here. But if you want to store plots, then consider making `save_plots` to True &\n",
    "## add `dirpath` in `generate_analysis()` below.\n",
    "\n",
    "# Generate gene recall curve\n",
    "grc.generate_analysis()"
   ]
  },
  {
   "cell_type": "markdown",
   "metadata": {
    "id": "loqwiEP2w2i3"
   },
   "source": [
    "#### <span style=\"color: steelblue;\">Compare multiple models gene recall in one plot</span>\n",
    "\n",
    "- We can send multiple model ranked genes csv path to compare gene recall within same plot.\n",
    "- We just need to pass list of ranked genes csv path in `ranked_genes_path` in `GeneRecallCurve()` class.\n",
    "\n",
    "![Alt text](https://github.com/infocusp/scaLR/blob/main/tutorials/analysis/gene_recall_curve/multi_model_gene_recall_comparison.png?raw=1)"
   ]
  },
  {
   "cell_type": "markdown",
   "metadata": {
    "id": "ptHsOr92w2i3"
   },
   "source": [
    "### <span style=\"color: steelblue;\">2. Gene recall using score_matrix</span>\n",
    "- If you want to generate gene recall using the score_matrix, don't pass anything for `ranked_genes_path` in\n",
    "  GeneRecallCurve(), you can pass `score_matrix` in `generate_analysis(score_matrix=score_matrix)` after\n",
    "  creating GeneRecallCurve() object.\n",
    "\n",
    "- If you have mentioned `ranked_genes_path` & also given score_matrix to `generate_analysis()`, then\n",
    "  `ranked_genes_path` will be given more priority and that will be used to generate gene recall.\n",
    "\n",
    "- What all you require to generate gene recall using this method?\n",
    "  Answer:\n",
    "    1. reference genes dataframe.\n",
    "    2. `score_matrix`\n",
    "    3. `feature_selector` method - this you can find inside `scalr/feature/selector` - example below."
   ]
  },
  {
   "cell_type": "code",
   "execution_count": null,
   "metadata": {
    "colab": {
     "base_uri": "https://localhost:8080/",
     "height": 408
    },
    "executionInfo": {
     "elapsed": 929,
     "status": "ok",
     "timestamp": 1729861167159,
     "user": {
      "displayName": "Amit Samal",
      "userId": "04401365306056000967"
     },
     "user_tz": -330
    },
    "id": "e_guRl56w2i3",
    "outputId": "e3a719a3-2ce0-4b48-e54d-db380c36b69e"
   },
   "outputs": [],
   "source": [
    "score_matrix = pd.read_csv('./scaLR/tutorials/analysis/gene_recall_curve/score_matrix.csv', index_col=0)\n",
    "score_matrix\n",
    "\n",
    "# score_matrix should look like below. score_matrix have a score for each gene per category. Categories are in rows.\n",
    "# Category names should match with reference genes dataframe categories. E.g. D, DC, etc..."
   ]
  },
  {
   "cell_type": "code",
   "execution_count": null,
   "metadata": {
    "colab": {
     "base_uri": "https://localhost:8080/",
     "height": 609
    },
    "executionInfo": {
     "elapsed": 2508,
     "status": "ok",
     "timestamp": 1729861175292,
     "user": {
      "displayName": "Amit Samal",
      "userId": "04401365306056000967"
     },
     "user_tz": -330
    },
    "id": "AVsaVUZFw2i4",
    "outputId": "5cd74e79-0a92-4a59-d19b-55616f65598d"
   },
   "outputs": [],
   "source": [
    "# Create object for gene recall curve\n",
    "grc = gene_recall_curve.GeneRecallCurve(reference_genes_path,   # Reference genes csv path. Required.\n",
    "                                        top_K=100,              # Top K ranks in which gene recall is to be checked. Optional - default: 100\n",
    "                                        plots_per_row=3,        # Number of plots per row. Optional\n",
    "                                        save_plots=False,       # Whether to save plot or not. Optional - default: True\n",
    "                                        features_selector=\n",
    "                                            {\n",
    "                                                'name': 'ClasswisePromoters',  # Mention aggregation strategy here.\n",
    "                                                'params': {}                   # Mention params like `k` here.\n",
    "                                            }\n",
    "                                        )\n",
    "\n",
    "# save_plots is `False` here. But if you want to store plots, then consider making `save_plots` to True &\n",
    "# add `dirpath` in `generate_analysis()` below.\n",
    "\n",
    "# Generate gene recall curve\n",
    "grc.generate_analysis(score_matrix=score_matrix)"
   ]
  },
  {
   "cell_type": "markdown",
   "metadata": {
    "id": "82L0hNDgw2i4"
   },
   "source": [
    "## <span style=\"color: steelblue;\">Interpretation of gene recall curve using comparison example</span>\n",
    "\n",
    "\n",
    "![Alt text](https://github.com/infocusp/scaLR/blob/main/tutorials/analysis/gene_recall_curve/multi_model_gene_recall_comparison.png?raw=1)\n",
    "\n",
    "- As stated in section `1 of Gene Recall - Using ranked genes csv`, we can plot multiple models gene recall curves in single plot by passing list of ranked genes csv of each model.\n",
    "- Lets understand `Mono_Cell` behavior from the above gene recall curve.\n",
    "    - We can see the spike in the curve for `model_1` in top 100 as compared to `model_0`. This indicates that more of literature(important) genes for cell Mono are found using `model_1` than `model_0`.\n",
    "    Hence, we can consider model_1 for further analysis of genes for Mono Cell.\n",
    "    \n",
    "    \n",
    "    \n",
    "    Disclaimer: This is an example figure for explaination purposes."
   ]
  },
  {
   "cell_type": "code",
   "execution_count": null,
   "metadata": {},
   "outputs": [],
   "source": []
  }
 ],
 "metadata": {
  "colab": {
   "provenance": [
    {
     "file_id": "https://github.com/infocusp/scaLR/blob/main/tutorials/analysis/gene_recall_curve/gene_recall_curve.ipynb",
     "timestamp": 1729844448965
    }
   ]
  },
  "kernelspec": {
   "display_name": "Python 3 (ipykernel)",
   "language": "python",
   "name": "python3"
  },
  "language_info": {
   "codemirror_mode": {
    "name": "ipython",
    "version": 3
   },
   "file_extension": ".py",
   "mimetype": "text/x-python",
   "name": "python",
   "nbconvert_exporter": "python",
   "pygments_lexer": "ipython3",
   "version": "3.10.12"
  }
 },
 "nbformat": 4,
 "nbformat_minor": 4
}
